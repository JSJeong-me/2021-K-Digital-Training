{
 "cells": [
  {
   "cell_type": "code",
   "execution_count": null,
   "id": "arbitrary-diary",
   "metadata": {},
   "outputs": [],
   "source": []
  },
  {
   "cell_type": "code",
   "execution_count": 1,
   "id": "moved-longitude",
   "metadata": {},
   "outputs": [],
   "source": [
    "from selenium import webdriver as wd\n",
    "from bs4 import BeautifulSoup as bs\n",
    "from selenium.webdriver.common.by import By\n",
    "# 명시적 대기를 위해 \n",
    "from selenium.webdriver.support.ui import WebDriverWait\n",
    "from selenium.webdriver.support import expected_conditions as EC\n",
    "\n",
    "import time"
   ]
  },
  {
   "cell_type": "code",
   "execution_count": 2,
   "id": "enclosed-speaker",
   "metadata": {},
   "outputs": [],
   "source": [
    "# 상품 정보를 담는 클레스\n",
    "class TourInfo:\n",
    "    # 맴버변수 (실제 컬럼보다는 작게 세팅했음)\n",
    "    title = ''\n",
    "    price = ''\n",
    "    area  = ''\n",
    "    link  = ''\n",
    "    img   = ''\n",
    "    contents = ''\n",
    "    # 생성자\n",
    "    def __init__(self, title, price, area, link, img, contents=None ):\n",
    "        self.title = title\n",
    "        self.price = price\n",
    "        self.area  = area\n",
    "        self.link  = link\n",
    "        self.img   = img\n",
    "        self.contents = contents"
   ]
  },
  {
   "cell_type": "code",
   "execution_count": 3,
   "id": "stunning-upper",
   "metadata": {},
   "outputs": [],
   "source": [
    "# 사전에 필요한 정보를 로드 => 디비혹스 쉘, 베치 파일에서 인자로 받아서 세팅\n",
    "\n",
    "main_url = 'http://tour.interpark.com/' \n",
    "keyword  = '로마'\n",
    "# 상품 정보를 담는 리스트 (TourInfo 리스트)\n",
    "tour_list = []"
   ]
  },
  {
   "cell_type": "code",
   "execution_count": 4,
   "id": "creative-glass",
   "metadata": {},
   "outputs": [
    {
     "name": "stderr",
     "output_type": "stream",
     "text": [
      "<ipython-input-4-be4c1778cd5a>:2: DeprecationWarning: executable_path has been deprecated, please pass in a Service object\n",
      "  driver = wd.Chrome(executable_path='.\\\\webdriver\\\\chromedriver.exe')\n"
     ]
    }
   ],
   "source": [
    "# 윈도우용\n",
    "driver = wd.Chrome(executable_path='.\\\\webdriver\\\\chromedriver.exe')"
   ]
  },
  {
   "cell_type": "code",
   "execution_count": 5,
   "id": "edd14384-7f0c-4ab2-a98c-d1540e160e4b",
   "metadata": {},
   "outputs": [],
   "source": [
    "# 사이트 접속 (get)\n",
    "driver.get(main_url)\n",
    "# 검색창을 찾아서 검색어 입력\n",
    "# id : SearchGNBText"
   ]
  },
  {
   "cell_type": "code",
   "execution_count": 6,
   "id": "0b3173af-3f43-41d8-8fcc-1ba11e5e0d92",
   "metadata": {},
   "outputs": [
    {
     "name": "stderr",
     "output_type": "stream",
     "text": [
      "C:\\Users\\i\\anaconda3\\lib\\site-packages\\selenium\\webdriver\\remote\\webdriver.py:390: UserWarning: find_element_by_* commands are deprecated. Please use find_element() instead\n",
      "  warnings.warn(\"find_element_by_* commands are deprecated. Please use find_element() instead\")\n"
     ]
    }
   ],
   "source": [
    "driver.find_element_by_id('SearchGNBText').send_keys(keyword)\n",
    "# 수정할경우 => 뒤에 내용이 붙어버림 => .clear() -> send_keys('내용')\n",
    "# 검색 버튼 클릭"
   ]
  },
  {
   "cell_type": "code",
   "execution_count": 7,
   "id": "763b7b4b-ae35-4148-bf89-629bd4bb6d98",
   "metadata": {},
   "outputs": [
    {
     "name": "stderr",
     "output_type": "stream",
     "text": [
      "C:\\Users\\i\\anaconda3\\lib\\site-packages\\selenium\\webdriver\\remote\\webdriver.py:670: UserWarning: find_element_by_* commands are deprecated. Please use find_element() instead\n",
      "  warnings.warn(\"find_element_by_* commands are deprecated. Please use find_element() instead\")\n"
     ]
    }
   ],
   "source": [
    "#time.sleep(2)\n",
    "driver.find_element_by_css_selector('button.search-btn').click()"
   ]
  },
  {
   "cell_type": "code",
   "execution_count": null,
   "id": "36f638e9-32a1-4270-bb22-23b90601c952",
   "metadata": {},
   "outputs": [],
   "source": []
  },
  {
   "cell_type": "code",
   "execution_count": null,
   "id": "9a1823a0-a4a6-47dc-91b5-0a9751a16401",
   "metadata": {},
   "outputs": [],
   "source": []
  },
  {
   "cell_type": "code",
   "execution_count": null,
   "id": "68b360aa-611f-458e-a334-b83e6a319fc0",
   "metadata": {},
   "outputs": [],
   "source": []
  },
  {
   "cell_type": "code",
   "execution_count": 8,
   "id": "a53288de-495a-451a-aede-6a1806552b62",
   "metadata": {},
   "outputs": [],
   "source": [
    "# 잠시 대기 => 페이가 로드되고 나서 즉각적으로 데이터를 획득 하는 행위는 \n",
    "# 명시적 대기 => 특정 요소가 로케이트(발결된때까지) 대기\n",
    "try:\n",
    "    element = WebDriverWait(driver, 10).until(\n",
    "        # 지정한 한개 요소가 올라오면 웨이트 종료\n",
    "        EC.presence_of_element_located( (By.CLASS_NAME, 'oTravelBox') )\n",
    "    )\n",
    "except Exception as e:\n",
    "    print( '오류 발생', e)\n",
    "# 암묵적 대기 => DOM이 다 로드 될때까지 대기 하고 먼저 로드되면 바로 진행\n",
    "# 요소를 찾을 특정 시간 동안 DOM 풀링을 지시 예를 들어 10 초이내 라로 \n",
    "# 발견 되면 진행\n",
    "driver.implicitly_wait( 10 )\n",
    "# 절대기 대기 => time.sleep(10) -> 클라우드 페어(디도스 방어  솔류션)\n",
    "# 더보기 눌러서 => 게시판 진입 "
   ]
  },
  {
   "cell_type": "markdown",
   "id": "98592a66-2db5-46b9-a731-63c1a20ab34b",
   "metadata": {},
   "source": [
    "Syntax –\n",
    ">driver.find_element_by_css_selector(\"CSS Selectors\")\n",
    "\n",
    "-Example-\n",
    "\n",
    "<html>\n",
    "<body>\n",
    "<p class=\"content\">Site content goes here.</p>\n",
    "</body>\n",
    "<html>\n",
    "\n",
    "    \n",
    ">content = driver.find_element_by_css_selector('p.content')"
   ]
  },
  {
   "cell_type": "code",
   "execution_count": 9,
   "id": "a44eaf4b-1566-4f7e-9896-6a7b552acf09",
   "metadata": {},
   "outputs": [],
   "source": [
    "driver.find_element_by_css_selector('.oTravelBox>.boxList>.moreBtnWrap>.moreBtn').click()"
   ]
  },
  {
   "cell_type": "markdown",
   "id": "3a96d1cf-2707-4722-a473-97d9fc3019eb",
   "metadata": {},
   "source": [
    "해당되는 모든 요소를 찾는 fined_elements 메서드를 활용해 보세요.  그리고 css selector 문법 중에 특정 문자열로 시작되는 특성을 선택하는 방법이 있습니다.\n",
    "\n",
    "\n",
    "findings = driver.find_elements_by_css_selector(\"*[id^='custom']\")\n",
    "for finding in findings:\n",
    "    finding.find_element_by_css_selector('div > p > name')"
   ]
  },
  {
   "cell_type": "code",
   "execution_count": 10,
   "id": "capital-sierra",
   "metadata": {},
   "outputs": [
    {
     "name": "stdout",
     "output_type": "stream",
     "text": [
      "1 페이지 이동\n",
      "썸네임 http://tourimage.interpark.com/product/tour/00161/A30/280/A3015008_14_870.jpg\n",
      "링크 searchModule.OnClickDetail('http://tour.interpark.com/goods/detail/?BaseGoodsCd=A3015008','')\n",
      "상품명 [4국10일_대한항공]1급_융프라우_런던&로마 야간투어\n",
      "코멘트 #베르사유궁전내부 #바티칸하이패스\n",
      "가격 3,240,000 원~\n",
      "여행 기간 : 8박10일\n",
      "출발 가능 기간 : 2021.07.01~2021.12.30\n",
      "평점 9.7\n",
      "15개의 상품평\n",
      "====================================================================================================\n",
      "썸네임 http://tourimage.interpark.com/product/tour/00161/A30/280/A3017982_1_870.jpg\n"
     ]
    },
    {
     "name": "stderr",
     "output_type": "stream",
     "text": [
      "C:\\Users\\i\\anaconda3\\lib\\site-packages\\selenium\\webdriver\\remote\\webdriver.py:689: UserWarning: find_elements_by_* commands are deprecated. Please use find_elements() instead\n",
      "  warnings.warn(\"find_elements_by_* commands are deprecated. Please use find_elements() instead\")\n",
      "C:\\Users\\i\\anaconda3\\lib\\site-packages\\selenium\\webdriver\\remote\\webelement.py:487: UserWarning: find_element_by_* commands are deprecated. Please use find_element() instead\n",
      "  warnings.warn(\"find_element_by_* commands are deprecated. Please use find_element() instead\")\n",
      "C:\\Users\\i\\anaconda3\\lib\\site-packages\\selenium\\webdriver\\remote\\webelement.py:505: UserWarning: find_elements_by_* commands are deprecated. Please use find_elements() instead\n",
      "  warnings.warn(\"find_elements_by_* commands are deprecated. Please use find_elements() instead\")\n"
     ]
    },
    {
     "name": "stdout",
     "output_type": "stream",
     "text": [
      "링크 searchModule.OnClickDetail('http://tour.interpark.com/goods/detail/?BaseGoodsCd=A3017982','')\n",
      "상품명 [2인이상 단독여행_이탈리아 8일] 로마+피렌체+베네치아 (항공제외)\n",
      "코멘트 가이드 안내 + 자유 일정의 장점만 쏙쏙\n",
      "가격 1,600,000 원~\n",
      "여행 기간 : 6박7일\n",
      "출발 가능 기간 : 2022.12.31~2022.12.31\n",
      "평점 0.0\n",
      "0개의 상품평\n",
      "====================================================================================================\n",
      "썸네임 http://tourimage.interpark.com/product/tour/00161/A30/280/A3017907_4_580.jpg\n",
      "링크 searchModule.OnClickDetail('http://tour.interpark.com/goods/detail/?BaseGoodsCd=A3017907','')\n",
      "상품명 [소그룹_서유럽 4국10일] 런던&로마 야간투어+융프라우\n",
      "코멘트 ★소그룹_10명이상 출발 ! 최대 인원 15명 !★\n",
      "가격 3,300,000 원~\n",
      "여행 기간 : 8박10일\n",
      "출발 가능 기간 : 2021.07.01~2021.12.30\n",
      "평점 0.0\n",
      "0개의 상품평\n",
      "====================================================================================================\n",
      "썸네임 http://tourimage.interpark.com/product/tour/00161/A30/280/A3016614_1_430.jpg\n",
      "링크 searchModule.OnClickDetail('http://tour.interpark.com/goods/detail/?BaseGoodsCd=A3016614','')\n",
      "상품명 [서유럽 10일]1급호텔_천공의 도시 치비타_융프라우_런던+로마야간\n",
      "코멘트 치비타 디 바뇨레지오 내부\n",
      "가격 3,100,000 원~\n",
      "여행 기간 : 8박10일\n",
      "출발 가능 기간 : 2021.07.01~2021.12.30\n",
      "평점 0.0\n",
      "0개의 상품평\n",
      "====================================================================================================\n",
      "썸네임 http://tourimage.interpark.com/product/tour/00161/A30/280/A3012934_10_067.jpg\n",
      "링크 searchModule.OnClickDetail('http://tour.interpark.com/goods/detail/?BaseGoodsCd=A3012934','')\n",
      "상품명 [서유럽 3국 9일] 융프라우/바티칸하이패스_아시아나\n",
      "코멘트 ＃주말출발 ＃국적기이용 ＃베르사유포함\n",
      "가격 2,990,000 원~\n",
      "여행 기간 : 7박9일\n",
      "출발 가능 기간 : 2021.07.03~2021.12.26\n",
      "평점 9.2\n",
      "564개의 상품평\n",
      "====================================================================================================\n",
      "썸네임 http://tourimage.interpark.com/product/tour/00161/A30/280/A3014578_11_343.jpg\n",
      "링크 searchModule.OnClickDetail('http://tour.interpark.com/goods/detail/?BaseGoodsCd=A3014578','')\n",
      "상품명 [스위스/이태리 9일] 1급호텔+체르마트+융프라우+툰호수\n",
      "코멘트 툰호수 유람선 탑승 / 퐁뒤+티본스테이크\n",
      "가격 2,990,000 원~\n",
      "여행 기간 : 7박9일\n",
      "출발 가능 기간 : 2021.07.01~2021.12.30\n",
      "평점 9.3\n",
      "98개의 상품평\n",
      "====================================================================================================\n",
      "썸네임 http://tourimage.interpark.com/product/tour/00161/A30/280/A3012471_20_170.jpg\n",
      "링크 searchModule.OnClickDetail('http://tour.interpark.com/goods/detail/?BaseGoodsCd=A3012471','')\n",
      "상품명 [서유럽 6국 12일] 뮈렌/베르사유/3대박물관\n",
      "코멘트 #최고의유럽여행을꿈꾼다면 #서유럽일주\n",
      "가격 3,025,000 원~\n",
      "여행 기간 : 10박12일\n",
      "출발 가능 기간 : 2021.07.01~2021.12.30\n",
      "평점 8.7\n",
      "88개의 상품평\n",
      "====================================================================================================\n",
      "썸네임 http://tourimage.interpark.com/product/tour/00161/A30/280/A3013963_23_130.jpg\n",
      "링크 searchModule.OnClickDetail('http://tour.interpark.com/goods/detail/?BaseGoodsCd=A3013963','')\n",
      "상품명 [서유럽 6국 12일] 바티칸하이패스+특식+호텔UP!\n",
      "코멘트 ★선착순★ 특별한 혜택이 팡팡!!\n",
      "가격 3,175,000 원~\n",
      "여행 기간 : 10박12일\n",
      "출발 가능 기간 : 2021.07.01~2021.12.30\n",
      "평점 8.9\n",
      "85개의 상품평\n",
      "====================================================================================================\n",
      "썸네임 http://tourimage.interpark.com/product/tour/00161/A30/280/A3014604_8_990.jpg\n",
      "링크 searchModule.OnClickDetail('http://tour.interpark.com/goods/detail/?BaseGoodsCd=A3014604','')\n",
      "상품명 [스위스/이태리9일] 1급UP! 리기정상식+몽트뢰/프라이부르크\n",
      "코멘트 국적기 직항/루체른/몽트뢰/프라이부르크\n",
      "가격 2,840,000 원~\n",
      "여행 기간 : 7박9일\n",
      "출발 가능 기간 : 2021.07.01~2021.12.30\n",
      "평점 9.0\n",
      "82개의 상품평\n",
      "====================================================================================================\n",
      "썸네임 http://tourimage.interpark.com/product/tour/00161/A30/280/A3015881_21_750.jpg\n",
      "링크 searchModule.OnClickDetail('http://tour.interpark.com/goods/detail/?BaseGoodsCd=A3015881','')\n",
      "상품명 [서유럽 4국 12일] 융프라우VIP패스+남프랑스\n",
      "코멘트 융프라우 VIP패스 2DAY + 전일정 1급 호텔\n",
      "가격 3,800,000 원~\n",
      "여행 기간 : 10박12일\n",
      "출발 가능 기간 : 2021.07.01~2021.12.30\n",
      "평점 8.9\n",
      "81개의 상품평\n",
      "====================================================================================================\n",
      "[<__main__.TourInfo object at 0x0000026CFC1E4100>, <__main__.TourInfo object at 0x0000026CFC1E4130>, <__main__.TourInfo object at 0x0000026CFC240F40>, <__main__.TourInfo object at 0x0000026CFC240FA0>, <__main__.TourInfo object at 0x0000026CFC1F2CD0>, <__main__.TourInfo object at 0x0000026CFC240F70>, <__main__.TourInfo object at 0x0000026CFC240DC0>, <__main__.TourInfo object at 0x0000026CFBBF6850>, <__main__.TourInfo object at 0x0000026CFBBFE9A0>, <__main__.TourInfo object at 0x0000026CFC1D6F70>] 10\n"
     ]
    }
   ],
   "source": [
    "# searchModule.SetCategoryList(1, '') 스크립트 실행\n",
    "# 게시물을 넘어갔을때 현상을 확인차\n",
    "for page in range(1, 2): # 2):\n",
    "    try:\n",
    "        # 자바스크립트 구동하기\n",
    "        driver.execute_script(\"searchModule.SetCategoryList(%s, '')\" % page)\n",
    "        time.sleep(2)\n",
    "        print(\"%s 페이지 이동\" % page)\n",
    "        #############################################################\n",
    "        # 여러 사이트에서 정보를 수집할 경우 공통 정보 정의 단계 필요\n",
    "        # 상품명, 코멘트, 기간1, 기간2, 가격, 평점, 썸네일, 링크(상품상세정보)\n",
    "        boxItems = driver.find_elements_by_css_selector('.oTravelBox>.boxList>li')\n",
    "        # 상품 하나 하나 접근\n",
    "        for li in boxItems:\n",
    "            # 이미지를 링크값을 사용할것인가? \n",
    "            # 직접 다운로드 해서 우리 서버에 업로드(ftp) 할것인가?\n",
    "            print( '썸네임', li.find_element_by_css_selector('img').get_attribute('src') )\n",
    "            print( '링크', li.find_element_by_css_selector('a').get_attribute('onclick') )\n",
    "            print( '상품명', li.find_element_by_css_selector('h5.proTit').text )\n",
    "            print( '코멘트', li.find_element_by_css_selector('.proSub').text )\n",
    "            print( '가격',   li.find_element_by_css_selector('.proPrice').text )\n",
    "            area = ''\n",
    "            for info in li.find_elements_by_css_selector('.info-row .proInfo'):\n",
    "                print(  info.text )\n",
    "            print('='*100)\n",
    "            # 데이터 모음\n",
    "            # li.find_elements_by_css_selector('.info-row .proInfo')[1].text\n",
    "            # 데이터가 부족하거나 없을수도 있으므로 직접 인덱스로 표현은 위험성이 있음\n",
    "            obj = TourInfo(  \n",
    "                li.find_element_by_css_selector('h5.proTit').text,\n",
    "                li.find_element_by_css_selector('.proPrice').text,\n",
    "                li.find_elements_by_css_selector('.info-row .proInfo')[1].text,\n",
    "                li.find_element_by_css_selector('a').get_attribute('onclick'),\n",
    "                li.find_element_by_css_selector('img').get_attribute('src')\n",
    "            )\n",
    "            tour_list.append( obj )\n",
    "    except Exception as e1:\n",
    "        print( '오류', e1 )\n",
    "\n",
    "print( tour_list, len(tour_list) )\n"
   ]
  },
  {
   "cell_type": "code",
   "execution_count": 11,
   "id": "d812a009-39c6-4054-85a7-422792533de7",
   "metadata": {},
   "outputs": [],
   "source": [
    "time.sleep(5)"
   ]
  },
  {
   "cell_type": "code",
   "execution_count": 11,
   "id": "75e5e863-7ece-4888-aa3e-9a6116191f03",
   "metadata": {},
   "outputs": [],
   "source": [
    "driver.close()"
   ]
  },
  {
   "cell_type": "code",
   "execution_count": 12,
   "id": "ongoing-transfer",
   "metadata": {},
   "outputs": [],
   "source": [
    "#import sys\n",
    "\n",
    "#sys.exit()"
   ]
  },
  {
   "cell_type": "code",
   "execution_count": null,
   "id": "traditional-special",
   "metadata": {},
   "outputs": [],
   "source": []
  }
 ],
 "metadata": {
  "kernelspec": {
   "display_name": "Python 3",
   "language": "python",
   "name": "python3"
  },
  "language_info": {
   "codemirror_mode": {
    "name": "ipython",
    "version": 3
   },
   "file_extension": ".py",
   "mimetype": "text/x-python",
   "name": "python",
   "nbconvert_exporter": "python",
   "pygments_lexer": "ipython3",
   "version": "3.8.8"
  }
 },
 "nbformat": 4,
 "nbformat_minor": 5
}
