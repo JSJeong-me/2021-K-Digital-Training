{
 "cells": [
  {
   "cell_type": "code",
   "execution_count": null,
   "id": "naughty-spare",
   "metadata": {},
   "outputs": [],
   "source": []
  },
  {
   "cell_type": "code",
   "execution_count": null,
   "id": "extended-insurance",
   "metadata": {},
   "outputs": [],
   "source": [
    "# 소상공인 상가업소 정보 서비스 \n",
    "# https://www.data.go.kr/iim/api/selectAPIAcountView.do"
   ]
  },
  {
   "cell_type": "code",
   "execution_count": null,
   "id": "boring-destruction",
   "metadata": {},
   "outputs": [],
   "source": [
    "api_key = '2UH2UOdM6QaHz%2F8QodiEt3lHVmABPh0cJD10ObZLggTN9D9ncMNLP0vrn4prTAXStBSoaWjq8ZHIOAuYTOC5VA%3D%3D'"
   ]
  },
  {
   "cell_type": "code",
   "execution_count": null,
   "id": "parliamentary-aggregate",
   "metadata": {},
   "outputs": [],
   "source": [
    "import urllib.request"
   ]
  },
  {
   "cell_type": "code",
   "execution_count": null,
   "id": "functioning-squad",
   "metadata": {},
   "outputs": [],
   "source": [
    "#-*- coding:utf-8 -*-\n",
    "url = 'http://apis.data.go.kr/B553077/api/open/sdsc/storeListInDong?divId=ctprvnCd&key=11&ServiceKey='+api_key+'&type=json'"
   ]
  },
  {
   "cell_type": "code",
   "execution_count": null,
   "id": "round-cooperative",
   "metadata": {},
   "outputs": [],
   "source": [
    "url"
   ]
  },
  {
   "cell_type": "code",
   "execution_count": null,
   "id": "verbal-mediterranean",
   "metadata": {},
   "outputs": [],
   "source": [
    "response = urllib.request.urlopen(url)"
   ]
  },
  {
   "cell_type": "code",
   "execution_count": null,
   "id": "flush-elimination",
   "metadata": {},
   "outputs": [],
   "source": [
    "response"
   ]
  },
  {
   "cell_type": "code",
   "execution_count": null,
   "id": "fossil-exception",
   "metadata": {},
   "outputs": [],
   "source": [
    "json_str = response.read().decode(\"utf-8\")"
   ]
  },
  {
   "cell_type": "code",
   "execution_count": null,
   "id": "organizational-literature",
   "metadata": {},
   "outputs": [],
   "source": [
    "#json_str"
   ]
  },
  {
   "cell_type": "code",
   "execution_count": null,
   "id": "surface-english",
   "metadata": {},
   "outputs": [],
   "source": [
    "# json을 import 하여 문자열 -> json으로 변환"
   ]
  },
  {
   "cell_type": "code",
   "execution_count": null,
   "id": "southeast-coupon",
   "metadata": {},
   "outputs": [],
   "source": [
    "import json\n",
    "json_object = json.loads(json_str)"
   ]
  },
  {
   "cell_type": "code",
   "execution_count": null,
   "id": "entitled-applicant",
   "metadata": {},
   "outputs": [],
   "source": [
    "#json_object"
   ]
  },
  {
   "cell_type": "code",
   "execution_count": null,
   "id": "covered-gardening",
   "metadata": {},
   "outputs": [],
   "source": [
    "# pandas를 이용해 json을 DataFrame 형태로\n",
    "# 데이터를 보면 header와 body가 나뉜다. 우리가 필요한 정보는 body이니 그쪽 정보를 로드해서 pandas로 변형"
   ]
  },
  {
   "cell_type": "code",
   "execution_count": null,
   "id": "outer-grade",
   "metadata": {},
   "outputs": [],
   "source": [
    "import pandas as pd\n",
    "from pandas.io.json import json_normalize"
   ]
  },
  {
   "cell_type": "code",
   "execution_count": null,
   "id": "matched-teacher",
   "metadata": {},
   "outputs": [],
   "source": [
    "body = [json_object['body']['items']]"
   ]
  },
  {
   "cell_type": "code",
   "execution_count": null,
   "id": "suited-script",
   "metadata": {},
   "outputs": [],
   "source": [
    "#body"
   ]
  },
  {
   "cell_type": "code",
   "execution_count": null,
   "id": "unlike-therapist",
   "metadata": {},
   "outputs": [],
   "source": []
  }
 ],
 "metadata": {
  "kernelspec": {
   "display_name": "Python 3",
   "language": "python",
   "name": "python3"
  },
  "language_info": {
   "codemirror_mode": {
    "name": "ipython",
    "version": 3
   },
   "file_extension": ".py",
   "mimetype": "text/x-python",
   "name": "python",
   "nbconvert_exporter": "python",
   "pygments_lexer": "ipython3",
   "version": "3.7.6"
  }
 },
 "nbformat": 4,
 "nbformat_minor": 5
}
