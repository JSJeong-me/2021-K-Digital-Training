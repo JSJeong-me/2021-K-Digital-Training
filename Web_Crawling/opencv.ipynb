{
 "cells": [
  {
   "cell_type": "markdown",
   "metadata": {},
   "source": [
    "### Open CV"
   ]
  },
  {
   "cell_type": "code",
   "execution_count": 1,
   "metadata": {},
   "outputs": [],
   "source": [
    "import cv2\n",
    "import numpy as np"
   ]
  },
  {
   "cell_type": "code",
   "execution_count": 2,
   "metadata": {},
   "outputs": [
    {
     "name": "stdout",
     "output_type": "stream",
     "text": [
      "4.4.0\n"
     ]
    }
   ],
   "source": [
    "print(cv2.__version__)"
   ]
  },
  {
   "cell_type": "code",
   "execution_count": 8,
   "metadata": {},
   "outputs": [],
   "source": [
    "#filename = '.\\\\animal\\owl0.jpg'\n",
    "filename = '.\\\\animal\\\\raccoon0.jpg'\n",
    "\n",
    "#src = cv2.imread(filename,cv2.IMREAD_GRAYSCALE) #그레이 스케일로 변환\n",
    "# cv2.IMREAD_UNCHANGED : 이미지파일을 alpha channel까지 포함하여 읽어 들임\n",
    "src = cv2.imread(filename,cv2.IMREAD_UNCHANGED) #Color로 변환"
   ]
  },
  {
   "cell_type": "markdown",
   "metadata": {},
   "source": [
    "### https://opencv-python.readthedocs.io/en/latest/doc/01.imageStart/imageStart.html"
   ]
  },
  {
   "cell_type": "code",
   "execution_count": 4,
   "metadata": {},
   "outputs": [
    {
     "name": "stdout",
     "output_type": "stream",
     "text": [
      "1885 1414\n"
     ]
    }
   ],
   "source": [
    "print(int(src.shape[1]), int(src.shape[0]))"
   ]
  },
  {
   "cell_type": "code",
   "execution_count": 5,
   "metadata": {},
   "outputs": [],
   "source": [
    "src = cv2.resize(src, (int(src.shape[1]/5),int(src.shape[0]/5)))\n",
    "#src = cv2.resize(src, dsize=(224, 224), interpolation=cv2.INTER_AREA)\n",
    "#이미지의 크기가 워낙 크기 때문에 5분의1로 줄여서 확인\n",
    "cv2.namedWindow('image')\n",
    "cv2.imshow('image',src)"
   ]
  },
  {
   "cell_type": "code",
   "execution_count": 6,
   "metadata": {},
   "outputs": [],
   "source": [
    "k = cv2.waitKey(0)\n",
    "cv2.destroyAllWindows()"
   ]
  },
  {
   "cell_type": "code",
   "execution_count": null,
   "metadata": {},
   "outputs": [],
   "source": []
  }
 ],
 "metadata": {
  "kernelspec": {
   "display_name": "Python 3",
   "language": "python",
   "name": "python3"
  },
  "language_info": {
   "codemirror_mode": {
    "name": "ipython",
    "version": 3
   },
   "file_extension": ".py",
   "mimetype": "text/x-python",
   "name": "python",
   "nbconvert_exporter": "python",
   "pygments_lexer": "ipython3",
   "version": "3.7.6"
  }
 },
 "nbformat": 4,
 "nbformat_minor": 4
}
