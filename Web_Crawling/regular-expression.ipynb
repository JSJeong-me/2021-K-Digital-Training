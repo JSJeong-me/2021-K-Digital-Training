{
 "cells": [
  {
   "cell_type": "markdown",
   "metadata": {},
   "source": [
    "#### <span style=\"color:yellow\">정규 표현식(Regular Expression)</span>\n",
    "  - [Regular Expresion online for PYthon] https://regex101.com\n",
    "  - 기계학습에서 데이타 전처리라는 골치아프고 시간이 많이 소요는 과정을 거칩니다.\n",
    "  - 특히, 텍스트 전처리의 경우 정규표현식을 활용하면 많은 시간낭비를 줄일 수 있습니다.\n",
    "  - 다음에 정리한 것은 wikidoc.net 책자에서 정리한 것입니다.\n",
    "  - 정규표현식을 완전히 익히고 잘 다루려면 많은 연습이 필요합니다.\n",
    "  - 그래서 이 연습을 하기 위한 기본 1장 1절을 정리한 것이나 아주 유용합니다.\n",
    "  - 간단하지만 시간이 지나면 바로 잊어버리는 것이 정규표현식입니다.\n",
    "  - 시간이 날때마다 지속적으로 또는 주기적으로 들어와 기본을 익히시기 바랍니다.\n",
    "  - 그러면 어느 순간 정규표현식을 아주 자유롭게 다룰 수 있습니다.\n",
    "  - 그 날이 올때까지 보고 또 보고 심심할 때마다 응용하는 연습을 하시기 바랍니다.\n",
    "----"
   ]
  },
  {
   "cell_type": "code",
   "execution_count": null,
   "metadata": {},
   "outputs": [],
   "source": [
    "import re             # 정규 표현식 모듈 re"
   ]
  },
  {
   "cell_type": "markdown",
   "metadata": {},
   "source": [
    "----\n",
    "##### 1) <span style=\"color:yellow\">. 기호</span>\n",
    "   - .은 한 개의 임의의 문자를 나타냄 "
   ]
  },
  {
   "cell_type": "code",
   "execution_count": null,
   "metadata": {},
   "outputs": [],
   "source": [
    "r = re.compile(\"a.c\") # a와 c 사이에는 어떤 1개의 문자라도 올 수 있다. "
   ]
  },
  {
   "cell_type": "code",
   "execution_count": null,
   "metadata": {},
   "outputs": [],
   "source": [
    "r.search(\"kkk\")       # 아무런 결과도 출력되지 않는다."
   ]
  },
  {
   "cell_type": "code",
   "execution_count": null,
   "metadata": {},
   "outputs": [],
   "source": [
    "r.search(\"abc\")"
   ]
  },
  {
   "cell_type": "markdown",
   "metadata": {},
   "source": [
    "----\n",
    "##### 2) <span style=\"color:yellow\">? 기호</span>\n",
    "  - ?는 ? 앞의 문자가 존재할 수도 있고, 존재하지 않을 수도 있는 경우 표현"
   ]
  },
  {
   "cell_type": "code",
   "execution_count": null,
   "metadata": {},
   "outputs": [],
   "source": [
    "r = re.compile(\"ab?c\")   # b는 있다고 취급할 수도 있고, 없다고 취급 할 수도"
   ]
  },
  {
   "cell_type": "code",
   "execution_count": null,
   "metadata": {},
   "outputs": [],
   "source": [
    "r.search(\"abbc\")         # 아무런 결과도 출력되지 않는다."
   ]
  },
  {
   "cell_type": "code",
   "execution_count": null,
   "metadata": {},
   "outputs": [],
   "source": [
    "print(r.search(\"abc\"))  # b가 있는 것으로 판단하여 abc를 매치\n",
    "print(r.search(\"ac\"))   # b가 없는 것으로 판단하여 ac를 매치"
   ]
  },
  {
   "cell_type": "code",
   "execution_count": null,
   "metadata": {},
   "outputs": [],
   "source": [
    "re.search(\"ab?c\", \"abc\") # 미리 컴파일하지 않고 그때 그때(속도 느림)"
   ]
  },
  {
   "cell_type": "markdown",
   "metadata": {},
   "source": [
    "----\n",
    "##### 3) <span style=\"color:yellow\">* 기호</span>\n",
    "  - *은 바로 앞의 문자가 0개 이상일 경우를 표현"
   ]
  },
  {
   "cell_type": "code",
   "execution_count": null,
   "metadata": {},
   "outputs": [],
   "source": [
    "r = re.compile(\"ab*c\")\n",
    "r.search(\"a\")              # 아무런 결과도 출력되지 않는다."
   ]
  },
  {
   "cell_type": "code",
   "execution_count": null,
   "metadata": {},
   "outputs": [],
   "source": [
    "print(r.search(\"ac\"))      # b가 0 개\n",
    "print(r.search(\"abc\"))     # b가 1 개\n",
    "print(r.search(\"abbbbc\"))  # b가 4 개"
   ]
  },
  {
   "cell_type": "markdown",
   "metadata": {},
   "source": [
    "##### 4) <span style=\"color:yellow\">+ 기호</span>\n",
    "  - +은 바로 앞의 문자가 1개 이상일 경우를 표현"
   ]
  },
  {
   "cell_type": "code",
   "execution_count": null,
   "metadata": {},
   "outputs": [],
   "source": [
    "r = re.compile(\"ab+c\")\n",
    "r.search(\"ac\")            # 아무런 결과도 출력되지 않는다."
   ]
  },
  {
   "cell_type": "code",
   "execution_count": null,
   "metadata": {},
   "outputs": [],
   "source": [
    "print(r.search(\"abc\"))     # b가 1 개\n",
    "print(r.search(\"abbbbc\"))  # b가 4 개"
   ]
  },
  {
   "cell_type": "markdown",
   "metadata": {},
   "source": [
    "----\n",
    "##### 5) <span style=\"color:yellow\">^ 기호</span>\n",
    "  - ^는 시작되는 글자를 지정"
   ]
  },
  {
   "cell_type": "code",
   "execution_count": null,
   "metadata": {},
   "outputs": [],
   "source": [
    "r = re.compile(\"^a\")\n",
    "r.search(\"bbc\")            # 아무런 결과도 출력되지 않는다."
   ]
  },
  {
   "cell_type": "code",
   "execution_count": null,
   "metadata": {},
   "outputs": [],
   "source": [
    "r.search(\"ab\")             # a로 시작되는 문자열만을 찾아냅니다."
   ]
  },
  {
   "cell_type": "markdown",
   "metadata": {},
   "source": [
    "----\n",
    "##### 6) <span style=\"color:yellow\">{숫자} 기호</span>\n",
    "  - 문자에 해당 기호를 붙이면, 해당 문자를 숫자만큼 반복한 것을 표현"
   ]
  },
  {
   "cell_type": "code",
   "execution_count": null,
   "metadata": {},
   "outputs": [],
   "source": [
    "# a와 c 사이에 b가 존재하면서 b가 2개인 문자열에 대해서 매치\n",
    "r = re.compile(\"ab{2}c\")\n",
    "\n",
    "r.search(\"ac\")              # 아무런 결과도 출력되지 않는다.\n",
    "r.search(\"abc\")             # 아무런 결과도 출력되지 않는다."
   ]
  },
  {
   "cell_type": "code",
   "execution_count": null,
   "metadata": {},
   "outputs": [],
   "source": [
    "print(r.search(\"abbc\"))     # b기 정확하게 2개 나오면 메치\n",
    "print(r.search(\"abbbbbc\"))  # 아무런 결과도 출력되지 않는다"
   ]
  },
  {
   "cell_type": "markdown",
   "metadata": {},
   "source": [
    "----\n",
    "##### 7) <span style=\"color:yellow\"> {숫자1, 숫자2} 기호</span>\n",
    "  - 해당 문자를 숫자1 이상 숫자2 이하만큼 반복하면 매치"
   ]
  },
  {
   "cell_type": "code",
   "execution_count": null,
   "metadata": {},
   "outputs": [],
   "source": [
    "r = re.compile(\"ab{2,8}c\")\n",
    "\n",
    "r.search(\"ac\")            # 아무런 결과도 출력되지 않는다.\n",
    "r.search(\"ac\")            # 아무런 결과도 출력되지 않는다.\n",
    "r.search(\"abc\")           # 아무런 결과도 출력되지 않는다."
   ]
  },
  {
   "cell_type": "code",
   "execution_count": null,
   "metadata": {},
   "outputs": [],
   "source": [
    "print(r.search(\"abbc\"))        # b가 2개\n",
    "print(r.search(\"abbbbbbbbc\"))  # b가 8개"
   ]
  },
  {
   "cell_type": "code",
   "execution_count": null,
   "metadata": {},
   "outputs": [],
   "source": [
    "r.search(\"abbbbbbbbbc\") # 아무런 결과도 출력되지 않는다."
   ]
  },
  {
   "cell_type": "markdown",
   "metadata": {},
   "source": [
    "----\n",
    "##### 8) <span style=\"color:yellow\"> {숫자1,} 기호</span>\n",
    "  - 해당 문자를 숫자1 이상 만큼 반복하면 매치"
   ]
  },
  {
   "cell_type": "code",
   "execution_count": null,
   "metadata": {},
   "outputs": [],
   "source": [
    "r=re.compile(\"a{2,}bc\")\n",
    "\n",
    "r.search(\"bc\") # 아무런 결과도 출력되지 않는다.\n",
    "r.search(\"aa\") # 아무런 결과도 출력되지 않는다."
   ]
  },
  {
   "cell_type": "code",
   "execution_count": null,
   "metadata": {},
   "outputs": [],
   "source": [
    "print(r.search(\"aabc\"))         # a가 2개 이어서 bc 매치\n",
    "print(r.search(\"aaaaaaaabc\"))   # a가 8개 이어서 bc 매치"
   ]
  },
  {
   "cell_type": "markdown",
   "metadata": {},
   "source": [
    "----\n",
    "##### 9) <span style=\"color:yellow\"> [ ] 기호</span>\n",
    "  - [ ]안에 문자들을 넣으면 그 문자들 중 한 개의 문자와 매치라는 의미"
   ]
  },
  {
   "cell_type": "code",
   "execution_count": null,
   "metadata": {},
   "outputs": [],
   "source": [
    "r  = re.compile(\"[abc]\")    # [abc]는 [a-c]와 같다.\n",
    "r.search(\"zzz\")             # 아무런 결과도 출력되지 않는다."
   ]
  },
  {
   "cell_type": "code",
   "execution_count": null,
   "metadata": {},
   "outputs": [],
   "source": [
    "print(r.search(\"a\"))\n",
    "print(r.search(\"aaaaaaa\"))\n",
    "print(r.search(\"baac\"))\n",
    "print(r.search(\"cbaa\"))\n",
    "print(r.search(\"aBC\"))\n",
    "print(r.search(\"111\"))       # 아무런 결과도 출력되지 않는다."
   ]
  },
  {
   "cell_type": "markdown",
   "metadata": {},
   "source": [
    "----\n",
    "##### 10) <span style=\"color:yellow\"> [^문자] 기호</span>\n",
    "  - [^문자]는 5)에서 설명한 ^와는 완전히 다른 의미\n",
    "  - 여기서는 ^ 기호 뒤에 붙은 문자들을 제외한 모든 문자를 매치"
   ]
  },
  {
   "cell_type": "code",
   "execution_count": null,
   "metadata": {},
   "outputs": [],
   "source": [
    "# a 또는 b 또는 c가 들어간 문자열을 제외한 모든 문자열을 매치합니다.\n",
    "r = re.compile(\"[^abc]\")\n",
    "\n",
    "r.search(\"a\")  # 아무런 결과도 출력되지 않는다.\n",
    "r.search(\"ab\") # 아무런 결과도 출력되지 않는다.\n",
    "r.search(\"b\")  # 아무런 결과도 출력되지 않는다."
   ]
  },
  {
   "cell_type": "code",
   "execution_count": null,
   "metadata": {},
   "outputs": [],
   "source": [
    "print(r.search(\"d\"))\n",
    "print(r.search(\"1\"))\n",
    "print(r.search(\"X\") )"
   ]
  },
  {
   "cell_type": "markdown",
   "metadata": {},
   "source": [
    "____\n",
    "#### <span style=\"color:yellow\"> 정규 표현식 모듈 함수 예제</span>\n",
    "----"
   ]
  },
  {
   "cell_type": "markdown",
   "metadata": {},
   "source": [
    "##### (1) <span style=\"color:yellow\"> re.match() 와 re.search()의 차이</span>\n",
    "  - search()가 정규 표현식 전체에 대해서 문자열이 매치하는지를 본다면, match()는 문자열의 첫 부분부터 정규 표현식과 매치하는지를 확인합니다. \n",
    "  - 문자열 중간에 찾을 패턴이 있다고 하더라도, match 함수는 문자열의 시작에서 패턴이 일치하지 않으면 찾지 않습니다."
   ]
  },
  {
   "cell_type": "code",
   "execution_count": null,
   "metadata": {},
   "outputs": [],
   "source": [
    "import re\n",
    "r = re.compile(\"ab.\")"
   ]
  },
  {
   "cell_type": "code",
   "execution_count": null,
   "metadata": {},
   "outputs": [],
   "source": [
    "r.search(\"kkkabc\")  "
   ]
  },
  {
   "cell_type": "code",
   "execution_count": null,
   "metadata": {},
   "outputs": [],
   "source": [
    "r.match(\"kkkabc\")  #아무런 결과도 출력되지 않는다."
   ]
  },
  {
   "cell_type": "code",
   "execution_count": null,
   "metadata": {},
   "outputs": [],
   "source": [
    "r.match(\"abckkk\")  "
   ]
  },
  {
   "cell_type": "markdown",
   "metadata": {},
   "source": [
    "----\n",
    "##### (2) <span style=\"color:yellow\"> re.split()</span>\n",
    "  - split() 함수는 입력된 정규 표현식을 기준으로 문자열들을 분리하여 리스트로 리턴합니다. \n",
    "  - 자연어 처리에 있어서 가장 많이 사용되는 정규 표현식 함수 중 하나인데, 토큰화에 유용하게 쓰일 수 있기 때문입니다."
   ]
  },
  {
   "cell_type": "code",
   "execution_count": null,
   "metadata": {},
   "outputs": [],
   "source": [
    "import re\n",
    "\n",
    "text = \"사과 딸기 수박 메론 바나나\"\n",
    "re.split(\" \",text)  # text.split()"
   ]
  },
  {
   "cell_type": "code",
   "execution_count": null,
   "metadata": {},
   "outputs": [],
   "source": [
    "text.split()"
   ]
  },
  {
   "cell_type": "code",
   "execution_count": null,
   "metadata": {},
   "outputs": [],
   "source": [
    "text = \\\n",
    "\"\"\"\n",
    "사과\n",
    "딸기\n",
    "수박\n",
    "메론\n",
    "바나나\n",
    "\"\"\"\n",
    "\n",
    "re.split(\"\\n\",text)"
   ]
  },
  {
   "cell_type": "code",
   "execution_count": null,
   "metadata": {},
   "outputs": [],
   "source": [
    "text.split('\\n')"
   ]
  },
  {
   "cell_type": "code",
   "execution_count": null,
   "metadata": {},
   "outputs": [],
   "source": [
    "text = \"사과+딸기+수박+메론+바나나\"\n",
    "\n",
    "re.split(\"\\+\",text) "
   ]
  },
  {
   "cell_type": "code",
   "execution_count": null,
   "metadata": {},
   "outputs": [],
   "source": [
    "text.split('+')"
   ]
  },
  {
   "cell_type": "markdown",
   "metadata": {},
   "source": [
    "----\n",
    "##### (3) <span style=\"color:yellow\"> re.findall()</span>\n",
    "  - findall() 함수는 정규 표현식과 매치되는 모든 문자열들을 리스트로 리턴합니다. \n",
    "  - 단, 매치되는 문자열이 없다면 빈 리스트를 리턴합니다."
   ]
  },
  {
   "cell_type": "code",
   "execution_count": null,
   "metadata": {},
   "outputs": [],
   "source": [
    "import re\n",
    "\n",
    "text = \"\"\"이름 : 김철수\n",
    "전화번호 : 010 - 1234 - 1234\n",
    "나이 : 30\n",
    "성별 : 남\"\"\"\n",
    "\n",
    "re.findall(\"\\d+\",text)"
   ]
  },
  {
   "cell_type": "code",
   "execution_count": null,
   "metadata": {},
   "outputs": [],
   "source": [
    "re.findall(\"\\d+\", \"문자열입니다.\") # 빈 리스트를 리턴한다."
   ]
  },
  {
   "cell_type": "markdown",
   "metadata": {},
   "source": [
    "----\n",
    "##### (4) <span style=\"color:yellow\"> re.sub()</span>\n",
    "  - sub() 함수는 정규 표현식 패턴과 일치하는 문자열을 찾아 다른 문자열로 대체할 수 있습니다."
   ]
  },
  {
   "cell_type": "code",
   "execution_count": null,
   "metadata": {},
   "outputs": [],
   "source": [
    "import re\n",
    "\n",
    "text = \"Regular expression : A regular expression, regex or regexp[1] (sometimes called a rational expression)[2][3] is, in theoretical computer science and formal language theory, a sequence of characters that define a search pattern.\"\n",
    "\n",
    "re.sub('[^a-zA-Z]',' ',text)"
   ]
  },
  {
   "cell_type": "code",
   "execution_count": null,
   "metadata": {},
   "outputs": [],
   "source": [
    "p = re.compile(\"(내|나의|네꺼)\")\n",
    "\n",
    "p.sub(\"그의\", \"나의 물건에 손대지 마시오.\")\n",
    "# 나의 ==> 그의  로 대치되는 재미있는 sub"
   ]
  },
  {
   "cell_type": "markdown",
   "metadata": {},
   "source": [
    "----\n",
    "##### <span style=\"color:yellow\"> 정규 표현식 텍스트 전처리 예제</span>"
   ]
  },
  {
   "cell_type": "code",
   "execution_count": null,
   "metadata": {},
   "outputs": [],
   "source": [
    "import re  \n",
    "\n",
    "text = \"\"\"100 John    PROF\n",
    "101 James   STUD\n",
    "102 Mac   STUD\"\"\"  \n",
    "\n",
    "re.split('\\s+', text)"
   ]
  },
  {
   "cell_type": "code",
   "execution_count": null,
   "metadata": {},
   "outputs": [],
   "source": [
    "re.findall('\\d+',text)   # 최소 1개 이상의 숫자 추출"
   ]
  },
  {
   "cell_type": "code",
   "execution_count": null,
   "metadata": {},
   "outputs": [],
   "source": [
    "re.findall('[A-Z]{4}',text) # 대문자가 연속적으로 4번 등장하는 경우"
   ]
  },
  {
   "cell_type": "code",
   "execution_count": null,
   "metadata": {},
   "outputs": [],
   "source": [
    "re.findall('[A-Z][a-z]+',text) # 첫번째 대문자 다음은 소문자 추출"
   ]
  },
  {
   "cell_type": "code",
   "execution_count": null,
   "metadata": {},
   "outputs": [],
   "source": [
    "# 아래 코드는 영문자가 아닌 문자는 전부 공백으로 치환합니다.\n",
    "letters_only = re.sub('[^a-zA-Z]', ' ', text)\n",
    "letters_only"
   ]
  },
  {
   "cell_type": "code",
   "execution_count": null,
   "metadata": {},
   "outputs": [],
   "source": [
    "letters_only.split() # convert from str to list"
   ]
  },
  {
   "cell_type": "code",
   "execution_count": null,
   "metadata": {},
   "outputs": [],
   "source": [
    "text = \"\"\"신 의원은 “기상예보의 정확도는 담당자의 전문성에 비례한다”며 “기상관측 직원들의 교육과 훈련을 강화해야 한다”고 말했다.\n",
    "사지원 기자 4g1@donga.com\"\"\"\n",
    "\n",
    "print(text)"
   ]
  },
  {
   "cell_type": "code",
   "execution_count": null,
   "metadata": {},
   "outputs": [],
   "source": [
    "import re\n",
    "\n",
    "# 기사에서 기자의 email 주소 삭제\n",
    "re.sub(\"[0-9a-zA-Z_\\+]+@[a-z]+\\.com\", '', text)"
   ]
  },
  {
   "cell_type": "markdown",
   "metadata": {},
   "source": [
    "----\n",
    "##### <span style=\"color:yellow\"> 정규 표현식을 이용한 토큰화</span>\n",
    "  - NLTK에서는 정규 표현식을 사용해서 단어 토큰화를 수행하는 RegexpTokenizer를 지원합니다. \n",
    "  - RegexpTokenizer()에서 괄호 안에 원하는 정규 표현식을 넣어서 토큰화를 수행하는 것입니다."
   ]
  },
  {
   "cell_type": "code",
   "execution_count": null,
   "metadata": {},
   "outputs": [],
   "source": [
    "import nltk\n",
    "from nltk.tokenize import RegexpTokenizer\n",
    "\n",
    "text = \"Don't be fooled by the dark sounding name, Mr. Jone's Orphanage is as cheery as cheery goes for a pastry shop\"\n",
    "print(text)\n",
    "\n",
    "tokenizer=RegexpTokenizer(\"[\\w]+\")\n",
    "print(tokenizer.tokenize(text))\n"
   ]
  },
  {
   "cell_type": "code",
   "execution_count": null,
   "metadata": {},
   "outputs": [],
   "source": [
    "import nltk\n",
    "from nltk.tokenize import RegexpTokenizer\n",
    "\n",
    "tokenizer=RegexpTokenizer(\"[\\s]+\", gaps=True)\n",
    "print(tokenizer.tokenize(text))"
   ]
  },
  {
   "cell_type": "code",
   "execution_count": null,
   "metadata": {},
   "outputs": [],
   "source": [
    "tokenizer=RegexpTokenizer(\"[\\s]+\", gaps=False)\n",
    "print(tokenizer.tokenize(text))"
   ]
  },
  {
   "cell_type": "code",
   "execution_count": null,
   "metadata": {},
   "outputs": [],
   "source": []
  }
 ],
 "metadata": {
  "kernelspec": {
   "display_name": "Python 3",
   "language": "python",
   "name": "python3"
  },
  "language_info": {
   "codemirror_mode": {
    "name": "ipython",
    "version": 3
   },
   "file_extension": ".py",
   "mimetype": "text/x-python",
   "name": "python",
   "nbconvert_exporter": "python",
   "pygments_lexer": "ipython3",
   "version": "3.7.6"
  }
 },
 "nbformat": 4,
 "nbformat_minor": 4
}
