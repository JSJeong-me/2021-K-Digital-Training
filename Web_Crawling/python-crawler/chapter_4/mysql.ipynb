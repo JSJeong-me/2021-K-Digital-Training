{
 "cells": [
  {
   "cell_type": "code",
   "execution_count": null,
   "id": "8f85aaa6-a6bc-4f26-ab67-caf3df4042b2",
   "metadata": {},
   "outputs": [],
   "source": [
    "#!pip install mysql"
   ]
  },
  {
   "cell_type": "code",
   "execution_count": 2,
   "id": "4f5bc144-fc9e-4a3b-ae9b-45fc0584075d",
   "metadata": {},
   "outputs": [],
   "source": [
    "import MySQLdb"
   ]
  },
  {
   "cell_type": "code",
   "execution_count": 3,
   "id": "85e9af9f-47f0-4630-89a9-419662241a90",
   "metadata": {},
   "outputs": [],
   "source": [
    "# 데이터베이스 연결하기\n",
    "connection = MySQLdb.connect(\n",
    "    user=\"root\",\n",
    "    passwd=\"8475\",\n",
    "    host=\"localhost\",\n",
    "    db=\"tip\",\n",
    "    charset=\"utf8\")"
   ]
  },
  {
   "cell_type": "code",
   "execution_count": 4,
   "id": "ba5b9015-16b1-4484-93f3-f262bf1ac7e3",
   "metadata": {},
   "outputs": [],
   "source": [
    "# 커서 생성하기\n",
    "cursor = connection.cursor()"
   ]
  },
  {
   "cell_type": "code",
   "execution_count": 5,
   "id": "2668ed6c-9ad7-4874-992e-665c47192160",
   "metadata": {},
   "outputs": [
    {
     "data": {
      "text/plain": [
       "0"
      ]
     },
     "execution_count": 5,
     "metadata": {},
     "output_type": "execute_result"
    }
   ],
   "source": [
    "# 실행할 때마다 다른 결과가 나오지 않게 테이블을 제거해두기\n",
    "cursor.execute(\"DROP TABLE IF EXISTS books\")"
   ]
  },
  {
   "cell_type": "code",
   "execution_count": 6,
   "id": "86fc9888-4983-45db-bf83-7ea74254c01c",
   "metadata": {},
   "outputs": [
    {
     "data": {
      "text/plain": [
       "0"
      ]
     },
     "execution_count": 6,
     "metadata": {},
     "output_type": "execute_result"
    }
   ],
   "source": [
    "# 테이블 생성하기\n",
    "cursor.execute(\"CREATE TABLE books (title text, url text)\")"
   ]
  },
  {
   "cell_type": "code",
   "execution_count": 7,
   "id": "2e8baaf5-1292-4be2-acb6-546acac06f0e",
   "metadata": {},
   "outputs": [
    {
     "data": {
      "text/plain": [
       "1"
      ]
     },
     "execution_count": 7,
     "metadata": {},
     "output_type": "execute_result"
    }
   ],
   "source": [
    "# 데이터 저장하기\n",
    "cursor.execute(\"INSERT INTO books VALUES(%s, %s)\", (\"처음 시작하는 파이썬 프로그래밍\", \"https://example.com\"))"
   ]
  },
  {
   "cell_type": "code",
   "execution_count": 8,
   "id": "6432646c-64f6-444f-b124-aa7980c778d4",
   "metadata": {},
   "outputs": [],
   "source": [
    "# 커밋하기\n",
    "connection.commit()"
   ]
  },
  {
   "cell_type": "code",
   "execution_count": 9,
   "id": "06f1df86-c243-4511-afba-0b091de61e07",
   "metadata": {},
   "outputs": [],
   "source": [
    "# 연결 종료하기\n",
    "connection.close()"
   ]
  },
  {
   "cell_type": "code",
   "execution_count": null,
   "id": "5e141a73-9f37-4eee-ac05-3b51cb03bd53",
   "metadata": {},
   "outputs": [],
   "source": []
  }
 ],
 "metadata": {
  "kernelspec": {
   "display_name": "Python Multi",
   "language": "python",
   "name": "multi"
  },
  "language_info": {
   "codemirror_mode": {
    "name": "ipython",
    "version": 3
   },
   "file_extension": ".py",
   "mimetype": "text/x-python",
   "name": "python",
   "nbconvert_exporter": "python",
   "pygments_lexer": "ipython3",
   "version": "3.7.6"
  }
 },
 "nbformat": 4,
 "nbformat_minor": 5
}
