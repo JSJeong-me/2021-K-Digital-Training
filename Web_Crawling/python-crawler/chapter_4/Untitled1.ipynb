{
 "cells": [
  {
   "cell_type": "code",
   "execution_count": null,
   "id": "0bae4638-97f2-43c6-bf6f-c52495284f62",
   "metadata": {},
   "outputs": [],
   "source": []
  },
  {
   "cell_type": "code",
   "execution_count": 1,
   "id": "f83737aa-df84-4283-9152-9c9c454fa367",
   "metadata": {},
   "outputs": [],
   "source": [
    "import requests"
   ]
  },
  {
   "cell_type": "code",
   "execution_count": 2,
   "id": "effc5506-7d78-4348-a7ca-d2c171eda48a",
   "metadata": {},
   "outputs": [],
   "source": [
    "r = requests.get(\"http://rank.search.naver.com/rank.js\")"
   ]
  },
  {
   "cell_type": "code",
   "execution_count": 3,
   "id": "5d780036-1b35-4a32-86d8-0238795f713f",
   "metadata": {},
   "outputs": [
    {
     "data": {
      "text/plain": [
       "200"
      ]
     },
     "execution_count": 3,
     "metadata": {},
     "output_type": "execute_result"
    }
   ],
   "source": [
    "r.status_code"
   ]
  },
  {
   "cell_type": "code",
   "execution_count": 4,
   "id": "2928aa8f-ac38-4617-9825-ece17526078f",
   "metadata": {},
   "outputs": [],
   "source": [
    "json = r.json()"
   ]
  },
  {
   "cell_type": "code",
   "execution_count": 5,
   "id": "e672f454-c3cb-464c-ad36-2bf0eab9c5c9",
   "metadata": {},
   "outputs": [
    {
     "name": "stdout",
     "output_type": "stream",
     "text": [
      "1  -\n",
      "2  -\n",
      "3  -\n",
      "4  -\n",
      "5  -\n",
      "6  -\n",
      "7  -\n",
      "8  -\n",
      "9  -\n",
      "10  -\n",
      "11  -\n",
      "12  -\n",
      "13  -\n",
      "14  -\n",
      "15  -\n",
      "16  -\n",
      "17  -\n",
      "18  -\n",
      "19  -\n",
      "20  -\n"
     ]
    }
   ],
   "source": [
    "for rank in json[\"data\"][0][\"data\"]:\n",
    "    print(rank[\"rank\"], \"\", rank[\"keyword\"])"
   ]
  },
  {
   "cell_type": "code",
   "execution_count": null,
   "id": "e587d3ad-ba92-43f4-b4e8-7bfdaef8336f",
   "metadata": {},
   "outputs": [],
   "source": []
  }
 ],
 "metadata": {
  "kernelspec": {
   "display_name": "Python 3",
   "language": "python",
   "name": "python3"
  },
  "language_info": {
   "codemirror_mode": {
    "name": "ipython",
    "version": 3
   },
   "file_extension": ".py",
   "mimetype": "text/x-python",
   "name": "python",
   "nbconvert_exporter": "python",
   "pygments_lexer": "ipython3",
   "version": "3.8.8"
  }
 },
 "nbformat": 4,
 "nbformat_minor": 5
}
