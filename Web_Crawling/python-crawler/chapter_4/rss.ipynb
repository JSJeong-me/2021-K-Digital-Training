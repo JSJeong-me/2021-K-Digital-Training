{
 "cells": [
  {
   "cell_type": "code",
   "execution_count": null,
   "id": "c6c109a8-55f2-4883-95ca-471fd822c7da",
   "metadata": {},
   "outputs": [],
   "source": []
  },
  {
   "cell_type": "code",
   "execution_count": null,
   "id": "2d1f4c76-b83c-45b0-a29f-9d96174bd7fc",
   "metadata": {},
   "outputs": [],
   "source": [
    "import feedparser"
   ]
  },
  {
   "cell_type": "code",
   "execution_count": null,
   "id": "9744c915-b137-4110-ac61-ff06c66d7ff0",
   "metadata": {},
   "outputs": [],
   "source": [
    "# URL을 지정해서 FeedParserDict 객체를 생성합니다.\n",
    "rss = feedparser.parse(\"http://www.aladin.co.kr/rss/special_new/351\")"
   ]
  },
  {
   "cell_type": "code",
   "execution_count": null,
   "id": "32a07f73-2154-4633-8c48-60113c66638f",
   "metadata": {},
   "outputs": [],
   "source": [
    "# RSS의 버전을 출력합니다.\n",
    "print(rss.version)\n",
    "\n",
    "# 피드의 타이틀과 콘텐츠의 생성 날짜를 출력합니다.\n",
    "print(rss[\"feed\"][\"title\"])\n",
    "\n",
    "# 엔트리들의 제목과 링크를 출력합니다.\n",
    "for content in rss[\"entries\"]:\n",
    "    print(content[\"title\"])\n",
    "    print(content[\"link\"])"
   ]
  },
  {
   "cell_type": "code",
   "execution_count": null,
   "id": "19fc3c01-b4d1-478b-b5eb-9fd2abc3d79f",
   "metadata": {},
   "outputs": [],
   "source": []
  }
 ],
 "metadata": {
  "kernelspec": {
   "display_name": "Python 3",
   "language": "python",
   "name": "python3"
  },
  "language_info": {
   "codemirror_mode": {
    "name": "ipython",
    "version": 3
   },
   "file_extension": ".py",
   "mimetype": "text/x-python",
   "name": "python",
   "nbconvert_exporter": "python",
   "pygments_lexer": "ipython3",
   "version": "3.8.8"
  }
 },
 "nbformat": 4,
 "nbformat_minor": 5
}
