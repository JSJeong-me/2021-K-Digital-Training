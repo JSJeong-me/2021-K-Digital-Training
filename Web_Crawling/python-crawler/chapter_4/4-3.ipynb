{
 "cells": [
  {
   "cell_type": "code",
   "execution_count": null,
   "id": "bd1b8266-ddd8-42a8-897c-7f3b6f299622",
   "metadata": {},
   "outputs": [],
   "source": []
  },
  {
   "cell_type": "code",
   "execution_count": 1,
   "id": "14b2eade-ba56-4e2f-b42c-38a934d5294d",
   "metadata": {},
   "outputs": [],
   "source": [
    "import requests\n",
    "import lxml.html"
   ]
  },
  {
   "cell_type": "code",
   "execution_count": 2,
   "id": "6b422ad3-4cdc-4643-834d-a66aa5b03a0e",
   "metadata": {},
   "outputs": [],
   "source": [
    "# HTML 소스 코드를 읽어 들입니다.\n",
    "r = requests.get(\"http://wikibook.co.kr/python-for-web-scraping/\")"
   ]
  },
  {
   "cell_type": "code",
   "execution_count": null,
   "id": "2d0acb15-82d8-4826-b49e-4c4c78e6ce2b",
   "metadata": {},
   "outputs": [],
   "source": []
  },
  {
   "cell_type": "code",
   "execution_count": 3,
   "id": "9aa7439a-5038-4a86-acd8-6125a1f338d2",
   "metadata": {},
   "outputs": [],
   "source": [
    "html = r.text"
   ]
  },
  {
   "cell_type": "code",
   "execution_count": 7,
   "id": "0c61d0b8-3ce5-43ec-a572-d1657d79a4a3",
   "metadata": {},
   "outputs": [
    {
     "name": "stdout",
     "output_type": "stream",
     "text": [
      "파이썬을 이용한 웹 크롤링과 스크레이핑\n"
     ]
    }
   ],
   "source": [
    "# HTML을 HtmlElement 객체로 변환합니다.\n",
    "root = lxml.html.fromstring(html)\n",
    "\n",
    "# XPath를 사용해서 요소를 추출합니다.\n",
    "#titleElement = root.xpath('//*[@id=\"content\"]/div[1]/div[2]/ul/li[1]')\n",
    "titleElement = root.xpath('//*[@id=\"content\"]/div[1]/div[2]/h1')\n",
    "\n",
    "# 리스트의 첫 번째 요소가 가진 텍스트를 출력합니다.\n",
    "print(titleElement[0].text)"
   ]
  },
  {
   "cell_type": "code",
   "execution_count": 10,
   "id": "13c96682-ecfb-4fde-9240-6137adeac838",
   "metadata": {},
   "outputs": [],
   "source": [
    "# CSS 선택자를 사용해서 요소를 추출합니다.\n",
    "linkAs = root.cssselect('#content > div:nth-child(1) > div.col-md-9 > h1')"
   ]
  },
  {
   "cell_type": "code",
   "execution_count": 13,
   "id": "4719cc62-6aaa-4ff1-8ab9-40150c0a15fe",
   "metadata": {},
   "outputs": [
    {
     "data": {
      "text/plain": [
       "list"
      ]
     },
     "execution_count": 13,
     "metadata": {},
     "output_type": "execute_result"
    }
   ],
   "source": [
    "type(linkAs)"
   ]
  },
  {
   "cell_type": "code",
   "execution_count": 16,
   "id": "e17e1b00-b023-4426-8913-eb7d2ac5f58d",
   "metadata": {},
   "outputs": [
    {
     "name": "stdout",
     "output_type": "stream",
     "text": [
      "main-title\n"
     ]
    }
   ],
   "source": [
    "## for 반복문으로 추출한 요소의 href 속성을 추출합니다.\n",
    "for linkA in linkAs:\n",
    "    print(linkA.attrib[\"class\"])"
   ]
  },
  {
   "cell_type": "code",
   "execution_count": 4,
   "id": "b001bc47-75fa-4828-97b4-9cfec399d34b",
   "metadata": {},
   "outputs": [
    {
     "name": "stdout",
     "output_type": "stream",
     "text": [
      "카토 코타 \n",
      "http://www.yes24.com/24/goods/59307498\n",
      "http://www.kyobobook.co.kr/product/detailViewKor.laf?barcode=9791158390952\n",
      "http://book.interpark.com/product/BookDisplay.do?_method=detail&sc.prdNo=281415537\n",
      "http://www.aladin.co.kr/shop/wproduct.aspx?ItemId=137872443\n"
     ]
    }
   ],
   "source": [
    "r = requests.get(\"http://wikibook.co.kr/python-for-web-scraping/\")\n",
    "html = r.text\n",
    "\n",
    "# HTML을 HtmlElement 객체로 변환합니다.\n",
    "root = lxml.html.fromstring(html)\n",
    "\n",
    "# XPath를 사용해서 요소를 추출합니다.\n",
    "titleElement = root.xpath('//*[@id=\"content\"]/div[1]/div[2]/ul/li[1]')\n",
    "\n",
    "# 리스트의 첫 번째 요소가 가진 텍스트를 출력합니다.\n",
    "print(titleElement[0].text)\n",
    "\n",
    "# CSS 선택자를 사용해서 요소를 추출합니다.\n",
    "linkAs = root.cssselect('#book-stores > li > a')\n",
    "\n",
    "## for 반복문으로 추출한 요소의 href 속성을 추출합니다.\n",
    "for linkA in linkAs:\n",
    "    print(linkA.attrib[\"href\"])"
   ]
  },
  {
   "cell_type": "code",
   "execution_count": null,
   "id": "d68b49ca-e8f4-4603-99f7-0d2f51446df7",
   "metadata": {},
   "outputs": [],
   "source": []
  }
 ],
 "metadata": {
  "kernelspec": {
   "display_name": "Python Django",
   "language": "python",
   "name": "django"
  },
  "language_info": {
   "codemirror_mode": {
    "name": "ipython",
    "version": 3
   },
   "file_extension": ".py",
   "mimetype": "text/x-python",
   "name": "python",
   "nbconvert_exporter": "python",
   "pygments_lexer": "ipython3",
   "version": "3.8.3"
  }
 },
 "nbformat": 4,
 "nbformat_minor": 5
}
