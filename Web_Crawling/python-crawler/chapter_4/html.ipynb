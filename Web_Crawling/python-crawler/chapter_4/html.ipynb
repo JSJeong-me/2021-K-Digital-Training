{
 "cells": [
  {
   "cell_type": "code",
   "execution_count": null,
   "id": "20cc2b3f-71d0-4aa1-8c5a-dcc739b56b5e",
   "metadata": {},
   "outputs": [],
   "source": [
    "#!pip install cssselect"
   ]
  },
  {
   "cell_type": "code",
   "execution_count": null,
   "id": "8090fceb-4b42-42e0-bf8e-96893676eec7",
   "metadata": {},
   "outputs": [],
   "source": [
    "import requests\n",
    "import lxml.html\n",
    "# HTML 소스 코드를 읽어 들입니다."
   ]
  },
  {
   "cell_type": "code",
   "execution_count": null,
   "id": "015cfa11-fe62-42ae-a26b-a0a6fc109743",
   "metadata": {},
   "outputs": [],
   "source": [
    "r = requests.get(\"http://wikibook.co.kr/python-for-web-scraping/\")\n",
    "html = r.text"
   ]
  },
  {
   "cell_type": "code",
   "execution_count": 25,
   "id": "30516383-4124-4e65-a446-f6f077aef1fd",
   "metadata": {},
   "outputs": [],
   "source": [
    "#r.text"
   ]
  },
  {
   "cell_type": "code",
   "execution_count": 10,
   "id": "20f48ace-192c-4581-b051-63d2748c99d6",
   "metadata": {},
   "outputs": [],
   "source": [
    "# HTML을 HtmlElement 객체로 변환합니다.\n",
    "root = lxml.html.fromstring(html)\n",
    "\n",
    "# XPath를 사용해서 요소를 추출합니다.\n",
    "#titleElement = root.xpath('//*[@id=\"content\"]/div[1]/div[2]/ul/li[1]')"
   ]
  },
  {
   "cell_type": "code",
   "execution_count": 11,
   "id": "572303d3-c349-49e0-b00a-c3963db599b5",
   "metadata": {},
   "outputs": [],
   "source": [
    "titleElement = root.xpath('//*[@id=\"content\"]/div[1]/div[2]/h1')"
   ]
  },
  {
   "cell_type": "code",
   "execution_count": 13,
   "id": "de2d2e8a-0ba5-4cf1-a2fb-fcd9f8cc66d5",
   "metadata": {},
   "outputs": [
    {
     "data": {
      "text/plain": [
       "list"
      ]
     },
     "execution_count": 13,
     "metadata": {},
     "output_type": "execute_result"
    }
   ],
   "source": [
    "type(titleElement)"
   ]
  },
  {
   "cell_type": "code",
   "execution_count": 14,
   "id": "c982e5b4-2c87-49ca-a53f-2d202ca9bc54",
   "metadata": {},
   "outputs": [
    {
     "name": "stdout",
     "output_type": "stream",
     "text": [
      "파이썬을 이용한 웹 크롤링과 스크레이핑\n"
     ]
    }
   ],
   "source": [
    "# 리스트의 첫 번째 요소가 가진 텍스트를 출력합니다.\n",
    "print(titleElement[0].text)"
   ]
  },
  {
   "cell_type": "code",
   "execution_count": 15,
   "id": "8d919b38-d69b-46e6-acf9-a8ab08524cdc",
   "metadata": {},
   "outputs": [
    {
     "data": {
      "text/plain": [
       "'h1'"
      ]
     },
     "execution_count": 15,
     "metadata": {},
     "output_type": "execute_result"
    }
   ],
   "source": [
    "titleElement[0].tag"
   ]
  },
  {
   "cell_type": "code",
   "execution_count": 16,
   "id": "c47d6b28-978b-4031-b858-8d5259852a3e",
   "metadata": {},
   "outputs": [
    {
     "data": {
      "text/plain": [
       "{'class': 'main-title'}"
      ]
     },
     "execution_count": 16,
     "metadata": {},
     "output_type": "execute_result"
    }
   ],
   "source": [
    "titleElement[0].attrib"
   ]
  },
  {
   "cell_type": "code",
   "execution_count": 18,
   "id": "f1a02eb6-2467-4249-b85c-4c732cb714e3",
   "metadata": {},
   "outputs": [],
   "source": [
    "import cssselect"
   ]
  },
  {
   "cell_type": "code",
   "execution_count": 19,
   "id": "e0ae9a83-b611-4437-b5d3-76d80f8389ca",
   "metadata": {},
   "outputs": [],
   "source": [
    "# CSS 선택자를 사용해서 요소를 추출합니다.\n",
    "linkAs = root.cssselect('#content > div:nth-child(1) > div.col-md-9 > h1')"
   ]
  },
  {
   "cell_type": "code",
   "execution_count": 22,
   "id": "96c562c8-e405-414c-9407-1795b9d4f91b",
   "metadata": {},
   "outputs": [
    {
     "data": {
      "text/plain": [
       "1"
      ]
     },
     "execution_count": 22,
     "metadata": {},
     "output_type": "execute_result"
    }
   ],
   "source": [
    "len(linkAs)"
   ]
  },
  {
   "cell_type": "code",
   "execution_count": 27,
   "id": "8ea6d138-eae1-4530-afe7-6d92d7b0a070",
   "metadata": {},
   "outputs": [
    {
     "name": "stdout",
     "output_type": "stream",
     "text": [
      "main-title\n"
     ]
    }
   ],
   "source": [
    "## for 반복문으로 추출한 요소의 href 속성을 추출합니다.\n",
    "for linkA in linkAs:\n",
    "    print(linkA.attrib[\"class\"])"
   ]
  },
  {
   "cell_type": "code",
   "execution_count": null,
   "id": "cf6f9e8b-e421-4a5f-bae3-0883c8ace48e",
   "metadata": {},
   "outputs": [],
   "source": []
  }
 ],
 "metadata": {
  "kernelspec": {
   "display_name": "Python Django",
   "language": "python",
   "name": "django"
  },
  "language_info": {
   "codemirror_mode": {
    "name": "ipython",
    "version": 3
   },
   "file_extension": ".py",
   "mimetype": "text/x-python",
   "name": "python",
   "nbconvert_exporter": "python",
   "pygments_lexer": "ipython3",
   "version": "3.8.3"
  }
 },
 "nbformat": 4,
 "nbformat_minor": 5
}
