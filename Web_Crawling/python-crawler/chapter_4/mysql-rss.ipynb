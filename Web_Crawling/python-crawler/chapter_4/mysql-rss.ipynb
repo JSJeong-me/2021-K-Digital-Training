{
 "cells": [
  {
   "cell_type": "code",
   "execution_count": null,
   "id": "33c53a6a-2e38-4e0e-8943-942d93d296a0",
   "metadata": {},
   "outputs": [],
   "source": []
  },
  {
   "cell_type": "code",
   "execution_count": 1,
   "id": "db2882e5-0c84-4286-b79a-5dd7e22aaa08",
   "metadata": {},
   "outputs": [],
   "source": [
    "import feedparser\n",
    "import MySQLdb"
   ]
  },
  {
   "cell_type": "code",
   "execution_count": 2,
   "id": "08733d96-337a-4cdf-b32e-ae2418141cf5",
   "metadata": {},
   "outputs": [],
   "source": [
    "# 데이터베이스 연결하기\n",
    "connection = MySQLdb.connect(\n",
    "    user=\"root\",\n",
    "    passwd=\"8475\",\n",
    "    host=\"localhost\",\n",
    "    db=\"tip\",\n",
    "    charset=\"utf8\")"
   ]
  },
  {
   "cell_type": "code",
   "execution_count": 3,
   "id": "6988e7e1-9f76-4278-9124-70fbb17f6c06",
   "metadata": {},
   "outputs": [],
   "source": [
    "# 커서 생성하기\n",
    "cursor = connection.cursor()"
   ]
  },
  {
   "cell_type": "code",
   "execution_count": 4,
   "id": "22dbdd41-6d37-47c0-8389-118259070bf8",
   "metadata": {},
   "outputs": [
    {
     "data": {
      "text/plain": [
       "0"
      ]
     },
     "execution_count": 4,
     "metadata": {},
     "output_type": "execute_result"
    }
   ],
   "source": [
    "# 실행할 때마다 같은 레코드가 중복되어 들어가지 않게 테이블을 제거해두기\n",
    "#cursor.execute(\"DROP TABLE IF EXISTS books\")\n",
    "\n",
    "# 테이블 생성하기\n",
    "cursor.execute(\"CREATE TABLE books (title text, url text)\")"
   ]
  },
  {
   "cell_type": "code",
   "execution_count": 5,
   "id": "9f0d5ea4-3a15-4350-951b-b3312e62dabe",
   "metadata": {},
   "outputs": [],
   "source": [
    "# URL을 지정해서 FeedParserDict 객체 생성하기\n",
    "rss = feedparser.parse(\"http://www.aladin.co.kr/rss/special_new/351\")"
   ]
  },
  {
   "cell_type": "code",
   "execution_count": 6,
   "id": "a8aa09d2-3ec7-42b0-9db5-8892ab7107c0",
   "metadata": {},
   "outputs": [
    {
     "name": "stdout",
     "output_type": "stream",
     "text": [
      "rss20\n"
     ]
    }
   ],
   "source": [
    "# RSS 버전 확인하기\n",
    "print(rss.version)"
   ]
  },
  {
   "cell_type": "code",
   "execution_count": 7,
   "id": "66e6cf46-deab-4325-bf23-49dcd59f849c",
   "metadata": {},
   "outputs": [
    {
     "name": "stdout",
     "output_type": "stream",
     "text": [
      "분야별 신간 특선 - 컴퓨터/모바일\n"
     ]
    }
   ],
   "source": [
    "# 피드의 제목\n",
    "print(rss[\"feed\"][\"title\"])"
   ]
  },
  {
   "cell_type": "code",
   "execution_count": 8,
   "id": "30e3bdfa-1dd8-4e86-9ebe-888c63d55ed9",
   "metadata": {},
   "outputs": [],
   "source": [
    "# 반복 적용\n",
    "for content in rss[\"entries\"]:\n",
    "    # 데이터 저장하기\n",
    "    cursor.execute(\"INSERT INTO books VALUES(%s, %s)\", (content[\"title\"], content[\"link\"])) "
   ]
  },
  {
   "cell_type": "code",
   "execution_count": 9,
   "id": "9c270c35-3f3f-435c-8622-a46ce7a56135",
   "metadata": {},
   "outputs": [],
   "source": [
    "# 커밋하기\n",
    "connection.commit()\n",
    "\n",
    "# 연결 종료하기\n",
    "connection.close()"
   ]
  },
  {
   "cell_type": "code",
   "execution_count": null,
   "id": "591413a5-abb3-4e94-b6bf-254b0bf20a89",
   "metadata": {},
   "outputs": [],
   "source": []
  }
 ],
 "metadata": {
  "kernelspec": {
   "display_name": "Python Multi",
   "language": "python",
   "name": "multi"
  },
  "language_info": {
   "codemirror_mode": {
    "name": "ipython",
    "version": 3
   },
   "file_extension": ".py",
   "mimetype": "text/x-python",
   "name": "python",
   "nbconvert_exporter": "python",
   "pygments_lexer": "ipython3",
   "version": "3.7.6"
  }
 },
 "nbformat": 4,
 "nbformat_minor": 5
}
