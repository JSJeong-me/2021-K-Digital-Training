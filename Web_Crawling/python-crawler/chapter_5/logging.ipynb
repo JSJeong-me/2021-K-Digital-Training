{
 "cells": [
  {
   "cell_type": "code",
   "execution_count": null,
   "id": "491d6e06-d4ad-42ed-9cbe-c6e627d35885",
   "metadata": {},
   "outputs": [],
   "source": []
  },
  {
   "cell_type": "code",
   "execution_count": null,
   "id": "78da98e6-12d2-48f7-9996-674e4e921dc9",
   "metadata": {},
   "outputs": [],
   "source": [
    "from logging import (\n",
    "    getLogger,\n",
    "    Formatter,\n",
    "    FileHandler,\n",
    "    StreamHandler,\n",
    "    DEBUG,\n",
    "    ERROR,\n",
    ")\n",
    "import requests"
   ]
  },
  {
   "cell_type": "code",
   "execution_count": null,
   "id": "776586cc-f161-4711-b409-fa83dcea9eaa",
   "metadata": {},
   "outputs": [],
   "source": [
    "# 로거 : __name__에는 실행 모듈 이름 logging_sample이 들어감(파일 이름)\n",
    "logger = getLogger(__name__)"
   ]
  },
  {
   "cell_type": "code",
   "execution_count": null,
   "id": "a3dde87a-9bee-4817-97a9-3ab1beda0960",
   "metadata": {},
   "outputs": [],
   "source": [
    "# 출력 형식\n",
    "default_format = '[%(levelname)s] %(asctime)s %(name)s %(filename)s:%(lineno)d %(message)s'\n",
    "default_formatter = Formatter(default_format)\n",
    "funcname_formatter = Formatter(default_format + ' (%(funcName)s)')"
   ]
  },
  {
   "cell_type": "code",
   "execution_count": null,
   "id": "3cec3a4b-16cc-4fbc-99b3-85d1c8b5ba8d",
   "metadata": {},
   "outputs": [],
   "source": [
    "# 로그 전용 핸들러: 콘솔 출력 전용\n",
    "log_stream_handler = StreamHandler()\n",
    "log_stream_handler.setFormatter(default_formatter)\n",
    "log_stream_handler.setLevel(DEBUG)"
   ]
  },
  {
   "cell_type": "code",
   "execution_count": null,
   "id": "2bdd2ffb-5827-4212-bd88-d94e31225c98",
   "metadata": {},
   "outputs": [],
   "source": [
    "# 로그 전용 핸들러: 파일 출력 전용\n",
    "log_file_handler = FileHandler(filename=\"crawler.log\")\n",
    "log_file_handler.setFormatter(funcname_formatter)\n",
    "log_file_handler.setLevel(ERROR)"
   ]
  },
  {
   "cell_type": "code",
   "execution_count": null,
   "id": "b1cf9e51-b799-41c8-9d98-b89e594ce055",
   "metadata": {},
   "outputs": [],
   "source": [
    "# 로거에 핸들러와 레벨 설정하기\n",
    "logger.setLevel(DEBUG)\n",
    "logger.addHandler(log_stream_handler)\n",
    "logger.addHandler(log_file_handler)"
   ]
  },
  {
   "cell_type": "code",
   "execution_count": null,
   "id": "20f394a8-2ad8-48fb-9614-1216210cfe5d",
   "metadata": {},
   "outputs": [],
   "source": [
    "def logging_example():\n",
    "    logger.info('크롤링을 시작했습니다.')\n",
    "    logger.warning('외부 사이트 링크는 크롤링하지 않습니다.')\n",
    "    logger.error('페이지를 찾을 수 없습니다.')\n",
    "    \n",
    "    try:\n",
    "        r = requests.get('#invalid_url', timeout=1)\n",
    "    except requests.exceptions.RequestException as e:\n",
    "        logger.exception('요청 중에 예외가 발생했습니다: %r', e)"
   ]
  },
  {
   "cell_type": "code",
   "execution_count": null,
   "id": "fceedfe6-a50a-432a-8cb6-6d2f32bfa2d4",
   "metadata": {},
   "outputs": [],
   "source": [
    "if __name__ == '__main__':\n",
    "    logging_example()"
   ]
  },
  {
   "cell_type": "code",
   "execution_count": null,
   "id": "360d8151-e72a-4915-b6d1-0897e2528c9d",
   "metadata": {},
   "outputs": [],
   "source": []
  }
 ],
 "metadata": {
  "kernelspec": {
   "display_name": "Python Django",
   "language": "python",
   "name": "django"
  },
  "language_info": {
   "codemirror_mode": {
    "name": "ipython",
    "version": 3
   },
   "file_extension": ".py",
   "mimetype": "text/x-python",
   "name": "python",
   "nbconvert_exporter": "python",
   "pygments_lexer": "ipython3",
   "version": "3.8.3"
  }
 },
 "nbformat": 4,
 "nbformat_minor": 5
}
