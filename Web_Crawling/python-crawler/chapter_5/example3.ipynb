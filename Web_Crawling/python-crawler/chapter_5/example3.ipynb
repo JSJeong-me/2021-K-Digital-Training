{
 "cells": [
  {
   "cell_type": "code",
   "execution_count": null,
   "id": "a81161de-6ad3-470c-8c4b-fdbea9498466",
   "metadata": {},
   "outputs": [],
   "source": []
  },
  {
   "cell_type": "code",
   "execution_count": 1,
   "id": "59a36a49-4495-4b71-be4b-4a7516eb0f2d",
   "metadata": {},
   "outputs": [],
   "source": [
    "import time\n",
    "\n",
    "import requests"
   ]
  },
  {
   "cell_type": "code",
   "execution_count": 2,
   "id": "4275aedf-0cf0-4f91-af78-f805d078f318",
   "metadata": {},
   "outputs": [],
   "source": [
    "PAGE_URL_LIST = [\n",
    "    'http://example.com/1.page',\n",
    "    'http://example.com/2.page',\n",
    "    'http://example.com/3.page',\n",
    "]"
   ]
  },
  {
   "cell_type": "code",
   "execution_count": 3,
   "id": "5d85aac0-f87e-4d75-84d6-d6105d27671b",
   "metadata": {},
   "outputs": [
    {
     "name": "stdout",
     "output_type": "stream",
     "text": [
      "페이지 URL:http://example.com/1.page, HTTP 상태: 404, 처리 시간(초): 0.536358\n",
      "페이지 URL:http://example.com/2.page, HTTP 상태: 404, 처리 시간(초): 0.518755\n",
      "페이지 URL:http://example.com/3.page, HTTP 상태: 404, 처리 시간(초): 0.416292\n"
     ]
    }
   ],
   "source": [
    "for page_url in PAGE_URL_LIST:\n",
    "    res = requests.get(page_url, timeout=30)\n",
    "    print(\n",
    "        \"페이지 URL:{}, HTTP 상태: {}, 처리 시간(초): {}\".format(\n",
    "            page_url,\n",
    "            res.status_code,\n",
    "            res.elapsed.total_seconds()\n",
    "        )\n",
    "    )\n",
    "    time.sleep(1)"
   ]
  },
  {
   "cell_type": "code",
   "execution_count": null,
   "id": "12abb00f-4845-4c09-87b9-5d5023d8cb38",
   "metadata": {},
   "outputs": [],
   "source": []
  }
 ],
 "metadata": {
  "kernelspec": {
   "display_name": "Python Django",
   "language": "python",
   "name": "django"
  },
  "language_info": {
   "codemirror_mode": {
    "name": "ipython",
    "version": 3
   },
   "file_extension": ".py",
   "mimetype": "text/x-python",
   "name": "python",
   "nbconvert_exporter": "python",
   "pygments_lexer": "ipython3",
   "version": "3.8.3"
  }
 },
 "nbformat": 4,
 "nbformat_minor": 5
}
