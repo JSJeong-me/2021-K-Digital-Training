{
 "cells": [
  {
   "cell_type": "code",
   "execution_count": null,
   "id": "5567c7b4-e50e-4070-a7f9-b5aa12e8eccd",
   "metadata": {},
   "outputs": [],
   "source": []
  },
  {
   "cell_type": "code",
   "execution_count": 1,
   "id": "0eb90ac2-c3cf-45f9-85ec-f9e6c40125de",
   "metadata": {},
   "outputs": [],
   "source": [
    "# colorlog 모듈을 설치한 뒤에 실행해주셔야 합니다\n",
    "# 오류에서 확인하기 힘듭니다.\n",
    "\"\"\"로그 전용 모듈\"\"\"\n",
    "import logging.config\n",
    "\n",
    "import settings"
   ]
  },
  {
   "cell_type": "code",
   "execution_count": 2,
   "id": "1745c2d4-a2c5-4094-9f84-927dfd935f5c",
   "metadata": {},
   "outputs": [],
   "source": [
    "def get_my_logger(name):\n",
    "    logging.config.dictConfig(settings.LOGGING_CONF)\n",
    "    return logging.getLogger(name)"
   ]
  },
  {
   "cell_type": "code",
   "execution_count": 3,
   "id": "4c9a5797-4fbc-4e78-9ffb-3337fb3f7670",
   "metadata": {},
   "outputs": [
    {
     "name": "stderr",
     "output_type": "stream",
     "text": [
      "\u001b[01;30m[DEBUG]\t2021-06-30 15:13:00\tDEBUG 레벨입니다.\u001b[0m\n",
      "\u001b[37m[INFO]\t2021-06-30 15:13:00\tINFO 레벨입니다.\u001b[0m\n",
      "\u001b[33m[WARNING]\t2021-06-30 15:13:00\tWARNING 레벨입니다.\u001b[0m\n",
      "\u001b[31m[ERROR]\t2021-06-30 15:13:00\tERROR 레벨입니다.\u001b[0m\n",
      "\u001b[01;31m[CRITICAL]\t2021-06-30 15:13:00\tCRITICAL 레벨입니다.\u001b[0m\n"
     ]
    }
   ],
   "source": [
    "logger = get_my_logger(__name__)\n",
    "\n",
    "if __name__ == '__main__':\n",
    "    \"\"\"my_logging를 사용해봅니다.\"\"\"\n",
    "    logger.debug('DEBUG 레벨입니다.')\n",
    "    logger.info('INFO 레벨입니다.')\n",
    "    logger.warning('WARNING 레벨입니다.')\n",
    "    logger.error('ERROR 레벨입니다.')\n",
    "    logger.critical('CRITICAL 레벨입니다.')"
   ]
  },
  {
   "cell_type": "code",
   "execution_count": null,
   "id": "fa158221-719d-4547-81fa-12c8337e5d11",
   "metadata": {},
   "outputs": [],
   "source": []
  }
 ],
 "metadata": {
  "kernelspec": {
   "display_name": "Python Django",
   "language": "python",
   "name": "django"
  },
  "language_info": {
   "codemirror_mode": {
    "name": "ipython",
    "version": 3
   },
   "file_extension": ".py",
   "mimetype": "text/x-python",
   "name": "python",
   "nbconvert_exporter": "python",
   "pygments_lexer": "ipython3",
   "version": "3.8.3"
  }
 },
 "nbformat": 4,
 "nbformat_minor": 5
}
