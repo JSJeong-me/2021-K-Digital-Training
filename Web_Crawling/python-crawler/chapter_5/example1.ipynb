{
 "cells": [
  {
   "cell_type": "code",
   "execution_count": null,
   "id": "fa5ded18-1e60-4724-80e5-d6798179cc06",
   "metadata": {},
   "outputs": [],
   "source": []
  },
  {
   "cell_type": "code",
   "execution_count": 1,
   "id": "c4e010f3-b1c4-4040-bb16-705d74d93db1",
   "metadata": {},
   "outputs": [],
   "source": [
    "import time\n",
    "\n",
    "import requests"
   ]
  },
  {
   "cell_type": "code",
   "execution_count": 2,
   "id": "a3b5272a-5779-4b7b-89a1-92c07621c2e2",
   "metadata": {},
   "outputs": [],
   "source": [
    "PAGE_URL_LIST = [\n",
    "    'https://www.google.com/',\n",
    "    #'https://www.coupang.com/',\n",
    "    'https://www.naver.com/',\n",
    "    'https://interpark.com/malls/index.html',\n",
    "    'https://www.moef.go.kr/sns/2020/emgncEcnmyMtg.do',\n",
    "    'https://www.amazon.com/'\n",
    "]"
   ]
  },
  {
   "cell_type": "code",
   "execution_count": 3,
   "id": "ce4635f6-3330-4cec-821b-2e5ab8409793",
   "metadata": {},
   "outputs": [
    {
     "name": "stdout",
     "output_type": "stream",
     "text": [
      "페이지 URL: https://www.google.com/, HTTP 상태: 200, 처리 시간(초): 0.229114\n",
      "페이지 URL: https://www.naver.com/, HTTP 상태: 200, 처리 시간(초): 0.051831\n",
      "페이지 URL: https://interpark.com/malls/index.html, HTTP 상태: 200, 처리 시간(초): 0.047194\n",
      "페이지 URL: https://www.moef.go.kr/sns/2020/emgncEcnmyMtg.do, HTTP 상태: 200, 처리 시간(초): 0.06799\n",
      "페이지 URL: https://www.amazon.com/, HTTP 상태: 503, 처리 시간(초): 0.237248\n"
     ]
    }
   ],
   "source": [
    "for page_url in PAGE_URL_LIST:\n",
    "    res = requests.get(page_url, timeout=30)\n",
    "    print(\n",
    "        \"페이지 URL: \" + page_url + \", \" + \\\n",
    "        \"HTTP 상태: \" + str(res.status_code) + \", \" + \\\n",
    "        \"처리 시간(초): \" + str(res.elapsed.total_seconds())\n",
    "    )\n",
    "    time.sleep(1)"
   ]
  },
  {
   "cell_type": "code",
   "execution_count": null,
   "id": "88c0e38e-6df8-40b6-b3ca-834b947696b6",
   "metadata": {},
   "outputs": [],
   "source": []
  }
 ],
 "metadata": {
  "kernelspec": {
   "display_name": "Python Django",
   "language": "python",
   "name": "django"
  },
  "language_info": {
   "codemirror_mode": {
    "name": "ipython",
    "version": 3
   },
   "file_extension": ".py",
   "mimetype": "text/x-python",
   "name": "python",
   "nbconvert_exporter": "python",
   "pygments_lexer": "ipython3",
   "version": "3.8.3"
  }
 },
 "nbformat": 4,
 "nbformat_minor": 5
}
