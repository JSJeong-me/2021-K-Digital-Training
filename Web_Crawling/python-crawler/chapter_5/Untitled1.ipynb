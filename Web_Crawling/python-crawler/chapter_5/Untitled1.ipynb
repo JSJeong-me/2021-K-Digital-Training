{
 "cells": [
  {
   "cell_type": "code",
   "execution_count": null,
   "id": "9c3b63de-364a-44de-9767-cc0840779bab",
   "metadata": {},
   "outputs": [],
   "source": []
  },
  {
   "cell_type": "code",
   "execution_count": 1,
   "id": "07f2a253-8fe7-4494-a86f-ee11722695a2",
   "metadata": {},
   "outputs": [],
   "source": [
    "\"\"\"설정 파일\"\"\"\n",
    "import os"
   ]
  },
  {
   "cell_type": "code",
   "execution_count": 2,
   "id": "38bb3c6e-b604-4be8-9be3-2909175f16b6",
   "metadata": {},
   "outputs": [],
   "source": [
    "BASE_DIR = os.path.dirname(os.path.abspath(\"__file__\"))"
   ]
  },
  {
   "cell_type": "code",
   "execution_count": 3,
   "id": "5bb1e289-f1e1-4b6d-9618-8bb4608610c7",
   "metadata": {},
   "outputs": [],
   "source": [
    "#BASE_DIR = os.path.realpath(os.path.dirname(__file__))"
   ]
  },
  {
   "cell_type": "code",
   "execution_count": 4,
   "id": "9d12fe0e-5beb-4cb7-9889-799ddb10d805",
   "metadata": {},
   "outputs": [],
   "source": [
    "LOG_DIR = os.path.join(BASE_DIR, 'logs')  # 로그 파일 디렉터리"
   ]
  },
  {
   "cell_type": "code",
   "execution_count": 5,
   "id": "d99bd74d-4996-4cf4-9065-027b006abe45",
   "metadata": {},
   "outputs": [],
   "source": [
    "# 로그 파일 디렉터리가 없다면 생성하기\n",
    "if not os.path.exists(LOG_DIR):\n",
    "    os.mkdir(LOG_DIR)\n",
    "LOGGING_CONF = {\n",
    "    'version': 1,  # 필수\n",
    "    # logger 설정 처리가 중복되면 덮어씌우기\n",
    "    'disable_existing_loggers': True,\n",
    "    # 출력 형식 설정\n",
    "    'formatters': {\n",
    "        'default': {  # 디폴트 형식\n",
    "            '()': 'colorlog.ColoredFormatter',  # colorlog 라이브러리 적용\n",
    "            'format': '\\t'.join([\n",
    "                \"%(log_color)s[%(levelname)s]\",  # 로그 레벨\n",
    "                \"asctime:%(asctime)s\",  # 로그 출력 날짜\n",
    "                \"process:%(process)d\",  # 로그 출력을 실행한 프로세스 이름\n",
    "                \"thread:%(thread)d\",  # 로그 출력을 실행한 프로세스 ID\n",
    "                \"module:%(module)s\",  # 로그 출력을 실행한 프로세스 모듈 이름\n",
    "                \"%(pathname)s:%(lineno)d\",  # 로그 출력을 실행한 모듈의 경로와 줄 번호\n",
    "                \"message:%(message)s\",  # 로그 출력할 메시지\n",
    "            ]),\n",
    "            'datefmt': '%Y-%m-%d %H:%M:%S',  # asctime으로 출력할 로그 출력 날짜 형식\n",
    "            # 로그 레벨에 따라 색 적용하기\n",
    "            'log_colors': {\n",
    "                'DEBUG': 'bold_black',\n",
    "                'INFO': 'white',\n",
    "                'WARNING': 'yellow',\n",
    "                'ERROR': 'red',\n",
    "                'CRITICAL': 'bold_red',\n",
    "            },\n",
    "        },\n",
    "        'simple': {  # 로그를 적게 출력하는 간단한 형태의 형식\n",
    "            '()': 'colorlog.ColoredFormatter',  # pip install colorlog\n",
    "            'format': '\\t'.join([\n",
    "                \"%(log_color)s[%(levelname)s]\",\n",
    "                \"%(asctime)s\",\n",
    "                \"%(message)s\",  # 로그 레벨, 날짜, 메시지만 출력\n",
    "            ]),\n",
    "            'datefmt': '%Y-%m-%d %H:%M:%S',\n",
    "            'log_colors': {\n",
    "                'DEBUG': 'bold_black',\n",
    "                'INFO': 'white',\n",
    "                'WARNING': 'yellow',\n",
    "                'ERROR': 'red',\n",
    "                'CRITICAL': 'bold_red',\n",
    "            },\n",
    "        },\n",
    "        'query': {  # SQL 쿼리 출력 전용 형식\n",
    "            '()': 'colorlog.ColoredFormatter',\n",
    "            'format': '%(cyan)s[SQL] %(message)s',  # 쿼리만 출력\n",
    "        },\n",
    "    },\n",
    "    # 로그 출력 대상에 따른 핸들러 설정\n",
    "    'handlers': {\n",
    "        'file': {  # 파일에 로그를 출력할 핸들러 설정\n",
    "            'level': 'DEBUG',  # logger.level이 DEBUG 이상일 때만 출력\n",
    "            # 로그 크기가 일정량을 넘으면 새로운 로그 파일을 생성하는 핸들러\n",
    "            'class': 'logging.handlers.RotatingFileHandler',\n",
    "            # 로그 파일 경로 지정\n",
    "            'filename': os.path.join(LOG_DIR, 'crawler.log'),\n",
    "            'formatter': 'default',  # 디폴트 형식으로 로그 출력\n",
    "            'backupCount': 3,  # 오래된 로그 파일은 3개만 남김\n",
    "            'maxBytes': 1024 * 1024 * 2,  # 로그 크기가 2MB를 넘을 경우 새로운 로그 파일 생성\n",
    "        },\n",
    "        'console': {  # 터미널에 로그를 출력하는 핸들러의 로그 형식 지정\n",
    "            'level': 'DEBUG',\n",
    "            'class': 'logging.StreamHandler',  # 터미널에 로그를 출력할 핸들러\n",
    "            'formatter': 'default',  # 디폴트 형식으로 로그 출력\n",
    "        },\n",
    "        'console_simple': {  # 터미널에 로그를 출력하는 핸들러의 간단한 로그 형식 지정\n",
    "            'level': 'DEBUG',\n",
    "            'class': 'logging.StreamHandler',\n",
    "            'formatter': 'simple',  # 간단한 형식 지정\n",
    "        },\n",
    "        'query': {  # 터미널에 SQL 쿼리 로그를 출력할 핸들러\n",
    "            'level': 'DEBUG',\n",
    "            'class': 'logging.StreamHandler',\n",
    "            'formatter': 'query',  # SQL 쿼리 출력 전용 형식\n",
    "        },\n",
    "    },\n",
    "    'root': {  # 디폴트 설정\n",
    "        'handlers': ['file', 'console_simple'],  # 위에 설정한 file, console 설정으로 출력\n",
    "        'level': 'DEBUG',\n",
    "    },\n",
    "    # 로그 이름, 핸들러, 로그 레벨 설정\n",
    "    'loggers': {\n",
    "        # logging.getLogger(__name__)의 __name__으로 참조되는 이름이 키로 사용됨\n",
    "        'celery': {\n",
    "            'handlers': ['console', 'file'],\n",
    "            'level': 'WARNING',  # Celery 로그는 WARNING 이상만 출력\n",
    "            'propagate': False,  # 로그 이벤트를 루트 로거에 전달하지 않게 지정\n",
    "        },\n",
    "        'my_project': {  # my_project.py 모듈에서 사용할 때의 로거\n",
    "            'handlers': ['console', 'file'],\n",
    "            'level': 'DEBUG',\n",
    "            'propagate': False,\n",
    "        },\n",
    "    },\n",
    "}"
   ]
  },
  {
   "cell_type": "code",
   "execution_count": null,
   "id": "80f1a825-6438-4c23-8965-3a632e1b7ca6",
   "metadata": {},
   "outputs": [],
   "source": []
  }
 ],
 "metadata": {
  "kernelspec": {
   "display_name": "Python Django",
   "language": "python",
   "name": "django"
  },
  "language_info": {
   "codemirror_mode": {
    "name": "ipython",
    "version": 3
   },
   "file_extension": ".py",
   "mimetype": "text/x-python",
   "name": "python",
   "nbconvert_exporter": "python",
   "pygments_lexer": "ipython3",
   "version": "3.8.3"
  }
 },
 "nbformat": 4,
 "nbformat_minor": 5
}
