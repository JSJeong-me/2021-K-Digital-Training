{
 "cells": [
  {
   "cell_type": "code",
   "execution_count": 1,
   "id": "ed20ec36-9679-4614-9de4-cbdd34f6cb0c",
   "metadata": {},
   "outputs": [],
   "source": [
    "from selenium import webdriver as wd\n",
    "from bs4 import BeautifulSoup as bs\n",
    "\n",
    "import time"
   ]
  },
  {
   "cell_type": "code",
   "execution_count": 2,
   "id": "3925e64d-77fe-4d85-b798-e8d04533275d",
   "metadata": {},
   "outputs": [],
   "source": [
    "url='https://www.naver.com/'"
   ]
  },
  {
   "cell_type": "code",
   "execution_count": 3,
   "id": "9cb2d37f-db1e-4790-aeb2-21ca0666e3e6",
   "metadata": {},
   "outputs": [
    {
     "name": "stderr",
     "output_type": "stream",
     "text": [
      "C:\\Users\\i\\anaconda3\\envs\\multi\\lib\\site-packages\\ipykernel_launcher.py:1: DeprecationWarning: executable_path has been deprecated, please pass in a Service object\n",
      "  \"\"\"Entry point for launching an IPython kernel.\n"
     ]
    }
   ],
   "source": [
    "driver = wd.Chrome(executable_path='.\\\\webdriver\\\\chromedriver.exe')"
   ]
  },
  {
   "cell_type": "code",
   "execution_count": 4,
   "id": "f5627387-7961-49e8-b75b-0ad872ad05b5",
   "metadata": {},
   "outputs": [],
   "source": [
    "driver.get(url)"
   ]
  },
  {
   "cell_type": "code",
   "execution_count": 5,
   "id": "3bbf961b-3d1d-426a-964a-b6d73be9a05d",
   "metadata": {},
   "outputs": [],
   "source": [
    "time.sleep(2)\n",
    "        \n",
    "soup = bs( driver.page_source, 'html.parser')"
   ]
  },
  {
   "cell_type": "code",
   "execution_count": 11,
   "id": "705ae0ed-f869-4dc6-ad73-de2683b6c94c",
   "metadata": {},
   "outputs": [
    {
     "name": "stdout",
     "output_type": "stream",
     "text": [
      "<class 'bs4.element.ResultSet'> 1 <class 'list'>\n"
     ]
    }
   ],
   "source": [
    "data = soup.select('body')\n",
    "print( type(data), len(data), type(data[0].contents)  )"
   ]
  },
  {
   "cell_type": "code",
   "execution_count": 10,
   "id": "f41969cd-85d6-46cf-9b2e-b1cb330d0a68",
   "metadata": {},
   "outputs": [],
   "source": [
    "#data[0].contents"
   ]
  },
  {
   "cell_type": "code",
   "execution_count": 9,
   "id": "43387867-5fcd-46b9-ad02-c17d47742ecb",
   "metadata": {},
   "outputs": [],
   "source": [
    "driver.close()"
   ]
  },
  {
   "cell_type": "code",
   "execution_count": null,
   "id": "06bce0fc-c12f-491d-bf41-2749a4bf1906",
   "metadata": {},
   "outputs": [],
   "source": []
  }
 ],
 "metadata": {
  "kernelspec": {
   "display_name": "Python Multi",
   "language": "python",
   "name": "multi"
  },
  "language_info": {
   "codemirror_mode": {
    "name": "ipython",
    "version": 3
   },
   "file_extension": ".py",
   "mimetype": "text/x-python",
   "name": "python",
   "nbconvert_exporter": "python",
   "pygments_lexer": "ipython3",
   "version": "3.7.6"
  }
 },
 "nbformat": 4,
 "nbformat_minor": 5
}
