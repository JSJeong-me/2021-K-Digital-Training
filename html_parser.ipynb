{
  "nbformat": 4,
  "nbformat_minor": 0,
  "metadata": {
    "colab": {
      "name": "html_parser.ipynb",
      "provenance": [],
      "authorship_tag": "ABX9TyPFHCPOvWblK7HSiSuB5dGl",
      "include_colab_link": true
    },
    "kernelspec": {
      "name": "python3",
      "display_name": "Python 3"
    },
    "language_info": {
      "name": "python"
    }
  },
  "cells": [
    {
      "cell_type": "markdown",
      "metadata": {
        "id": "view-in-github",
        "colab_type": "text"
      },
      "source": [
        "<a href=\"https://colab.research.google.com/github/JSJeong-me/2021-K-Digital-Training/blob/main/html_parser.ipynb\" target=\"_parent\"><img src=\"https://colab.research.google.com/assets/colab-badge.svg\" alt=\"Open In Colab\"/></a>"
      ]
    },
    {
      "cell_type": "code",
      "metadata": {
        "id": "bq7OZKuFUYDH"
      },
      "source": [
        "# https://docs.python.org/ko/3/library/html.parser.html"
      ],
      "execution_count": null,
      "outputs": []
    },
    {
      "cell_type": "code",
      "metadata": {
        "colab": {
          "base_uri": "https://localhost:8080/"
        },
        "id": "BTaZ5gArUt-c",
        "outputId": "e6737f4d-ab60-41e2-c72e-f90624c02973"
      },
      "source": [
        "from html.parser import HTMLParser\n",
        "\n",
        "class MyHTMLParser(HTMLParser):\n",
        "    def handle_starttag(self, tag, attrs):\n",
        "        print(\"Encountered a start tag:\", tag)\n",
        "\n",
        "    def handle_endtag(self, tag):\n",
        "        print(\"Encountered an end tag :\", tag)\n",
        "\n",
        "    def handle_data(self, data):\n",
        "        print(\"Encountered some data  :\", data)\n",
        "\n",
        "parser = MyHTMLParser()\n",
        "parser.feed('<html><head><title>Test</title></head>'\n",
        "            '<body><h1>Parse me!</h1></body></html>')"
      ],
      "execution_count": 1,
      "outputs": [
        {
          "output_type": "stream",
          "text": [
            "Encountered a start tag: html\n",
            "Encountered a start tag: head\n",
            "Encountered a start tag: title\n",
            "Encountered some data  : Test\n",
            "Encountered an end tag : title\n",
            "Encountered an end tag : head\n",
            "Encountered a start tag: body\n",
            "Encountered a start tag: h1\n",
            "Encountered some data  : Parse me!\n",
            "Encountered an end tag : h1\n",
            "Encountered an end tag : body\n",
            "Encountered an end tag : html\n"
          ],
          "name": "stdout"
        }
      ]
    },
    {
      "cell_type": "code",
      "metadata": {
        "id": "LuqAUseTU32J"
      },
      "source": [
        "# HTMLParser 메서드"
      ],
      "execution_count": null,
      "outputs": []
    },
    {
      "cell_type": "code",
      "metadata": {
        "id": "6r-QHk6aU7wV"
      },
      "source": [
        "from html.parser import HTMLParser\n",
        "from html.entities import name2codepoint\n",
        "\n",
        "class MyHTMLParser(HTMLParser):\n",
        "    def handle_starttag(self, tag, attrs):\n",
        "        print(\"Start tag:\", tag)\n",
        "        for attr in attrs:\n",
        "            print(\"     attr:\", attr)\n",
        "\n",
        "    def handle_endtag(self, tag):\n",
        "        print(\"End tag  :\", tag)\n",
        "\n",
        "    def handle_data(self, data):\n",
        "        print(\"Data     :\", data)\n",
        "\n",
        "    def handle_comment(self, data):\n",
        "        print(\"Comment  :\", data)\n",
        "\n",
        "    def handle_entityref(self, name):\n",
        "        c = chr(name2codepoint[name])\n",
        "        print(\"Named ent:\", c)\n",
        "\n",
        "    def handle_charref(self, name):\n",
        "        if name.startswith('x'):\n",
        "            c = chr(int(name[1:], 16))\n",
        "        else:\n",
        "            c = chr(int(name))\n",
        "        print(\"Num ent  :\", c)\n",
        "\n",
        "    def handle_decl(self, data):\n",
        "        print(\"Decl     :\", data)\n",
        "\n",
        "parser = MyHTMLParser()"
      ],
      "execution_count": 2,
      "outputs": []
    },
    {
      "cell_type": "code",
      "metadata": {
        "colab": {
          "base_uri": "https://localhost:8080/"
        },
        "id": "DnD14MS0VGXA",
        "outputId": "672dfc85-a1d0-4352-e3eb-0c3e640a154c"
      },
      "source": [
        "parser.feed('<!DOCTYPE HTML PUBLIC \"-//W3C//DTD HTML 4.01//EN\" ''\"http://www.w3.org/TR/html4/strict.dtd\">')"
      ],
      "execution_count": 3,
      "outputs": [
        {
          "output_type": "stream",
          "text": [
            "Decl     : DOCTYPE HTML PUBLIC \"-//W3C//DTD HTML 4.01//EN\" \"http://www.w3.org/TR/html4/strict.dtd\"\n"
          ],
          "name": "stdout"
        }
      ]
    },
    {
      "cell_type": "code",
      "metadata": {
        "colab": {
          "base_uri": "https://localhost:8080/"
        },
        "id": "9Y2GZB9hVQj8",
        "outputId": "048a6115-12db-439a-8787-fc92d6b0b417"
      },
      "source": [
        "parser.feed('<img src=\"python-logo.png\" alt=\"The Python logo\">')"
      ],
      "execution_count": 4,
      "outputs": [
        {
          "output_type": "stream",
          "text": [
            "Start tag: img\n",
            "     attr: ('src', 'python-logo.png')\n",
            "     attr: ('alt', 'The Python logo')\n"
          ],
          "name": "stdout"
        }
      ]
    },
    {
      "cell_type": "code",
      "metadata": {
        "colab": {
          "base_uri": "https://localhost:8080/"
        },
        "id": "AmYlX4zVVaHU",
        "outputId": "9ae62dde-cc1d-4296-aa12-bad9551c09d9"
      },
      "source": [
        "parser.feed('<h1>Python</h1>')"
      ],
      "execution_count": 5,
      "outputs": [
        {
          "output_type": "stream",
          "text": [
            "Start tag: h1\n",
            "Data     : Python\n",
            "End tag  : h1\n"
          ],
          "name": "stdout"
        }
      ]
    }
  ]
}