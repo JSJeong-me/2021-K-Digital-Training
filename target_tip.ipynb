{
 "cells": [
  {
   "cell_type": "markdown",
   "id": "aafbd97c-7d29-4a27-881c-65e82037b830",
   "metadata": {},
   "source": [
    "### Target Variable : Tip"
   ]
  },
  {
   "cell_type": "code",
   "execution_count": 1,
   "id": "3064337a-6b54-4a77-a842-06e7db770443",
   "metadata": {},
   "outputs": [
    {
     "name": "stdout",
     "output_type": "stream",
     "text": [
      "C:\\Users\\i\\Desktop\\2021-K-Digital-Training-main\\SQL\n"
     ]
    }
   ],
   "source": [
    "!cd"
   ]
  },
  {
   "cell_type": "code",
   "execution_count": 2,
   "id": "sudden-fellowship",
   "metadata": {},
   "outputs": [],
   "source": [
    "#!pip install PyMySQL==1.0.0"
   ]
  },
  {
   "cell_type": "code",
   "execution_count": 3,
   "id": "6852b727-9798-41c8-9059-8bf8529c4a41",
   "metadata": {},
   "outputs": [],
   "source": [
    "import pymysql.cursors\n",
    "import pandas as pd\n",
    "# Connect to the database"
   ]
  },
  {
   "cell_type": "code",
   "execution_count": 4,
   "id": "0206b3e2-93d3-428c-8225-d66c96141d3c",
   "metadata": {},
   "outputs": [],
   "source": [
    "# localhost or 127.0.0.1"
   ]
  },
  {
   "cell_type": "code",
   "execution_count": 5,
   "id": "polished-somerset",
   "metadata": {},
   "outputs": [
    {
     "name": "stdout",
     "output_type": "stream",
     "text": [
      "     total_bill   tip     sex smoker  day    time  size\n",
      "0         16.99  1.01  Female     No  Sun  Dinner   2.0\n",
      "1         10.34  1.66    Male     No  Sun  Dinner   3.0\n",
      "2         21.01  3.50    Male     No  Sun  Dinner   3.0\n",
      "3         23.68  3.31    Male     No  Sun  Dinner   2.0\n",
      "4         24.59  3.61  Female     No  Sun  Dinner   4.0\n",
      "..          ...   ...     ...    ...  ...     ...   ...\n",
      "247       20.65  3.35    Male     No       Dinner   4.0\n",
      "248       20.65  3.35    Male     No       Dinner   5.0\n",
      "249       10.34  1.66    None     No  Sun  Dinner   3.0\n",
      "250       10.34  1.66    None     No  Sun  Dinner   NaN\n",
      "251       16.99  1.01  Female     No  Sun    None   2.0\n",
      "\n",
      "[252 rows x 7 columns]\n"
     ]
    }
   ],
   "source": [
    "# MySQL DB에서 데이터 받아와서 DataFrame에 저장\n",
    "\n",
    "conn = pymysql.connect(host='localhost', user='root', \n",
    "                       password='8475', db='tip', charset='utf8',\n",
    "                       autocommit=True, cursorclass=pymysql.cursors.DictCursor)\n",
    "try:\n",
    "\n",
    "    with conn.cursor() as curs:\n",
    "      sql = \"SELECT * FROM tips;\"\n",
    "      curs.execute(sql)\n",
    "      rs = curs.fetchall()\n",
    "\n",
    "      # DB에서 받아온 값을 DataFrame에 넣음\n",
    "\n",
    "      df = pd.DataFrame(rs)\n",
    "      print(df)\n",
    "      #df.to_csv('query.csv')\n",
    "\n",
    "finally:\n",
    "\n",
    "   conn.close()"
   ]
  },
  {
   "cell_type": "code",
   "execution_count": 6,
   "id": "abf60f6b-199f-4f33-889a-55e43f99fc66",
   "metadata": {},
   "outputs": [
    {
     "data": {
      "text/plain": [
       "total_bill    0\n",
       "tip           0\n",
       "sex           2\n",
       "smoker        0\n",
       "day           0\n",
       "time          1\n",
       "size          1\n",
       "dtype: int64"
      ]
     },
     "execution_count": 6,
     "metadata": {},
     "output_type": "execute_result"
    }
   ],
   "source": [
    "df.isnull().sum()"
   ]
  },
  {
   "cell_type": "markdown",
   "id": "ab820c65-199b-4f65-89df-6fd61b95706b",
   "metadata": {},
   "source": [
    "### Encoding"
   ]
  },
  {
   "cell_type": "code",
   "execution_count": 7,
   "id": "244cf818-c5dd-4ee4-8ac4-fa1676aa91dc",
   "metadata": {},
   "outputs": [],
   "source": [
    "df['sex'].replace({'Female':0, 'Male':1}, inplace=True)"
   ]
  },
  {
   "cell_type": "code",
   "execution_count": 8,
   "id": "5e877e77-5985-40fd-8d9b-df4a4814e220",
   "metadata": {},
   "outputs": [],
   "source": [
    "df[\"smoker\"].replace({\"No\" : 0, \"Yes\" : 1}, inplace=True)\n",
    "df[\"day\"].replace({\"Thur\" : 0, \"Fri\" : 1, \"Sat\" : 2, \"Sun\" : 3}, inplace=True)\n",
    "df[\"time\"].replace({\"Lunch\" : 0, \"Dinner\" : 1}, inplace=True)"
   ]
  },
  {
   "cell_type": "code",
   "execution_count": 9,
   "id": "c7468d2d-1026-469a-9354-b8b4af4fc564",
   "metadata": {},
   "outputs": [],
   "source": [
    "import numpy as np"
   ]
  },
  {
   "cell_type": "code",
   "execution_count": 10,
   "id": "1b376a49-23e7-4527-a2cb-451483df1358",
   "metadata": {},
   "outputs": [],
   "source": [
    "df.replace('',np.nan,inplace=True) # '' -> np.nan"
   ]
  },
  {
   "cell_type": "code",
   "execution_count": null,
   "id": "1baec60e-16cd-433e-95ff-df0cd11b95a1",
   "metadata": {},
   "outputs": [],
   "source": []
  },
  {
   "cell_type": "code",
   "execution_count": 11,
   "id": "c12b6ba5-da4f-466c-9f26-322f8e99adee",
   "metadata": {},
   "outputs": [
    {
     "data": {
      "text/plain": [
       "total_bill    0\n",
       "tip           0\n",
       "sex           2\n",
       "smoker        0\n",
       "day           3\n",
       "time          1\n",
       "size          1\n",
       "dtype: int64"
      ]
     },
     "execution_count": 11,
     "metadata": {},
     "output_type": "execute_result"
    }
   ],
   "source": [
    "df.isnull().sum()"
   ]
  },
  {
   "cell_type": "code",
   "execution_count": 12,
   "id": "ee1ceda7-48eb-4ee5-85c2-139a47419a96",
   "metadata": {},
   "outputs": [
    {
     "data": {
      "text/html": [
       "<div>\n",
       "<style scoped>\n",
       "    .dataframe tbody tr th:only-of-type {\n",
       "        vertical-align: middle;\n",
       "    }\n",
       "\n",
       "    .dataframe tbody tr th {\n",
       "        vertical-align: top;\n",
       "    }\n",
       "\n",
       "    .dataframe thead th {\n",
       "        text-align: right;\n",
       "    }\n",
       "</style>\n",
       "<table border=\"1\" class=\"dataframe\">\n",
       "  <thead>\n",
       "    <tr style=\"text-align: right;\">\n",
       "      <th></th>\n",
       "      <th>total_bill</th>\n",
       "      <th>tip</th>\n",
       "      <th>sex</th>\n",
       "      <th>smoker</th>\n",
       "      <th>day</th>\n",
       "      <th>time</th>\n",
       "      <th>size</th>\n",
       "    </tr>\n",
       "  </thead>\n",
       "  <tbody>\n",
       "    <tr>\n",
       "      <th>count</th>\n",
       "      <td>252.000000</td>\n",
       "      <td>252.000000</td>\n",
       "      <td>250.000000</td>\n",
       "      <td>252.000000</td>\n",
       "      <td>249.000000</td>\n",
       "      <td>251.000000</td>\n",
       "      <td>251.000000</td>\n",
       "    </tr>\n",
       "    <tr>\n",
       "      <th>mean</th>\n",
       "      <td>19.702500</td>\n",
       "      <td>2.977460</td>\n",
       "      <td>0.644000</td>\n",
       "      <td>0.369048</td>\n",
       "      <td>1.746988</td>\n",
       "      <td>0.729084</td>\n",
       "      <td>2.589641</td>\n",
       "    </tr>\n",
       "    <tr>\n",
       "      <th>std</th>\n",
       "      <td>8.803699</td>\n",
       "      <td>1.378674</td>\n",
       "      <td>0.479776</td>\n",
       "      <td>0.483507</td>\n",
       "      <td>1.155388</td>\n",
       "      <td>0.445321</td>\n",
       "      <td>0.960694</td>\n",
       "    </tr>\n",
       "    <tr>\n",
       "      <th>min</th>\n",
       "      <td>3.070000</td>\n",
       "      <td>1.000000</td>\n",
       "      <td>0.000000</td>\n",
       "      <td>0.000000</td>\n",
       "      <td>0.000000</td>\n",
       "      <td>0.000000</td>\n",
       "      <td>1.000000</td>\n",
       "    </tr>\n",
       "    <tr>\n",
       "      <th>25%</th>\n",
       "      <td>13.347500</td>\n",
       "      <td>2.000000</td>\n",
       "      <td>0.000000</td>\n",
       "      <td>0.000000</td>\n",
       "      <td>1.000000</td>\n",
       "      <td>0.000000</td>\n",
       "      <td>2.000000</td>\n",
       "    </tr>\n",
       "    <tr>\n",
       "      <th>50%</th>\n",
       "      <td>17.795000</td>\n",
       "      <td>2.900000</td>\n",
       "      <td>1.000000</td>\n",
       "      <td>0.000000</td>\n",
       "      <td>2.000000</td>\n",
       "      <td>1.000000</td>\n",
       "      <td>2.000000</td>\n",
       "    </tr>\n",
       "    <tr>\n",
       "      <th>75%</th>\n",
       "      <td>24.022500</td>\n",
       "      <td>3.502500</td>\n",
       "      <td>1.000000</td>\n",
       "      <td>1.000000</td>\n",
       "      <td>3.000000</td>\n",
       "      <td>1.000000</td>\n",
       "      <td>3.000000</td>\n",
       "    </tr>\n",
       "    <tr>\n",
       "      <th>max</th>\n",
       "      <td>50.810000</td>\n",
       "      <td>10.000000</td>\n",
       "      <td>1.000000</td>\n",
       "      <td>1.000000</td>\n",
       "      <td>3.000000</td>\n",
       "      <td>1.000000</td>\n",
       "      <td>6.000000</td>\n",
       "    </tr>\n",
       "  </tbody>\n",
       "</table>\n",
       "</div>"
      ],
      "text/plain": [
       "       total_bill         tip         sex      smoker         day        time  \\\n",
       "count  252.000000  252.000000  250.000000  252.000000  249.000000  251.000000   \n",
       "mean    19.702500    2.977460    0.644000    0.369048    1.746988    0.729084   \n",
       "std      8.803699    1.378674    0.479776    0.483507    1.155388    0.445321   \n",
       "min      3.070000    1.000000    0.000000    0.000000    0.000000    0.000000   \n",
       "25%     13.347500    2.000000    0.000000    0.000000    1.000000    0.000000   \n",
       "50%     17.795000    2.900000    1.000000    0.000000    2.000000    1.000000   \n",
       "75%     24.022500    3.502500    1.000000    1.000000    3.000000    1.000000   \n",
       "max     50.810000   10.000000    1.000000    1.000000    3.000000    1.000000   \n",
       "\n",
       "             size  \n",
       "count  251.000000  \n",
       "mean     2.589641  \n",
       "std      0.960694  \n",
       "min      1.000000  \n",
       "25%      2.000000  \n",
       "50%      2.000000  \n",
       "75%      3.000000  \n",
       "max      6.000000  "
      ]
     },
     "execution_count": 12,
     "metadata": {},
     "output_type": "execute_result"
    }
   ],
   "source": [
    "df.describe()"
   ]
  },
  {
   "cell_type": "code",
   "execution_count": 13,
   "id": "62fa4316-1acf-47c6-96ad-c88228ca6f3e",
   "metadata": {},
   "outputs": [
    {
     "data": {
      "text/plain": [
       "pandas.core.frame.DataFrame"
      ]
     },
     "execution_count": 13,
     "metadata": {},
     "output_type": "execute_result"
    }
   ],
   "source": [
    "type(df)"
   ]
  },
  {
   "cell_type": "code",
   "execution_count": 14,
   "id": "c8a09b18-05c4-4571-a135-3dc9691072b5",
   "metadata": {},
   "outputs": [],
   "source": [
    "#import numpy as np\n",
    "from sklearn.impute import SimpleImputer"
   ]
  },
  {
   "cell_type": "code",
   "execution_count": 15,
   "id": "f609450f-d1b1-4ec7-911e-1036f54c1ff7",
   "metadata": {},
   "outputs": [],
   "source": [
    "data = df.values"
   ]
  },
  {
   "cell_type": "code",
   "execution_count": 16,
   "id": "6178d6c8-9a2c-47fa-acc7-c4fa279b8d34",
   "metadata": {},
   "outputs": [],
   "source": [
    "y=df['tip'] # Target variable -> Tip"
   ]
  },
  {
   "cell_type": "code",
   "execution_count": 17,
   "id": "65dbd32e-7a75-4ce0-b815-2233b6b76707",
   "metadata": {},
   "outputs": [],
   "source": [
    "X=df.drop('tip',axis=1)"
   ]
  },
  {
   "cell_type": "code",
   "execution_count": 18,
   "id": "a3ea8513-52d9-4768-af02-0c36d64229cf",
   "metadata": {},
   "outputs": [
    {
     "data": {
      "text/plain": [
       "Index(['total_bill', 'sex', 'smoker', 'day', 'time', 'size'], dtype='object')"
      ]
     },
     "execution_count": 18,
     "metadata": {},
     "output_type": "execute_result"
    }
   ],
   "source": [
    "X.columns"
   ]
  },
  {
   "cell_type": "code",
   "execution_count": 19,
   "id": "0539ed2c-f87a-4c74-83f8-12765a9afbe6",
   "metadata": {},
   "outputs": [
    {
     "data": {
      "text/plain": [
       "count    252.000000\n",
       "mean       2.977460\n",
       "std        1.378674\n",
       "min        1.000000\n",
       "25%        2.000000\n",
       "50%        2.900000\n",
       "75%        3.502500\n",
       "max       10.000000\n",
       "Name: tip, dtype: float64"
      ]
     },
     "execution_count": 19,
     "metadata": {},
     "output_type": "execute_result"
    }
   ],
   "source": [
    "y.describe()"
   ]
  },
  {
   "cell_type": "code",
   "execution_count": 20,
   "id": "daba16bb-ed27-4a7d-a94f-1dff467068a8",
   "metadata": {},
   "outputs": [],
   "source": [
    "data=X.values # Train data"
   ]
  },
  {
   "cell_type": "code",
   "execution_count": 21,
   "id": "577a504c-56a3-4efd-bbb1-3c702fcfb669",
   "metadata": {},
   "outputs": [],
   "source": [
    "y=y.values"
   ]
  },
  {
   "cell_type": "code",
   "execution_count": 22,
   "id": "4acce37e-6444-4166-a073-4ce9b245dd56",
   "metadata": {},
   "outputs": [
    {
     "data": {
      "text/plain": [
       "7"
      ]
     },
     "execution_count": 22,
     "metadata": {},
     "output_type": "execute_result"
    }
   ],
   "source": [
    "sum(np.isnan(data).flatten())"
   ]
  },
  {
   "cell_type": "code",
   "execution_count": 23,
   "id": "411d8dfd-517b-4170-b06c-655232b951d9",
   "metadata": {},
   "outputs": [
    {
     "data": {
      "text/plain": [
       "0"
      ]
     },
     "execution_count": 23,
     "metadata": {},
     "output_type": "execute_result"
    }
   ],
   "source": [
    "sum(np.isnan(y).flatten())"
   ]
  },
  {
   "cell_type": "code",
   "execution_count": 24,
   "id": "3fd0f8a4-2ee9-4875-9f48-f012fad7ef4d",
   "metadata": {},
   "outputs": [],
   "source": [
    "imputer = SimpleImputer(strategy='median')"
   ]
  },
  {
   "cell_type": "code",
   "execution_count": 25,
   "id": "7bab0148-6f4b-426d-8569-25e6b1b73690",
   "metadata": {},
   "outputs": [
    {
     "data": {
      "text/plain": [
       "SimpleImputer(strategy='median')"
      ]
     },
     "execution_count": 25,
     "metadata": {},
     "output_type": "execute_result"
    }
   ],
   "source": [
    "imputer.fit(data)"
   ]
  },
  {
   "cell_type": "code",
   "execution_count": 26,
   "id": "158e46a5-5b37-4db8-8662-ee5fe19e2914",
   "metadata": {},
   "outputs": [],
   "source": [
    "# transform the dataset\n",
    "data_trans = imputer.transform(data) # Imputed data set"
   ]
  },
  {
   "cell_type": "code",
   "execution_count": 31,
   "id": "2044cd5d-7761-43a2-ab34-41c02a51921c",
   "metadata": {},
   "outputs": [],
   "source": []
  },
  {
   "cell_type": "markdown",
   "id": "842f6624-7a99-4cb5-abe8-bcd77b55759b",
   "metadata": {},
   "source": [
    "### RFE"
   ]
  },
  {
   "cell_type": "code",
   "execution_count": 27,
   "id": "0a05f6e2-cf54-4150-8c89-d8a8fd45f2e9",
   "metadata": {},
   "outputs": [],
   "source": [
    "from sklearn.feature_selection import RFE"
   ]
  },
  {
   "cell_type": "code",
   "execution_count": 35,
   "id": "98a956a2-c37a-40f5-acc8-95c1c5358aa1",
   "metadata": {},
   "outputs": [],
   "source": [
    "#from sklearn.tree import DecisionTreeClassifier"
   ]
  },
  {
   "cell_type": "code",
   "execution_count": 28,
   "id": "5238a294-0600-41e0-bcf6-895bd60b30a0",
   "metadata": {},
   "outputs": [],
   "source": [
    "from sklearn.svm import SVR"
   ]
  },
  {
   "cell_type": "code",
   "execution_count": 29,
   "id": "6851a85a-6753-4a47-aec7-6943e372574d",
   "metadata": {},
   "outputs": [],
   "source": [
    "estimator = SVR(kernel=\"linear\")"
   ]
  },
  {
   "cell_type": "code",
   "execution_count": 30,
   "id": "be57ec10-d7d0-4903-bce1-e39a1628979e",
   "metadata": {},
   "outputs": [],
   "source": [
    "# define RFE\n",
    "rfe = RFE(estimator, n_features_to_select=4)"
   ]
  },
  {
   "cell_type": "code",
   "execution_count": 31,
   "id": "6b78574c-935b-4ef2-a0d0-2259185ac5ef",
   "metadata": {},
   "outputs": [],
   "source": [
    "# fit RFE\n",
    "selector=rfe.fit(data_trans, y)"
   ]
  },
  {
   "cell_type": "code",
   "execution_count": 69,
   "id": "2719d0d8-b8b5-4c4f-b935-95f07783b57d",
   "metadata": {},
   "outputs": [
    {
     "name": "stdout",
     "output_type": "stream",
     "text": [
      "C:\\Users\\i\\Desktop\\2021-K-Digital-Training-main\\SQL\n"
     ]
    }
   ],
   "source": [
    "!cd"
   ]
  },
  {
   "cell_type": "code",
   "execution_count": 32,
   "id": "266e1bc3-51a5-4487-a2dd-c275e0d2f344",
   "metadata": {},
   "outputs": [
    {
     "data": {
      "text/plain": [
       "array([ True,  True, False, False,  True,  True])"
      ]
     },
     "execution_count": 32,
     "metadata": {},
     "output_type": "execute_result"
    }
   ],
   "source": [
    "selector.support_"
   ]
  },
  {
   "cell_type": "code",
   "execution_count": 33,
   "id": "55293598-b597-406b-8cc9-b92b77f8cd48",
   "metadata": {},
   "outputs": [
    {
     "name": "stdout",
     "output_type": "stream",
     "text": [
      "Column: 0,  Rank: 1\n",
      "Column: 1,  Rank: 1\n",
      "Column: 2,  Rank: 3\n",
      "Column: 3,  Rank: 2\n",
      "Column: 4,  Rank: 1\n",
      "Column: 5,  Rank: 1\n"
     ]
    }
   ],
   "source": [
    "# summarize all features\n",
    "for i in range(data_trans.shape[1]):\n",
    "  print('Column: %d,  Rank: %d' % (i,  rfe.ranking_[i]))"
   ]
  },
  {
   "cell_type": "code",
   "execution_count": 34,
   "id": "eb1eb35f-6287-4147-bd19-3e6aa2261291",
   "metadata": {},
   "outputs": [],
   "source": [
    "df1=pd.DataFrame(data_trans, columns=['total_bill', 'sex', 'smoker', 'day', 'time', 'size'])"
   ]
  },
  {
   "cell_type": "code",
   "execution_count": 35,
   "id": "eeee0309-e328-406c-830e-3aa0cca22c49",
   "metadata": {},
   "outputs": [],
   "source": [
    "df1.columns"
   ]
  },
  {
   "cell_type": "code",
   "execution_count": 37,
   "id": "d5220406-c809-428f-8112-f6ebabeb8f43",
   "metadata": {},
   "outputs": [
    {
     "data": {
      "text/html": [
       "<div>\n",
       "<style scoped>\n",
       "    .dataframe tbody tr th:only-of-type {\n",
       "        vertical-align: middle;\n",
       "    }\n",
       "\n",
       "    .dataframe tbody tr th {\n",
       "        vertical-align: top;\n",
       "    }\n",
       "\n",
       "    .dataframe thead th {\n",
       "        text-align: right;\n",
       "    }\n",
       "</style>\n",
       "<table border=\"1\" class=\"dataframe\">\n",
       "  <thead>\n",
       "    <tr style=\"text-align: right;\">\n",
       "      <th></th>\n",
       "      <th>total_bill</th>\n",
       "      <th>sex</th>\n",
       "      <th>time</th>\n",
       "      <th>size</th>\n",
       "    </tr>\n",
       "  </thead>\n",
       "  <tbody>\n",
       "    <tr>\n",
       "      <th>0</th>\n",
       "      <td>16.99</td>\n",
       "      <td>0.0</td>\n",
       "      <td>1.0</td>\n",
       "      <td>2.0</td>\n",
       "    </tr>\n",
       "    <tr>\n",
       "      <th>1</th>\n",
       "      <td>10.34</td>\n",
       "      <td>1.0</td>\n",
       "      <td>1.0</td>\n",
       "      <td>3.0</td>\n",
       "    </tr>\n",
       "    <tr>\n",
       "      <th>2</th>\n",
       "      <td>21.01</td>\n",
       "      <td>1.0</td>\n",
       "      <td>1.0</td>\n",
       "      <td>3.0</td>\n",
       "    </tr>\n",
       "    <tr>\n",
       "      <th>3</th>\n",
       "      <td>23.68</td>\n",
       "      <td>1.0</td>\n",
       "      <td>1.0</td>\n",
       "      <td>2.0</td>\n",
       "    </tr>\n",
       "    <tr>\n",
       "      <th>4</th>\n",
       "      <td>24.59</td>\n",
       "      <td>0.0</td>\n",
       "      <td>1.0</td>\n",
       "      <td>4.0</td>\n",
       "    </tr>\n",
       "    <tr>\n",
       "      <th>...</th>\n",
       "      <td>...</td>\n",
       "      <td>...</td>\n",
       "      <td>...</td>\n",
       "      <td>...</td>\n",
       "    </tr>\n",
       "    <tr>\n",
       "      <th>247</th>\n",
       "      <td>20.65</td>\n",
       "      <td>1.0</td>\n",
       "      <td>1.0</td>\n",
       "      <td>4.0</td>\n",
       "    </tr>\n",
       "    <tr>\n",
       "      <th>248</th>\n",
       "      <td>20.65</td>\n",
       "      <td>1.0</td>\n",
       "      <td>1.0</td>\n",
       "      <td>5.0</td>\n",
       "    </tr>\n",
       "    <tr>\n",
       "      <th>249</th>\n",
       "      <td>10.34</td>\n",
       "      <td>1.0</td>\n",
       "      <td>1.0</td>\n",
       "      <td>3.0</td>\n",
       "    </tr>\n",
       "    <tr>\n",
       "      <th>250</th>\n",
       "      <td>10.34</td>\n",
       "      <td>1.0</td>\n",
       "      <td>1.0</td>\n",
       "      <td>2.0</td>\n",
       "    </tr>\n",
       "    <tr>\n",
       "      <th>251</th>\n",
       "      <td>16.99</td>\n",
       "      <td>0.0</td>\n",
       "      <td>1.0</td>\n",
       "      <td>2.0</td>\n",
       "    </tr>\n",
       "  </tbody>\n",
       "</table>\n",
       "<p>252 rows × 4 columns</p>\n",
       "</div>"
      ],
      "text/plain": [
       "     total_bill  sex  time  size\n",
       "0         16.99  0.0   1.0   2.0\n",
       "1         10.34  1.0   1.0   3.0\n",
       "2         21.01  1.0   1.0   3.0\n",
       "3         23.68  1.0   1.0   2.0\n",
       "4         24.59  0.0   1.0   4.0\n",
       "..          ...  ...   ...   ...\n",
       "247       20.65  1.0   1.0   4.0\n",
       "248       20.65  1.0   1.0   5.0\n",
       "249       10.34  1.0   1.0   3.0\n",
       "250       10.34  1.0   1.0   2.0\n",
       "251       16.99  0.0   1.0   2.0\n",
       "\n",
       "[252 rows x 4 columns]"
      ]
     },
     "execution_count": 37,
     "metadata": {},
     "output_type": "execute_result"
    }
   ],
   "source": [
    "df1.drop(['smoker', 'day'], axis=1)"
   ]
  },
  {
   "cell_type": "markdown",
   "id": "98c991f1-caf6-4b65-bc3f-6cb8eeb892d7",
   "metadata": {},
   "source": [
    "### PCA"
   ]
  },
  {
   "cell_type": "code",
   "execution_count": 39,
   "id": "514b1263-b997-4480-9899-b43dfa480c40",
   "metadata": {},
   "outputs": [],
   "source": [
    "from sklearn.decomposition import PCA"
   ]
  },
  {
   "cell_type": "code",
   "execution_count": 40,
   "id": "14982686-1e9e-4370-a733-9806a5ac61d6",
   "metadata": {},
   "outputs": [
    {
     "data": {
      "text/plain": [
       "(252, 6)"
      ]
     },
     "execution_count": 40,
     "metadata": {},
     "output_type": "execute_result"
    }
   ],
   "source": [
    "data_trans.shape"
   ]
  },
  {
   "cell_type": "code",
   "execution_count": 41,
   "id": "4147146b-0872-48af-95d1-74e395064afa",
   "metadata": {},
   "outputs": [],
   "source": [
    "# define the transform\n",
    "trans = PCA(n_components=4)"
   ]
  },
  {
   "cell_type": "code",
   "execution_count": 42,
   "id": "c43b621c-a2e7-4bac-bada-80faa03e6bf2",
   "metadata": {},
   "outputs": [],
   "source": [
    "# transform the data\n",
    "X_dim = trans.fit_transform(data_trans)"
   ]
  },
  {
   "cell_type": "code",
   "execution_count": 43,
   "id": "493cdf26-0f09-453b-bba9-868095951b57",
   "metadata": {},
   "outputs": [
    {
     "name": "stdout",
     "output_type": "stream",
     "text": [
      "[[-2.72161111 -1.23805454 -0.43580267  0.80856409]\n",
      " [-9.28403422 -1.60709112  0.92640616 -0.25494631]\n",
      " [ 1.36070512 -1.30036284  0.29684274 -0.16815677]]\n"
     ]
    }
   ],
   "source": [
    "# summarize data after the transform\n",
    "print(X_dim[:3, :])"
   ]
  },
  {
   "cell_type": "code",
   "execution_count": null,
   "id": "29d88815-40c9-4e1b-880d-c6aff47715fd",
   "metadata": {},
   "outputs": [],
   "source": []
  },
  {
   "cell_type": "markdown",
   "id": "ac972f76-3c5d-40ea-b246-8c9c73335f45",
   "metadata": {},
   "source": [
    "### Regression Feature Selection"
   ]
  },
  {
   "cell_type": "code",
   "execution_count": 44,
   "id": "8a58df47-03c6-431c-9030-21de5d39d083",
   "metadata": {},
   "outputs": [],
   "source": [
    "from sklearn.feature_selection import SelectKBest\n",
    "from sklearn.feature_selection import f_regression"
   ]
  },
  {
   "cell_type": "code",
   "execution_count": 45,
   "id": "2722ec2f-bf7d-4c4b-9d05-0eec598dfd37",
   "metadata": {},
   "outputs": [],
   "source": [
    "fs = SelectKBest(score_func=f_regression, k=4)"
   ]
  },
  {
   "cell_type": "code",
   "execution_count": 46,
   "id": "bdc7cde4-5af3-4da8-a077-ef2914a989a1",
   "metadata": {},
   "outputs": [
    {
     "data": {
      "text/plain": [
       "(252, 6)"
      ]
     },
     "execution_count": 46,
     "metadata": {},
     "output_type": "execute_result"
    }
   ],
   "source": [
    "data_trans.shape"
   ]
  },
  {
   "cell_type": "code",
   "execution_count": 47,
   "id": "9298bac1-933f-4df9-84e4-d6ba9a941025",
   "metadata": {},
   "outputs": [
    {
     "data": {
      "text/plain": [
       "(252,)"
      ]
     },
     "execution_count": 47,
     "metadata": {},
     "output_type": "execute_result"
    }
   ],
   "source": [
    "y.shape"
   ]
  },
  {
   "cell_type": "code",
   "execution_count": 48,
   "id": "8fb95c95-ccfb-4815-900a-91baf2a0524d",
   "metadata": {},
   "outputs": [],
   "source": [
    "# apply feature selection\n",
    "X_selected = fs.fit_transform(data_trans, y)"
   ]
  },
  {
   "cell_type": "code",
   "execution_count": 54,
   "id": "a3dc2048-aee0-4eab-b959-74dd1262ef1f",
   "metadata": {},
   "outputs": [],
   "source": [
    "parameters = fs.get_params(deep=True)"
   ]
  },
  {
   "cell_type": "code",
   "execution_count": 66,
   "id": "8b736901-b57f-4e04-a51a-91f223d7b1f9",
   "metadata": {},
   "outputs": [
    {
     "data": {
      "text/plain": [
       "{'k': 4,\n",
       " 'score_func': <function sklearn.feature_selection._univariate_selection.f_regression(X, y, *, center=True)>}"
      ]
     },
     "execution_count": 66,
     "metadata": {},
     "output_type": "execute_result"
    }
   ],
   "source": [
    "parameters"
   ]
  },
  {
   "cell_type": "code",
   "execution_count": 59,
   "id": "ff718fa2-1b4e-4618-b1d3-f49e6a218d5d",
   "metadata": {},
   "outputs": [
    {
     "data": {
      "text/plain": [
       "<function sklearn.feature_selection._univariate_selection.f_regression(X, y, *, center=True)>"
      ]
     },
     "execution_count": 59,
     "metadata": {},
     "output_type": "execute_result"
    }
   ],
   "source": [
    "parameters['score_func']"
   ]
  },
  {
   "cell_type": "code",
   "execution_count": 49,
   "id": "1a05c425-1268-4cc1-b616-b103f3fa0dbb",
   "metadata": {},
   "outputs": [],
   "source": [
    "print(X_selected.shape)"
   ]
  },
  {
   "cell_type": "code",
   "execution_count": 51,
   "id": "b9b7e459-0f18-470d-9564-8251ebb8237c",
   "metadata": {},
   "outputs": [
    {
     "data": {
      "text/plain": [
       "4"
      ]
     },
     "execution_count": 51,
     "metadata": {},
     "output_type": "execute_result"
    }
   ],
   "source": [
    "X_selected.shape[1]"
   ]
  },
  {
   "cell_type": "code",
   "execution_count": null,
   "id": "a88a8181-306f-4c1f-9c2f-5e3ea4f27966",
   "metadata": {},
   "outputs": [],
   "source": []
  },
  {
   "cell_type": "code",
   "execution_count": 64,
   "id": "f5c12642-eb99-4619-b48d-4794a3d565d1",
   "metadata": {},
   "outputs": [],
   "source": [
    "df_rfe_selected = pd.DataFrame(X_selected, columns=['total_bill', 'day', 'time', 'size'])"
   ]
  },
  {
   "cell_type": "code",
   "execution_count": 65,
   "id": "280a55e6-70b4-4111-86bf-f2e73475b96f",
   "metadata": {},
   "outputs": [
    {
     "data": {
      "text/html": [
       "<div>\n",
       "<style scoped>\n",
       "    .dataframe tbody tr th:only-of-type {\n",
       "        vertical-align: middle;\n",
       "    }\n",
       "\n",
       "    .dataframe tbody tr th {\n",
       "        vertical-align: top;\n",
       "    }\n",
       "\n",
       "    .dataframe thead th {\n",
       "        text-align: right;\n",
       "    }\n",
       "</style>\n",
       "<table border=\"1\" class=\"dataframe\">\n",
       "  <thead>\n",
       "    <tr style=\"text-align: right;\">\n",
       "      <th></th>\n",
       "      <th>total_bill</th>\n",
       "      <th>day</th>\n",
       "      <th>time</th>\n",
       "      <th>size</th>\n",
       "    </tr>\n",
       "  </thead>\n",
       "  <tbody>\n",
       "    <tr>\n",
       "      <th>count</th>\n",
       "      <td>252.000000</td>\n",
       "      <td>252.000000</td>\n",
       "      <td>252.000000</td>\n",
       "      <td>252.000000</td>\n",
       "    </tr>\n",
       "    <tr>\n",
       "      <th>mean</th>\n",
       "      <td>19.702500</td>\n",
       "      <td>1.750000</td>\n",
       "      <td>0.730159</td>\n",
       "      <td>2.587302</td>\n",
       "    </tr>\n",
       "    <tr>\n",
       "      <th>std</th>\n",
       "      <td>8.803699</td>\n",
       "      <td>1.148791</td>\n",
       "      <td>0.444761</td>\n",
       "      <td>0.959497</td>\n",
       "    </tr>\n",
       "    <tr>\n",
       "      <th>min</th>\n",
       "      <td>3.070000</td>\n",
       "      <td>0.000000</td>\n",
       "      <td>0.000000</td>\n",
       "      <td>1.000000</td>\n",
       "    </tr>\n",
       "    <tr>\n",
       "      <th>25%</th>\n",
       "      <td>13.347500</td>\n",
       "      <td>1.000000</td>\n",
       "      <td>0.000000</td>\n",
       "      <td>2.000000</td>\n",
       "    </tr>\n",
       "    <tr>\n",
       "      <th>50%</th>\n",
       "      <td>17.795000</td>\n",
       "      <td>2.000000</td>\n",
       "      <td>1.000000</td>\n",
       "      <td>2.000000</td>\n",
       "    </tr>\n",
       "    <tr>\n",
       "      <th>75%</th>\n",
       "      <td>24.022500</td>\n",
       "      <td>3.000000</td>\n",
       "      <td>1.000000</td>\n",
       "      <td>3.000000</td>\n",
       "    </tr>\n",
       "    <tr>\n",
       "      <th>max</th>\n",
       "      <td>50.810000</td>\n",
       "      <td>3.000000</td>\n",
       "      <td>1.000000</td>\n",
       "      <td>6.000000</td>\n",
       "    </tr>\n",
       "  </tbody>\n",
       "</table>\n",
       "</div>"
      ],
      "text/plain": [
       "       total_bill         day        time        size\n",
       "count  252.000000  252.000000  252.000000  252.000000\n",
       "mean    19.702500    1.750000    0.730159    2.587302\n",
       "std      8.803699    1.148791    0.444761    0.959497\n",
       "min      3.070000    0.000000    0.000000    1.000000\n",
       "25%     13.347500    1.000000    0.000000    2.000000\n",
       "50%     17.795000    2.000000    1.000000    2.000000\n",
       "75%     24.022500    3.000000    1.000000    3.000000\n",
       "max     50.810000    3.000000    1.000000    6.000000"
      ]
     },
     "execution_count": 65,
     "metadata": {},
     "output_type": "execute_result"
    }
   ],
   "source": [
    "df_rfe_selected.describe()"
   ]
  },
  {
   "cell_type": "code",
   "execution_count": null,
   "id": "95c37c02-0672-4f54-9641-ad02bb68561f",
   "metadata": {},
   "outputs": [],
   "source": []
  }
 ],
 "metadata": {
  "kernelspec": {
   "display_name": "Python Multi",
   "language": "python",
   "name": "multi"
  },
  "language_info": {
   "codemirror_mode": {
    "name": "ipython",
    "version": 3
   },
   "file_extension": ".py",
   "mimetype": "text/x-python",
   "name": "python",
   "nbconvert_exporter": "python",
   "pygments_lexer": "ipython3",
   "version": "3.7.6"
  }
 },
 "nbformat": 4,
 "nbformat_minor": 5
}
