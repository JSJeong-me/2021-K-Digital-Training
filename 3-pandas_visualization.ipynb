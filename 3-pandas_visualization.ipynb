{
 "cells": [
  {
   "cell_type": "markdown",
   "metadata": {},
   "source": [
    "____\n",
    "#### 1. Pandas 간단 소개 \n",
    "   + 데아타 분석시 전처리 패키지\n",
    "____"
   ]
  },
  {
   "cell_type": "code",
   "execution_count": null,
   "metadata": {},
   "outputs": [],
   "source": [
    "from matplotlib import pyplot as plt\n",
    "import matplotlib as mpl\n",
    "\n",
    "\n",
    "# mpl에서 데이타 시각화시 한글깨짐 현상과 x,y 축에 마이너스 안보이는 현상을 미리 제거하는 조치입니다.\n",
    "mpl.rc(\"font\", family = \"Malgun Gothic\")\n",
    "mpl.rcParams[\"axes.unicode_minus\"] = False\n",
    "\n",
    "# plt.show()를 호출하지 않아도 plot시 자동으로 호출하기 위한 노트북 매직 명령어입니다.\n",
    "%matplotlib inline"
   ]
  },
  {
   "cell_type": "code",
   "execution_count": null,
   "metadata": {},
   "outputs": [],
   "source": [
    "# pandas는 numpy 기반으로 만들어 졌기에 쌍으로 import하는 연습이 필요합니다.\n",
    "\n",
    "import numpy as np\n",
    "import pandas as pd"
   ]
  },
  {
   "cell_type": "code",
   "execution_count": null,
   "metadata": {},
   "outputs": [],
   "source": [
    "data = [[1, 3], [2, 5]]\n",
    "\n",
    "matrix = np.matrix(data)\n",
    "print(\"numpy matrix:\\n\", matrix)\n",
    "\n",
    "df = pd.DataFrame(data)\n",
    "print(\"pandas DataFrame:\\n\", df)"
   ]
  },
  {
   "cell_type": "markdown",
   "metadata": {},
   "source": [
    "##### 왜 DataFrame을 사용하는 가\n",
    "  1. DataFrame은 numpy matrix에서 matrix 행의 속성 `index`와 열의 속성 `column`이 적용된 형태입니다.\n",
    "  1. 데이터베이스 테이블이나 엑셀같은 표에서 데이터를 저장하는 형태와 동일합니다.\n",
    "  1. numpy.matrix를 사용하면서 불편한 점은 행렬 내부의 원소를 접근할 때 반드시 index 단위로 접근해야 했습니다.\n",
    "  1. 하지만, pandas는 각각의 행과 열을 지정할 수 있어서, 선택하는 데이타가 어떤 속성을 가지는지 쉽게 이해가 가능합니다.\n"
   ]
  },
  {
   "cell_type": "code",
   "execution_count": null,
   "metadata": {},
   "outputs": [],
   "source": [
    "data = [[78, 87], [95, 60]]\n",
    "\n",
    "# numpy 방식\n",
    "matrix = np.matrix(data)\n",
    "print(\"수학 성적: \", matrix[0,0], \"\\n\")\n",
    "\n",
    "index = list(\"AB\")\n",
    "columns = \"수학 영어\".split()\n",
    "df = pd.DataFrame(data, index=index, columns=columns)\n",
    "# pandas의 여러가지 방식으로 행렬에 접근하는 방식\n",
    "print(\"수학 성적: \", df.loc[\"A\", \"수학\"]) # for loc\n",
    "print(\"수학 성적: \", df.iloc[0, 0])      # for iloc\n",
    "print(\"수학 성적: \", df.iat[0, 0])       # for iat\n",
    "print(\"수학 성적: \", df.at[\"A\", \"수학\"], \"\\n\") # for at\n",
    "\n",
    "print(df[0:2]) # for index slicing only\n",
    "df.iloc[:, 1]  # 모든 행(:,)에 두번째 열(1)만을 슬라이싱한 예"
   ]
  },
  {
   "cell_type": "code",
   "execution_count": null,
   "metadata": {},
   "outputs": [],
   "source": [
    "%whos  # 현재 실행 중인 in-memory 상태의 객체들"
   ]
  },
  {
   "cell_type": "code",
   "execution_count": null,
   "metadata": {},
   "outputs": [],
   "source": [
    "df.describe()"
   ]
  },
  {
   "cell_type": "code",
   "execution_count": null,
   "metadata": {},
   "outputs": [],
   "source": [
    "df.info()"
   ]
  },
  {
   "cell_type": "markdown",
   "metadata": {},
   "source": [
    "----\n",
    "#### 2. Pandas 시각화 \n",
    "   + DateFrame의 plot 메쏘드를 이용하면 다양한 형태의 그래프를 그릴 수 있습니다.\n",
    "     - DataFrame.plot.bar() : 막대\n",
    "     - DataFrame.plot.line() : 선\n",
    "     - DataFrame.plot.scatter() : 산포도\n",
    "     - DataFrame.plot.box() : Box\n",
    "____"
   ]
  },
  {
   "cell_type": "code",
   "execution_count": null,
   "metadata": {},
   "outputs": [],
   "source": [
    "df.plot.bar()\n",
    "df.plot.line()\n",
    "df.plot.box()"
   ]
  },
  {
   "cell_type": "markdown",
   "metadata": {},
   "source": [
    "----\n",
    "#### iris dataset을 이용한 산포도 그리기\n",
    "  - 데이타 마이닝 수업의 단골 손님인 iris 데이타를 이용\n",
    "    - sklearn package에서 load하여 사용\n",
    "----"
   ]
  },
  {
   "cell_type": "code",
   "execution_count": null,
   "metadata": {},
   "outputs": [],
   "source": [
    "from sklearn import datasets"
   ]
  },
  {
   "cell_type": "code",
   "execution_count": null,
   "metadata": {},
   "outputs": [],
   "source": [
    "# sklearn package에서 내장된 sample dataset 알아보기\n",
    "# 36번에 iris가 보는 군요.(classification용 sample 자료)\n",
    "for i, attr in enumerate(dir(datasets)):\n",
    "    if attr[0] == 'l' and attr[1] == 'o':\n",
    "        print(i, attr)"
   ]
  },
  {
   "cell_type": "code",
   "execution_count": null,
   "metadata": {},
   "outputs": [],
   "source": [
    "from sklearn import datasets\n",
    "\n",
    "data = datasets.load_iris()"
   ]
  },
  {
   "cell_type": "code",
   "execution_count": null,
   "metadata": {},
   "outputs": [],
   "source": [
    "# 도대체 번치 데이타란 무엇인가?\n",
    "# 이것을 모르면 데이타 분석의 영계에 들어 갈 수가 없다.\n",
    "type(data)"
   ]
  },
  {
   "cell_type": "markdown",
   "metadata": {},
   "source": [
    "#### Scikit-Learn의 샘플 데이터\n",
    "  - sklearn.datasets 서브패키지는 모형 실습을 위한 예제 데이터 세트를 제공한다.\n",
    "\n",
    "  - 예제 데이터 세트를 불러오는 명령들은 크게 다음과 같은 세가지 계열의 명령으로 나눌 수 있다.\n",
    "\n",
    "    - load 계열 명령: 저장된 dataset import\n",
    "    - fetch 계열 명령: 인터넷에서 캐쉬로 download 후 import\n",
    "    - make 계열 명령: 가상 dataset을 생성\n",
    "    - load 계열 명령\n",
    "  - 예제 데이터 세트는 데이터 크기가 작은 것부터 큰 것까지 다양하다.   - scikit-learn 패키지는 작은 예제 데이터는 패키지 안에 포함하여 배포하고 크기가 큰 것들은 첫번째로 데이터를 불러들일때 인터넷에서 다운로드받아 저장해 놓았다가 불러온다.\n",
    "\n",
    "  - load 계열의 명령들은 패키지에 처음부터 저장되어 다운로드 없이 바로 쓸 수 있는 것들이다.\n",
    "\n",
    "    - load_boston(): 회귀 분석용 보스턴 집값\n",
    "    - load_diabetes(): 회귀 분석용 당뇨병 자료\n",
    "    - load_linnerud(): 회귀 분석용 linnerud 자료\n",
    "    - load_iris(): classification용 iris 자료\n",
    "    - load_digits(): classification용 숫자 필기 이미지 자료\n",
    "    - load_wine(): classification용 포도주 등급 자료\n",
    "    - load_breast_cancer(): classification용 유방암 진단 자료\n",
    "    \n",
    "  - fetch 계열의 명령들은 데이터의 크기가 커서 패키지에 처음부터 저장되어 있지 않고 인터넷에서 다운로드 받아 홈 디렉토리 아래의 scikit_learn_data 라는 서브 디렉토리에 저장한 후 추후 불러들이는 데이터들이다. 따라서 최초 사용시에 인터넷에 연결되어 있지 않으면 사용할 수 없다.\n",
    "\n",
    "    - fetch_covtype() : 회귀분석용 토지 조사 자료\n",
    "    - fetch_20newsgroups() : 뉴스 그룹 텍스트 자료\n",
    "    - fetch_olivetti_faces() : 얼굴 이미지 자료\n",
    "    - fetch_lfw_people() : 얼굴 이미지 자료\n",
    "    - fetch_lfw_pairs() : 얼굴 이미지 자료\n",
    "    - fetch_rcv1() : 로이터 뉴스 corpus\n",
    "    - fetch_mldata() : ML 웹사이트에서 다운로드\n",
    "    \n",
    "  - make 계열 명령\n",
    "  - 경우에 따라서는 모형을 시험하기 위해 원하는 특성을 가진 가상의 데이터가 필요할 수 있다. make 계열 명령은 이러한 가상 데이터를 생성하는 역할을 한다.\n",
    "\n",
    "    - make_regression(): 회귀 분석용 가상 데이터 생성\n",
    "    - make_classification(): 분류용 가상 데이터 생성\n",
    "    - make_blobs(): 클러스터링용 가상 데이터 생성\n",
    "    \n",
    "  - 데이터 세트의 형식¶\n",
    "  - scikit-learn의 대부분의 샘플 데이터는 `Bunch` 라는 클래스 객체로 생성된다. 이 클래스 객체는 다음과 같은 속성을 가진다.\n",
    "\n",
    "    - data: (필수) 독립 변수 ndarray 배열\n",
    "    - target: (필수) 종속 변수 ndarray 배열\n",
    "    - feature_names: (옵션) 독립 변수 이름 리스트\n",
    "    - target_names: (옵션) 종속 변수 이름 리스트\n",
    "    - DESCR: (옵션) 자료에 대한 설명"
   ]
  },
  {
   "cell_type": "code",
   "execution_count": null,
   "metadata": {},
   "outputs": [],
   "source": [
    "print(data.DESCR)"
   ]
  },
  {
   "cell_type": "code",
   "execution_count": null,
   "metadata": {},
   "outputs": [],
   "source": [
    "from pprint import *\n",
    "from sklearn import datasets\n",
    "import numpy as np\n",
    "import pandas as pd\n",
    "\n",
    "iris_bunch = datasets.load_iris()\n",
    "\n",
    "data = iris_bunch['data']\n",
    "target = iris_bunch['target']\n",
    "target_names = iris_bunch['target_names']\n",
    "feature_names = iris_bunch['feature_names']\n",
    "\n",
    "data = iris_bunch.data\n",
    "target = iris_bunch.target\n",
    "target_names = iris_bunch.target_names\n",
    "feature_names = iris_bunch.feature_names\n",
    "\n",
    "df_iris = pd.DataFrame(data=data, columns=feature_names)"
   ]
  },
  {
   "cell_type": "code",
   "execution_count": null,
   "metadata": {},
   "outputs": [],
   "source": [
    "print(target_names)"
   ]
  },
  {
   "cell_type": "code",
   "execution_count": null,
   "metadata": {},
   "outputs": [],
   "source": [
    "pprint(feature_names)"
   ]
  },
  {
   "cell_type": "code",
   "execution_count": null,
   "metadata": {},
   "outputs": [],
   "source": [
    "data.shape"
   ]
  },
  {
   "cell_type": "code",
   "execution_count": null,
   "metadata": {},
   "outputs": [],
   "source": [
    "target.shape"
   ]
  },
  {
   "cell_type": "code",
   "execution_count": null,
   "metadata": {},
   "outputs": [],
   "source": [
    "data.dtype"
   ]
  },
  {
   "cell_type": "code",
   "execution_count": null,
   "metadata": {},
   "outputs": [],
   "source": [
    "type(data)"
   ]
  },
  {
   "cell_type": "code",
   "execution_count": null,
   "metadata": {},
   "outputs": [],
   "source": [
    "type(iris_bunch)"
   ]
  },
  {
   "cell_type": "code",
   "execution_count": null,
   "metadata": {},
   "outputs": [],
   "source": [
    "type(datasets.load_iris())"
   ]
  },
  {
   "cell_type": "code",
   "execution_count": null,
   "metadata": {},
   "outputs": [],
   "source": [
    "df_iris.head()"
   ]
  },
  {
   "cell_type": "code",
   "execution_count": null,
   "metadata": {},
   "outputs": [],
   "source": [
    "df_iris.tail()"
   ]
  },
  {
   "cell_type": "code",
   "execution_count": null,
   "metadata": {},
   "outputs": [],
   "source": [
    "df_01 = df_iris.copy()"
   ]
  },
  {
   "cell_type": "code",
   "execution_count": null,
   "metadata": {},
   "outputs": [],
   "source": [
    "df_iris[\"target\"] = target\n",
    "# df_iris.loc[:, \"target\"] = target"
   ]
  },
  {
   "cell_type": "code",
   "execution_count": null,
   "metadata": {},
   "outputs": [],
   "source": [
    "df_iris.tail().shape"
   ]
  },
  {
   "cell_type": "markdown",
   "metadata": {},
   "source": [
    "----\n",
    "#### 이제 scatter 함수로 산포도를 그려봅시다.\n",
    "  - x축과 y축으로 사용할 column 명을 매개변수로 반드시 넣어야 합니다."
   ]
  },
  {
   "cell_type": "code",
   "execution_count": null,
   "metadata": {},
   "outputs": [],
   "source": [
    "df_iris.columns"
   ]
  },
  {
   "cell_type": "code",
   "execution_count": null,
   "metadata": {},
   "outputs": [],
   "source": [
    "feature_names"
   ]
  },
  {
   "cell_type": "code",
   "execution_count": null,
   "metadata": {},
   "outputs": [],
   "source": [
    "target_names"
   ]
  },
  {
   "cell_type": "code",
   "execution_count": null,
   "metadata": {},
   "outputs": [],
   "source": [
    "df_iris.plot.scatter(x=feature_names[0], y=\"target\", c=\"darkblue\")"
   ]
  },
  {
   "cell_type": "markdown",
   "metadata": {},
   "source": [
    "##### target에 따라 색을 넣어 구분하는 color라는 column을 새로 만들어 봅시다."
   ]
  },
  {
   "cell_type": "code",
   "execution_count": null,
   "metadata": {},
   "outputs": [],
   "source": [
    "df_iris.index"
   ]
  },
  {
   "cell_type": "code",
   "execution_count": null,
   "metadata": {},
   "outputs": [],
   "source": [
    "for i in df_iris:\n",
    "    print(i)"
   ]
  },
  {
   "cell_type": "code",
   "execution_count": null,
   "metadata": {},
   "outputs": [],
   "source": [
    "zero_target = df_iris[df_iris.target == 0].index\n",
    "ones_target = df_iris[df_iris.target == 1].index\n",
    "twos_traget = df_iris[df_iris.target == 2].index"
   ]
  },
  {
   "cell_type": "code",
   "execution_count": null,
   "metadata": {},
   "outputs": [],
   "source": [
    "df_iris.loc[zero_target, \"color\"] = \"r\"\n",
    "df_iris.loc[ones_target, \"color\"] = \"g\"\n",
    "df_iris.loc[twos_traget, \"color\"] = \"b\""
   ]
  },
  {
   "cell_type": "code",
   "execution_count": null,
   "metadata": {},
   "outputs": [],
   "source": [
    "df_iris.plot.scatter(x=feature_names[0], y=\"target\", \n",
    "                    c=df_iris.color)"
   ]
  },
  {
   "cell_type": "markdown",
   "metadata": {},
   "source": [
    "____\n",
    "##### 여러 종류의 그래프를 한 곳에 그리는 방법을 알아봅시다."
   ]
  },
  {
   "cell_type": "code",
   "execution_count": null,
   "metadata": {},
   "outputs": [],
   "source": [
    "feature_names"
   ]
  },
  {
   "cell_type": "code",
   "execution_count": null,
   "metadata": {},
   "outputs": [],
   "source": [
    "# plot method는 Axes라는 좌표축 객체를 반환\n",
    "ax_01 = df_iris[feature_names[0]].plot.line(color=\"green\")\n",
    "ax_02 = df_iris[feature_names[2]].plot.bar(ax=ax_01, color=\"red\")\n",
    "\n",
    "# x측의 간격과 label name을 지정\n",
    "ax_02.set_xticks(df_iris.index[0::10])\n",
    "ax_02.set_xticklabels(df_iris.index[0::10], rotation=45)\n",
    "\n",
    "# y축의 fkqp[f name을 지정\n",
    "ax_02.set_ylabel(\"length(cm)\")\n",
    "\n",
    "# 범례를 지정하고 그림 layout을 tight하게 지정\n",
    "ax_02.legend()\n",
    "plt.tight_layout()\n",
    "plt.show() # notebook에서는 없어도 되나 터미날 창에서 직접 명령을 줄 경우를 대비"
   ]
  },
  {
   "cell_type": "markdown",
   "metadata": {},
   "source": [
    "____\n",
    "#### 데이타 시각화가 필요한 이유\n",
    "  - 앤스콤 4분할 그래프로 살펴보기\n",
    "    - 데이타 시각화를 보여주는 전형적인 사례로 앤콤 4분할 그래프(Anscombe's quarter)가 있습니다. 프랭크 앤스콤이 데이타를 시각화하지 않고 수치만 확인할 때 발생할 수 있는 함정을 보여주기 위해 만든 그래프입니다. 그러면 앤스콤이 지적한 `\"함정\"`이란 무엇일까요?\n",
    "____"
   ]
  },
  {
   "cell_type": "markdown",
   "metadata": {},
   "source": [
    "   - 4개의 데이타 그룹은 각각 평균, 분산과 같은 수치값이나 상관관계, 회귀선이 같다는 특징이 있습니다.\n",
    "   - 그래서 이런 결과만 보고 \"데이타 그룹 I, II, III, IV의 데이터는 모두 같을 것이다.\"라고 착각할 수 있다는 것입니다.\n",
    "   - 하지만 이를 시각화하면 데이타 그룹들이 서로 다른 데이타 패턴을 가지고 있다는 것을 금방 알수 있다는 것입니다.\n",
    "   - 이런 점에서 데이타 시각화는 데이타 분석 분야에서 아주 중요한 요소라 할 수 있습니다."
   ]
  },
  {
   "cell_type": "code",
   "execution_count": null,
   "metadata": {},
   "outputs": [],
   "source": [
    "import seaborn as sns"
   ]
  },
  {
   "cell_type": "code",
   "execution_count": null,
   "metadata": {},
   "outputs": [],
   "source": [
    "df_anscombe = sns.load_dataset(\"anscombe\")\n",
    "# https://github.com/mwaskom/seaborn-data (csv 파일)\n",
    "# 위 사이트에서 seaborn으로 load_dataset 할 수는 데이타가 있습니다.\n",
    "# csv 화일을 DataFrame으로 읽어 들였으니 내용을 확인해 봅시다."
   ]
  },
  {
   "cell_type": "code",
   "execution_count": null,
   "metadata": {},
   "outputs": [],
   "source": [
    "df_anscombe.describe()"
   ]
  },
  {
   "cell_type": "code",
   "execution_count": null,
   "metadata": {},
   "outputs": [],
   "source": [
    "df_anscombe.columns"
   ]
  },
  {
   "cell_type": "code",
   "execution_count": null,
   "metadata": {},
   "outputs": [],
   "source": [
    "df_anscombe.index"
   ]
  },
  {
   "cell_type": "code",
   "execution_count": null,
   "metadata": {},
   "outputs": [],
   "source": [
    "df_anscombe.head(2)"
   ]
  },
  {
   "cell_type": "code",
   "execution_count": null,
   "metadata": {},
   "outputs": [],
   "source": [
    "# dataset의 값이 어떤 것들로 구성되어 있는지 확인합니다.\n",
    "\n",
    "df_anscombe.dataset.unique()"
   ]
  },
  {
   "cell_type": "code",
   "execution_count": null,
   "metadata": {},
   "outputs": [],
   "source": [
    "# dataset이 4개의 유형(I, II, III, IV)으로 된 것을 쪼개봅니다.\n",
    "\n",
    "df_I_anscombe   = df_anscombe[df_anscombe.dataset ==   \"I\"]\n",
    "df_II_anscombe  = df_anscombe[df_anscombe.dataset ==  \"II\"]\n",
    "df_III_anscombe = df_anscombe[df_anscombe.dataset == \"III\"]\n",
    "df_IV_anscombe  = df_anscombe[df_anscombe.dataset ==  \"IV\"]"
   ]
  },
  {
   "cell_type": "code",
   "execution_count": null,
   "metadata": {},
   "outputs": [],
   "source": [
    "# line graph 부터 하나씩 확인해봅니다.\n",
    "\n",
    "df_I_anscombe.plot.line()\n",
    "df_II_anscombe.plot.bar()\n",
    "df_III_anscombe.plot.scatter(x=\"x\", y=\"y\", c=\"b\")\n",
    "df_IV_anscombe.plot.box()"
   ]
  },
  {
   "cell_type": "code",
   "execution_count": null,
   "metadata": {},
   "outputs": [],
   "source": [
    "plot_method = [\n",
    "     'bar',\n",
    "     'barh',\n",
    "     'box',\n",
    "     'density',\n",
    "     'hexbin',\n",
    "     'hist',\n",
    "     'kde',\n",
    "     'line',\n",
    "     'pie',\n",
    "     'scatter']"
   ]
  },
  {
   "cell_type": "code",
   "execution_count": null,
   "metadata": {},
   "outputs": [],
   "source": [
    "# dir(df_I_anscombe.plot)으로 확인해서 함수만 따왔습니다.\n",
    "plot_method # pandas.plot.bar 등으로  그릴 수 있는 그래프 종류입니다."
   ]
  },
  {
   "cell_type": "code",
   "execution_count": null,
   "metadata": {},
   "outputs": [],
   "source": [
    "df_anscombe.plot.kde()"
   ]
  },
  {
   "cell_type": "markdown",
   "metadata": {},
   "source": [
    "----\n",
    "#### 하나의 figure에 4개의 axis를 그려 봅시다.\n",
    "  - figure, subplot, axis, plot, show 순서입니다.\n",
    "  - matplotlib.pyplot을 이용하였습니다.\n",
    "----"
   ]
  },
  {
   "cell_type": "code",
   "execution_count": null,
   "metadata": {},
   "outputs": [],
   "source": [
    "# 12 x 8 inch 캔버스를 장만합니다.\n",
    "fig = plt.figure(figsize=[12,8])\n",
    "\n",
    "# 캔버스 위에 2 by 2 subplot을 시계방향으로 4개 생성합니다.\n",
    "axis_01 = fig.add_subplot(2,2,1)\n",
    "axis_02 = fig.add_subplot(2,2,2)\n",
    "axis_03 = fig.add_subplot(2,2,3)\n",
    "axis_04 = fig.add_subplot(2,2,4)\n",
    "\n",
    "# 4개의 축에 각각 시계방향으로 4개의 유형의 그래프를 그립니다. \n",
    "axis_01.plot(df_I_anscombe.x, df_I_anscombe.y, 'o')\n",
    "axis_02.plot(df_II_anscombe.x, df_II_anscombe.y, '^')\n",
    "axis_03.plot(df_III_anscombe.x, df_III_anscombe.y, '>')\n",
    "axis_04.plot(df_IV_anscombe.x, df_IV_anscombe.y, '*')\n",
    "\n",
    "# 4개의 축에 시계방향으로 4개의 타이틀을 삽입합니다. \n",
    "axis_01.set_title(\"dataset I\")\n",
    "axis_02.set_title(\"dataset II\")\n",
    "axis_03.set_title(\"dataset III\")\n",
    "axis_04.set_title(\"dataset IV\")\n",
    "\n",
    "# 캔버스 위에 제목을 삽입니다. \n",
    "fig.suptitle(\"Anscombe Data\")\n",
    "# 캔버스 위에 4개의 그래프 공간을 효율적으로 배치합니다.\n",
    "fig.tight_layout()\n",
    "\n",
    "# 이제 전체를 보여주는 명령을 내입니다.\n",
    "fig\n",
    "plt.show()"
   ]
  },
  {
   "cell_type": "markdown",
   "metadata": {},
   "source": [
    "----\n",
    "#### Pandas를 이용한 데이타 시각화 기초를 마무리합니다. 감사합니다.\n",
    "----"
   ]
  },
  {
   "cell_type": "code",
   "execution_count": null,
   "metadata": {},
   "outputs": [],
   "source": []
  }
 ],
 "metadata": {
  "kernelspec": {
   "display_name": "Python 3",
   "language": "python",
   "name": "python3"
  },
  "language_info": {
   "codemirror_mode": {
    "name": "ipython",
    "version": 3
   },
   "file_extension": ".py",
   "mimetype": "text/x-python",
   "name": "python",
   "nbconvert_exporter": "python",
   "pygments_lexer": "ipython3",
   "version": "3.7.6"
  }
 },
 "nbformat": 4,
 "nbformat_minor": 4
}
