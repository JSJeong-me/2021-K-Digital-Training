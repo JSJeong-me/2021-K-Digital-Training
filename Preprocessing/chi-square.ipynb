{
 "cells": [
  {
   "cell_type": "markdown",
   "id": "proprietary-childhood",
   "metadata": {},
   "source": [
    "### the Chi-Squared Test for Machine Learning\n",
    "\n",
    "A common problem in applied machine learning is determining whether input features are relevant to the outcome to be predicted.\n",
    "\n",
    "This is the problem of feature selection.\n",
    "\n",
    "### The chi-squared test can compare an observed contingency table to an expected table and determine if the categorical variables are independent.\n",
    "\n",
    "https://machinelearningmastery.com/chi-squared-test-for-machine-learning/"
   ]
  },
  {
   "cell_type": "markdown",
   "id": "clean-wyoming",
   "metadata": {},
   "source": [
    "### Contingency Table\n",
    "A categorical variable is a variable that may take on one of a set of labels.\n",
    "\n",
    "## Does an interest in math or science depend on gender, or are they independent?\n",
    "\n",
    "### Sex,\tInterest\n",
    "Male,\tArt\n",
    "Female,\tMath\n",
    "Male, \tScience\n",
    "Male,\tMath\n",
    "..."
   ]
  },
  {
   "cell_type": "markdown",
   "id": "minimal-azerbaijan",
   "metadata": {},
   "source": [
    "        Science,\tMath,\tArt\n",
    "Male         20,      30,    15\n",
    "Female       20,      15,    30"
   ]
  },
  {
   "cell_type": "markdown",
   "id": "hearing-struggle",
   "metadata": {},
   "source": [
    "위의 성별 / 관심 사례가 주어지면 범주 (남성 및 여성)에 대한 관측치 수가 같을 수도 있고 같지 않을 수도 있습니다. \n",
    "그럼에도 불구하고 우리는 각 관심 그룹에서 예상되는 관측 빈도를 계산하고 성별에 따른 관심의 분할이 비슷한 빈도 또는 다른 빈도를 초래하는지 확인할 수 있습니다."
   ]
  },
  {
   "cell_type": "markdown",
   "id": "published-invalid",
   "metadata": {},
   "source": [
    "If Statistic >= Critical Value: significant result, reject null hypothesis (H0), dependent.\n",
    "If Statistic < Critical Value: not significant result, fail to reject null hypothesis (H0), independent."
   ]
  },
  {
   "cell_type": "markdown",
   "id": "voluntary-stylus",
   "metadata": {},
   "source": [
    "The degrees of freedom for the chi-squared distribution is calculated based on the size of the contingency table as:\n",
    "### degrees of freedom: (rows - 1) * (cols - 1)"
   ]
  },
  {
   "cell_type": "markdown",
   "id": "changed-boards",
   "metadata": {},
   "source": [
    "In terms of a p-value and a chosen significance level (alpha), the test can be interpreted as follows:\n",
    "\n",
    "If p-value <= alpha: significant result, reject null hypothesis (H0), dependent.\n",
    "If p-value > alpha: not significant result, fail to reject null hypothesis (H0), independent."
   ]
  },
  {
   "cell_type": "code",
   "execution_count": 1,
   "id": "approximate-brake",
   "metadata": {},
   "outputs": [],
   "source": [
    "# chi-squared test with similar proportions\n",
    "from scipy.stats import chi2_contingency\n",
    "from scipy.stats import chi2"
   ]
  },
  {
   "cell_type": "code",
   "execution_count": 2,
   "id": "associate-tumor",
   "metadata": {},
   "outputs": [
    {
     "name": "stdout",
     "output_type": "stream",
     "text": [
      "[[10, 20, 30], [6, 9, 17]]\n"
     ]
    }
   ],
   "source": [
    "# contingency table\n",
    "table = [\t[10, 20, 30],\n",
    "\t\t\t[6,  9,  17]]\n",
    "print(table)"
   ]
  },
  {
   "cell_type": "code",
   "execution_count": 4,
   "id": "available-review",
   "metadata": {},
   "outputs": [
    {
     "name": "stdout",
     "output_type": "stream",
     "text": [
      "dof=2\n",
      "[[10.43478261 18.91304348 30.65217391]\n",
      " [ 5.56521739 10.08695652 16.34782609]]\n"
     ]
    }
   ],
   "source": [
    "stat, p, dof, expected = chi2_contingency(table)\n",
    "print('dof=%d' % dof)\n",
    "print(expected)"
   ]
  },
  {
   "cell_type": "code",
   "execution_count": 6,
   "id": "growing-looking",
   "metadata": {},
   "outputs": [
    {
     "name": "stdout",
     "output_type": "stream",
     "text": [
      "probability=0.950, critical=5.991, stat=0.272\n"
     ]
    }
   ],
   "source": [
    "# interpret test-statistic\n",
    "prob = 0.95\n",
    "critical = chi2.ppf(prob, dof)\n",
    "print('probability=%.3f, critical=%.3f, stat=%.3f' % (prob, critical, stat))"
   ]
  },
  {
   "cell_type": "code",
   "execution_count": 7,
   "id": "absolute-ceiling",
   "metadata": {},
   "outputs": [
    {
     "name": "stdout",
     "output_type": "stream",
     "text": [
      "Independent (fail to reject H0)\n"
     ]
    }
   ],
   "source": [
    "if abs(stat) >= critical:\n",
    "\tprint('Dependent (reject H0)')\n",
    "else:\n",
    "\tprint('Independent (fail to reject H0)')"
   ]
  },
  {
   "cell_type": "code",
   "execution_count": 8,
   "id": "innovative-spain",
   "metadata": {},
   "outputs": [
    {
     "name": "stdout",
     "output_type": "stream",
     "text": [
      "significance=0.050, p=0.873\n",
      "Independent (fail to reject H0)\n"
     ]
    }
   ],
   "source": [
    "# interpret p-value\n",
    "alpha = 1.0 - prob\n",
    "print('significance=%.3f, p=%.3f' % (alpha, p))\n",
    "if p <= alpha:\n",
    "\tprint('Dependent (reject H0)')\n",
    "else:\n",
    "\tprint('Independent (fail to reject H0)')"
   ]
  },
  {
   "cell_type": "markdown",
   "id": "actual-drinking",
   "metadata": {},
   "source": [
    "### 결과 해설"
   ]
  },
  {
   "cell_type": "markdown",
   "id": "employed-married",
   "metadata": {},
   "source": [
    "Running the example first prints the contingency table. \n",
    "The test is calculated and the degrees of freedom (dof) is reported as 2, which makes sense given:\n",
    "\n",
    "degrees of freedom: (rows - 1) * (cols - 1)\n",
    "degrees of freedom: (2 - 1) * (3 - 1)\n",
    "degrees of freedom: 1 * 2\n",
    "degrees of freedom: 2"
   ]
  },
  {
   "cell_type": "markdown",
   "id": "incident-exploration",
   "metadata": {},
   "source": [
    "[[10, 20, 30], [6, 9, 17]]\n",
    "\n",
    "dof=2\n",
    "\n",
    "[[10.43478261 18.91304348 30.65217391]\n",
    " [ 5.56521739 10.08695652 16.34782609]]\n",
    "\n",
    "probability=0.950, critical=5.991, stat=0.272\n",
    "Independent (fail to reject H0)\n",
    "\n",
    "significance=0.050, p=0.873\n",
    "Independent (fail to reject H0)"
   ]
  },
  {
   "cell_type": "code",
   "execution_count": null,
   "id": "professional-warrior",
   "metadata": {},
   "outputs": [],
   "source": []
  }
 ],
 "metadata": {
  "kernelspec": {
   "display_name": "Python 3",
   "language": "python",
   "name": "python3"
  },
  "language_info": {
   "codemirror_mode": {
    "name": "ipython",
    "version": 3
   },
   "file_extension": ".py",
   "mimetype": "text/x-python",
   "name": "python",
   "nbconvert_exporter": "python",
   "pygments_lexer": "ipython3",
   "version": "3.7.6"
  }
 },
 "nbformat": 4,
 "nbformat_minor": 5
}
