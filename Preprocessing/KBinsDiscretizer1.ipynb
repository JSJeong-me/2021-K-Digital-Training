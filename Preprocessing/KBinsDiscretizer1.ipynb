{
 "cells": [
  {
   "cell_type": "markdown",
   "id": "peaceful-means",
   "metadata": {},
   "source": [
    "### KBinsDiscretizer"
   ]
  },
  {
   "cell_type": "code",
   "execution_count": 1,
   "id": "authorized-healing",
   "metadata": {},
   "outputs": [],
   "source": [
    "# discretize numeric input variables\n",
    "from sklearn.datasets import make_classification\n",
    "from sklearn.preprocessing import KBinsDiscretizer\n",
    "import pandas as pd"
   ]
  },
  {
   "cell_type": "code",
   "execution_count": 2,
   "id": "6b05e6b2-db11-46ac-bd1a-ae69b14cc287",
   "metadata": {},
   "outputs": [],
   "source": [
    "# define dataset\n",
    "X, y = make_classification(n_samples=10000000, n_features=5, n_informative=5, n_redundant=0, random_state=1)\n",
    "# n_informative=5, n_redundant=0,"
   ]
  },
  {
   "cell_type": "code",
   "execution_count": 3,
   "id": "371e31ce-b010-4ad7-ad48-cd697e627007",
   "metadata": {},
   "outputs": [
    {
     "data": {
      "text/plain": [
       "(10000000, 5)"
      ]
     },
     "execution_count": 3,
     "metadata": {},
     "output_type": "execute_result"
    }
   ],
   "source": [
    "X.shape"
   ]
  },
  {
   "cell_type": "code",
   "execution_count": 4,
   "id": "851e8873-5ec5-49f6-b606-762c2e1e554f",
   "metadata": {},
   "outputs": [
    {
     "data": {
      "text/plain": [
       "(10000000,)"
      ]
     },
     "execution_count": 4,
     "metadata": {},
     "output_type": "execute_result"
    }
   ],
   "source": [
    "y.shape"
   ]
  },
  {
   "cell_type": "code",
   "execution_count": 5,
   "id": "e0de03bd-ad75-4272-afc5-2813096840f2",
   "metadata": {},
   "outputs": [
    {
     "data": {
      "text/plain": [
       "array([-2.41602944,  3.53877523,  1.08699914, -1.14998724,  1.66532652])"
      ]
     },
     "execution_count": 5,
     "metadata": {},
     "output_type": "execute_result"
    }
   ],
   "source": [
    "X[0,:]"
   ]
  },
  {
   "cell_type": "code",
   "execution_count": 6,
   "id": "6add8cc1-2832-4f91-b437-3d5d6a8648a0",
   "metadata": {},
   "outputs": [
    {
     "name": "stdout",
     "output_type": "stream",
     "text": [
      "[[-2.41602944  3.53877523  1.08699914 -1.14998724  1.66532652]\n",
      " [-1.34179523 -0.4944328  -3.42753105 -1.11961521  1.05813827]\n",
      " [ 0.82625612  1.10747471  1.42956658 -0.7005112   1.36443385]]\n"
     ]
    }
   ],
   "source": [
    "# summarize data before the transform\n",
    "print(X[:3, :])"
   ]
  },
  {
   "cell_type": "code",
   "execution_count": 7,
   "id": "4c6d1739-243f-41ef-9974-9c40059fc3b0",
   "metadata": {},
   "outputs": [
    {
     "data": {
      "text/plain": [
       "0.4999895"
      ]
     },
     "execution_count": 7,
     "metadata": {},
     "output_type": "execute_result"
    }
   ],
   "source": [
    "y.mean()"
   ]
  },
  {
   "cell_type": "code",
   "execution_count": 8,
   "id": "be6662bf-98aa-4054-b445-2e52860bbe88",
   "metadata": {},
   "outputs": [
    {
     "data": {
      "text/plain": [
       "-9.161245825652301"
      ]
     },
     "execution_count": 8,
     "metadata": {},
     "output_type": "execute_result"
    }
   ],
   "source": [
    "X.min()"
   ]
  },
  {
   "cell_type": "code",
   "execution_count": 9,
   "id": "3c4bdb64-e78d-44d0-9d3c-c5ce6f35cb9f",
   "metadata": {},
   "outputs": [
    {
     "data": {
      "text/plain": [
       "10.470964647707039"
      ]
     },
     "execution_count": 9,
     "metadata": {},
     "output_type": "execute_result"
    }
   ],
   "source": [
    "X.max()"
   ]
  },
  {
   "cell_type": "code",
   "execution_count": 10,
   "id": "exceptional-policy",
   "metadata": {},
   "outputs": [],
   "source": [
    "# define the transform\n",
    "trans = KBinsDiscretizer(n_bins=10, encode='ordinal', strategy='uniform')"
   ]
  },
  {
   "cell_type": "code",
   "execution_count": 11,
   "id": "be029820-e081-4062-ab9a-6ae509b8328d",
   "metadata": {},
   "outputs": [],
   "source": [
    "# transform the data\n",
    "X_discrete = trans.fit_transform(X)"
   ]
  },
  {
   "cell_type": "code",
   "execution_count": 12,
   "id": "2482d035-0214-490a-9c5c-ea5146a51ddf",
   "metadata": {},
   "outputs": [
    {
     "data": {
      "text/plain": [
       "array([-2.41602944,  3.53877523,  1.08699914, -1.14998724,  1.66532652])"
      ]
     },
     "execution_count": 12,
     "metadata": {},
     "output_type": "execute_result"
    }
   ],
   "source": [
    "X[0, :]"
   ]
  },
  {
   "cell_type": "code",
   "execution_count": 13,
   "id": "b58b2207-d0e7-4baf-8d76-e5897ee07f4e",
   "metadata": {},
   "outputs": [
    {
     "name": "stdout",
     "output_type": "stream",
     "text": [
      "[3. 6. 6. 4. 5.]\n"
     ]
    }
   ],
   "source": [
    "print(X_discrete[0, :])"
   ]
  },
  {
   "cell_type": "code",
   "execution_count": 14,
   "id": "341b8b7e-4f75-48f9-8be2-f1e3e11fc85f",
   "metadata": {},
   "outputs": [
    {
     "data": {
      "text/plain": [
       "array([-1.34179523, -0.4944328 , -3.42753105, -1.11961521,  1.05813827])"
      ]
     },
     "execution_count": 14,
     "metadata": {},
     "output_type": "execute_result"
    }
   ],
   "source": [
    "X[1, :]"
   ]
  },
  {
   "cell_type": "code",
   "execution_count": 15,
   "id": "0ec4392f-336f-448d-9257-98ee772122a5",
   "metadata": {},
   "outputs": [
    {
     "name": "stdout",
     "output_type": "stream",
     "text": [
      "[4. 3. 3. 4. 4.]\n"
     ]
    }
   ],
   "source": [
    "# summarize data after the transform\n",
    "print(X_discrete[1, :])"
   ]
  },
  {
   "cell_type": "code",
   "execution_count": 16,
   "id": "large-swedish",
   "metadata": {},
   "outputs": [],
   "source": [
    "data = pd.DataFrame(X)"
   ]
  },
  {
   "cell_type": "code",
   "execution_count": 17,
   "id": "f6d9f037-6d0e-40c0-8cc1-7a9b71a35c37",
   "metadata": {},
   "outputs": [
    {
     "data": {
      "text/html": [
       "<div>\n",
       "<style scoped>\n",
       "    .dataframe tbody tr th:only-of-type {\n",
       "        vertical-align: middle;\n",
       "    }\n",
       "\n",
       "    .dataframe tbody tr th {\n",
       "        vertical-align: top;\n",
       "    }\n",
       "\n",
       "    .dataframe thead th {\n",
       "        text-align: right;\n",
       "    }\n",
       "</style>\n",
       "<table border=\"1\" class=\"dataframe\">\n",
       "  <thead>\n",
       "    <tr style=\"text-align: right;\">\n",
       "      <th></th>\n",
       "      <th>0</th>\n",
       "      <th>1</th>\n",
       "      <th>2</th>\n",
       "      <th>3</th>\n",
       "      <th>4</th>\n",
       "    </tr>\n",
       "  </thead>\n",
       "  <tbody>\n",
       "    <tr>\n",
       "      <th>count</th>\n",
       "      <td>10000000.00</td>\n",
       "      <td>10000000.00</td>\n",
       "      <td>10000000.00</td>\n",
       "      <td>10000000.00</td>\n",
       "      <td>10000000.00</td>\n",
       "    </tr>\n",
       "    <tr>\n",
       "      <th>mean</th>\n",
       "      <td>0.00</td>\n",
       "      <td>1.00</td>\n",
       "      <td>-0.50</td>\n",
       "      <td>-0.50</td>\n",
       "      <td>0.50</td>\n",
       "    </tr>\n",
       "    <tr>\n",
       "      <th>std</th>\n",
       "      <td>1.52</td>\n",
       "      <td>1.37</td>\n",
       "      <td>1.66</td>\n",
       "      <td>1.49</td>\n",
       "      <td>1.63</td>\n",
       "    </tr>\n",
       "    <tr>\n",
       "      <th>min</th>\n",
       "      <td>-7.86</td>\n",
       "      <td>-6.41</td>\n",
       "      <td>-9.16</td>\n",
       "      <td>-7.66</td>\n",
       "      <td>-7.75</td>\n",
       "    </tr>\n",
       "    <tr>\n",
       "      <th>25%</th>\n",
       "      <td>-1.08</td>\n",
       "      <td>0.13</td>\n",
       "      <td>-1.66</td>\n",
       "      <td>-1.50</td>\n",
       "      <td>-0.54</td>\n",
       "    </tr>\n",
       "    <tr>\n",
       "      <th>50%</th>\n",
       "      <td>0.12</td>\n",
       "      <td>1.00</td>\n",
       "      <td>-0.44</td>\n",
       "      <td>-0.64</td>\n",
       "      <td>0.59</td>\n",
       "    </tr>\n",
       "    <tr>\n",
       "      <th>75%</th>\n",
       "      <td>1.10</td>\n",
       "      <td>1.87</td>\n",
       "      <td>0.72</td>\n",
       "      <td>0.40</td>\n",
       "      <td>1.58</td>\n",
       "    </tr>\n",
       "    <tr>\n",
       "      <th>max</th>\n",
       "      <td>7.26</td>\n",
       "      <td>8.63</td>\n",
       "      <td>7.67</td>\n",
       "      <td>7.49</td>\n",
       "      <td>10.47</td>\n",
       "    </tr>\n",
       "  </tbody>\n",
       "</table>\n",
       "</div>"
      ],
      "text/plain": [
       "                 0            1            2            3            4\n",
       "count  10000000.00  10000000.00  10000000.00  10000000.00  10000000.00\n",
       "mean          0.00         1.00        -0.50        -0.50         0.50\n",
       "std           1.52         1.37         1.66         1.49         1.63\n",
       "min          -7.86        -6.41        -9.16        -7.66        -7.75\n",
       "25%          -1.08         0.13        -1.66        -1.50        -0.54\n",
       "50%           0.12         1.00        -0.44        -0.64         0.59\n",
       "75%           1.10         1.87         0.72         0.40         1.58\n",
       "max           7.26         8.63         7.67         7.49        10.47"
      ]
     },
     "execution_count": 17,
     "metadata": {},
     "output_type": "execute_result"
    }
   ],
   "source": [
    "data.describe().round(2)"
   ]
  },
  {
   "cell_type": "code",
   "execution_count": 18,
   "id": "581b772c-9a92-4b49-a611-94645f96f3e8",
   "metadata": {},
   "outputs": [
    {
     "data": {
      "text/plain": [
       "0   -2.416029\n",
       "1    3.538775\n",
       "2    1.086999\n",
       "3   -1.149987\n",
       "4    1.665327\n",
       "Name: 0, dtype: float64"
      ]
     },
     "execution_count": 18,
     "metadata": {},
     "output_type": "execute_result"
    }
   ],
   "source": [
    "data.iloc[0,:]"
   ]
  },
  {
   "cell_type": "code",
   "execution_count": null,
   "id": "00e42370-ccf7-4003-89ce-d80712d6ab6d",
   "metadata": {},
   "outputs": [],
   "source": []
  }
 ],
 "metadata": {
  "kernelspec": {
   "display_name": "Python Multi",
   "language": "python",
   "name": "multi"
  },
  "language_info": {
   "codemirror_mode": {
    "name": "ipython",
    "version": 3
   },
   "file_extension": ".py",
   "mimetype": "text/x-python",
   "name": "python",
   "nbconvert_exporter": "python",
   "pygments_lexer": "ipython3",
   "version": "3.7.6"
  }
 },
 "nbformat": 4,
 "nbformat_minor": 5
}
