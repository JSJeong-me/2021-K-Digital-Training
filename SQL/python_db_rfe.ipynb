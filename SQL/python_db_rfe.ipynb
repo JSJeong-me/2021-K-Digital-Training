{
 "cells": [
  {
   "cell_type": "code",
   "execution_count": 1,
   "id": "local-motel",
   "metadata": {},
   "outputs": [
    {
     "name": "stdout",
     "output_type": "stream",
     "text": [
      "C:\\Users\\i\\Desktop\\2021-K-Digital-Training-main\\SQL\n"
     ]
    }
   ],
   "source": [
    "!cd"
   ]
  },
  {
   "cell_type": "code",
   "execution_count": 2,
   "id": "sudden-fellowship",
   "metadata": {},
   "outputs": [],
   "source": [
    "#!pip install PyMySQL==1.0.0"
   ]
  },
  {
   "cell_type": "code",
   "execution_count": 1,
   "id": "6852b727-9798-41c8-9059-8bf8529c4a41",
   "metadata": {},
   "outputs": [],
   "source": [
    "import pymysql.cursors\n",
    "# Connect to the database"
   ]
  },
  {
   "cell_type": "code",
   "execution_count": 4,
   "id": "0206b3e2-93d3-428c-8225-d66c96141d3c",
   "metadata": {},
   "outputs": [],
   "source": [
    "# localhost or 127.0.0.0"
   ]
  },
  {
   "cell_type": "code",
   "execution_count": 2,
   "id": "1bc78aaf-47ec-4bfe-8444-97f9e72b9584",
   "metadata": {},
   "outputs": [],
   "source": [
    "connection = pymysql.connect(host='localhost',\n",
    "        user='root',\n",
    "        password='8475',\n",
    "        db='tip',\n",
    "        charset='utf8',\n",
    "        cursorclass=pymysql.cursors.DictCursor)"
   ]
  },
  {
   "cell_type": "code",
   "execution_count": 6,
   "id": "dd83780e-5bb8-4039-9a7f-1ad47fe56769",
   "metadata": {},
   "outputs": [
    {
     "data": {
      "text/plain": [
       "'\\ntry:\\n    with connection.cursor() as cursor:\\n        # Read a single record\\n        #sql = \"SELECT `id`, `password` FROM `users` WHERE `email`=%s\"\\n        sql = \"SELECT * FROM tips where tips.day=\\'\\';\"\\n        #sql = \"SELECT count(total_bill) FROM tip.tips where tip >= 7 ;\"\\n        cursor.execute(sql)\\n        result = cursor.fetchall()\\n        print(result)\\nfinally:\\n    connection.close()\\n'"
      ]
     },
     "execution_count": 6,
     "metadata": {},
     "output_type": "execute_result"
    }
   ],
   "source": [
    "'''\n",
    "try:\n",
    "    with connection.cursor() as cursor:\n",
    "        # Read a single record\n",
    "        #sql = \"SELECT `id`, `password` FROM `users` WHERE `email`=%s\"\n",
    "        sql = \"SELECT * FROM tips where tips.day='';\"\n",
    "        #sql = \"SELECT count(total_bill) FROM tip.tips where tip >= 7 ;\"\n",
    "        cursor.execute(sql)\n",
    "        result = cursor.fetchall()\n",
    "        print(result)\n",
    "finally:\n",
    "    connection.close()\n",
    "'''"
   ]
  },
  {
   "cell_type": "code",
   "execution_count": null,
   "id": "faeabc3f-3d06-4e76-9a17-3d0d253b3a3e",
   "metadata": {},
   "outputs": [],
   "source": []
  },
  {
   "cell_type": "code",
   "execution_count": 7,
   "id": "59644cd6-60b4-4e27-baa8-ba5185ec7abf",
   "metadata": {},
   "outputs": [
    {
     "name": "stdout",
     "output_type": "stream",
     "text": [
      "C:\\Users\\i\\Desktop\\2021-K-Digital-Training-main\\SQL\n"
     ]
    }
   ],
   "source": [
    "!cd"
   ]
  },
  {
   "cell_type": "code",
   "execution_count": 3,
   "id": "rough-monte",
   "metadata": {},
   "outputs": [],
   "source": [
    "import pymysql.cursors\n",
    "import pandas as pd"
   ]
  },
  {
   "cell_type": "code",
   "execution_count": 4,
   "id": "polished-somerset",
   "metadata": {},
   "outputs": [
    {
     "name": "stdout",
     "output_type": "stream",
     "text": [
      "     total_bill   tip     sex smoker  day    time  size\n",
      "0         16.99  1.01  Female     No  Sun  Dinner   2.0\n",
      "1         10.34  1.66    Male     No  Sun  Dinner   3.0\n",
      "2         21.01  3.50    Male     No  Sun  Dinner   3.0\n",
      "3         23.68  3.31    Male     No  Sun  Dinner   2.0\n",
      "4         24.59  3.61  Female     No  Sun  Dinner   4.0\n",
      "..          ...   ...     ...    ...  ...     ...   ...\n",
      "247       20.65  3.35    Male     No       Dinner   4.0\n",
      "248       20.65  3.35    Male     No       Dinner   5.0\n",
      "249       10.34  1.66    None     No  Sun  Dinner   3.0\n",
      "250       10.34  1.66    None     No  Sun  Dinner   NaN\n",
      "251       16.99  1.01  Female     No  Sun    None   2.0\n",
      "\n",
      "[252 rows x 7 columns]\n"
     ]
    }
   ],
   "source": [
    "# MySQL DB에서 데이터 받아와서 DataFrame에 저장\n",
    "\n",
    "conn = pymysql.connect(host='localhost', user='root', \n",
    "                       password='8475', db='tip', charset='utf8',\n",
    "                       autocommit=True, cursorclass=pymysql.cursors.DictCursor)\n",
    "try:\n",
    "\n",
    "    with conn.cursor() as curs:\n",
    "      sql = \"SELECT * FROM tips;\"\n",
    "      curs.execute(sql)\n",
    "      rs = curs.fetchall()\n",
    "\n",
    "      # DB에서 받아온 값을 DataFrame에 넣음\n",
    "\n",
    "      df = pd.DataFrame(rs)\n",
    "      print(df)\n",
    "      #df.to_csv('query.csv')\n",
    "\n",
    "finally:\n",
    "\n",
    "   conn.close()"
   ]
  },
  {
   "cell_type": "code",
   "execution_count": 10,
   "id": "cc506f2d-c9d0-48da-bda1-88f52062715f",
   "metadata": {},
   "outputs": [
    {
     "data": {
      "text/plain": [
       "'\\nconnection = pymysql.connect(host=\\'localhost\\',\\n        user=\\'root\\',\\n        password=\\'8475\\',\\n        db=\\'tip\\',\\n        charset=\\'utf8\\',\\n        cursorclass=pymysql.cursors.DictCursor)\\ntry:\\n    with connection.cursor() as cursor:\\n        # Read a single record\\n        #sql = \"SELECT `id`, `password` FROM `users` WHERE `email`=%s\"\\n        sql = \"INSERT INTO tips (total_bill, tip, sex, smoker, day, time, size)             VALUES (\\'16.99\\', \\'1.01\\', \\'Female\\', \\'No\\', \\'null\\', \\'Dinner\\', \\'2\\');\"\\n        cursor.execute(sql)\\n        connection.commit()\\n\\nfinally:\\n    connection.close()\\n'"
      ]
     },
     "execution_count": 10,
     "metadata": {},
     "output_type": "execute_result"
    }
   ],
   "source": [
    "'''\n",
    "connection = pymysql.connect(host='localhost',\n",
    "        user='root',\n",
    "        password='8475',\n",
    "        db='tip',\n",
    "        charset='utf8',\n",
    "        cursorclass=pymysql.cursors.DictCursor)\n",
    "try:\n",
    "    with connection.cursor() as cursor:\n",
    "        # Read a single record\n",
    "        #sql = \"SELECT `id`, `password` FROM `users` WHERE `email`=%s\"\n",
    "        sql = \"INSERT INTO tips (total_bill, tip, sex, smoker, day, time, size) \\\n",
    "            VALUES ('16.99', '1.01', 'Female', 'No', 'null', 'Dinner', '2');\"\n",
    "        cursor.execute(sql)\n",
    "        connection.commit()\n",
    "\n",
    "finally:\n",
    "    connection.close()\n",
    "'''"
   ]
  },
  {
   "cell_type": "code",
   "execution_count": 5,
   "id": "abf60f6b-199f-4f33-889a-55e43f99fc66",
   "metadata": {},
   "outputs": [
    {
     "data": {
      "text/plain": [
       "total_bill    0\n",
       "tip           0\n",
       "sex           2\n",
       "smoker        0\n",
       "day           0\n",
       "time          1\n",
       "size          1\n",
       "dtype: int64"
      ]
     },
     "execution_count": 5,
     "metadata": {},
     "output_type": "execute_result"
    }
   ],
   "source": [
    "df.isnull().sum()"
   ]
  },
  {
   "cell_type": "code",
   "execution_count": 6,
   "id": "725b4043-5099-4647-b874-2c26faf92db0",
   "metadata": {},
   "outputs": [],
   "source": [
    "df['sex'].replace({'Female':0, 'Male':1}, inplace=True)"
   ]
  },
  {
   "cell_type": "code",
   "execution_count": 7,
   "id": "5e877e77-5985-40fd-8d9b-df4a4814e220",
   "metadata": {},
   "outputs": [],
   "source": [
    "df[\"smoker\"].replace({\"No\" : 0, \"Yes\" : 1}, inplace=True)\n",
    "df[\"day\"].replace({\"Thur\" : 0, \"Fri\" : 1, \"Sat\" : 2, \"Sun\" : 3}, inplace=True)\n",
    "df[\"time\"].replace({\"Lunch\" : 0, \"Dinner\" : 1}, inplace=True)"
   ]
  },
  {
   "cell_type": "code",
   "execution_count": 8,
   "id": "c7468d2d-1026-469a-9354-b8b4af4fc564",
   "metadata": {},
   "outputs": [],
   "source": [
    "import numpy as np"
   ]
  },
  {
   "cell_type": "code",
   "execution_count": 9,
   "id": "1b376a49-23e7-4527-a2cb-451483df1358",
   "metadata": {},
   "outputs": [],
   "source": [
    "df.replace('',np.nan,inplace=True) # '' -> np.nan"
   ]
  },
  {
   "cell_type": "code",
   "execution_count": 15,
   "id": "1baec60e-16cd-433e-95ff-df0cd11b95a1",
   "metadata": {},
   "outputs": [],
   "source": []
  },
  {
   "cell_type": "code",
   "execution_count": 14,
   "id": "464ca8cf-2b9c-43f7-a35c-f061ee2f1bb7",
   "metadata": {},
   "outputs": [],
   "source": [
    "#df = df.drop('day', axis =1)"
   ]
  },
  {
   "cell_type": "code",
   "execution_count": 10,
   "id": "c12b6ba5-da4f-466c-9f26-322f8e99adee",
   "metadata": {},
   "outputs": [
    {
     "data": {
      "text/plain": [
       "total_bill    0\n",
       "tip           0\n",
       "sex           2\n",
       "smoker        0\n",
       "day           3\n",
       "time          1\n",
       "size          1\n",
       "dtype: int64"
      ]
     },
     "execution_count": 10,
     "metadata": {},
     "output_type": "execute_result"
    }
   ],
   "source": [
    "df.isnull().sum()"
   ]
  },
  {
   "cell_type": "code",
   "execution_count": 11,
   "id": "ee1ceda7-48eb-4ee5-85c2-139a47419a96",
   "metadata": {},
   "outputs": [
    {
     "data": {
      "text/html": [
       "<div>\n",
       "<style scoped>\n",
       "    .dataframe tbody tr th:only-of-type {\n",
       "        vertical-align: middle;\n",
       "    }\n",
       "\n",
       "    .dataframe tbody tr th {\n",
       "        vertical-align: top;\n",
       "    }\n",
       "\n",
       "    .dataframe thead th {\n",
       "        text-align: right;\n",
       "    }\n",
       "</style>\n",
       "<table border=\"1\" class=\"dataframe\">\n",
       "  <thead>\n",
       "    <tr style=\"text-align: right;\">\n",
       "      <th></th>\n",
       "      <th>total_bill</th>\n",
       "      <th>tip</th>\n",
       "      <th>sex</th>\n",
       "      <th>smoker</th>\n",
       "      <th>day</th>\n",
       "      <th>time</th>\n",
       "      <th>size</th>\n",
       "    </tr>\n",
       "  </thead>\n",
       "  <tbody>\n",
       "    <tr>\n",
       "      <th>count</th>\n",
       "      <td>252.000000</td>\n",
       "      <td>252.000000</td>\n",
       "      <td>250.000000</td>\n",
       "      <td>252.000000</td>\n",
       "      <td>249.000000</td>\n",
       "      <td>251.000000</td>\n",
       "      <td>251.000000</td>\n",
       "    </tr>\n",
       "    <tr>\n",
       "      <th>mean</th>\n",
       "      <td>19.702500</td>\n",
       "      <td>2.977460</td>\n",
       "      <td>0.644000</td>\n",
       "      <td>0.369048</td>\n",
       "      <td>1.746988</td>\n",
       "      <td>0.729084</td>\n",
       "      <td>2.589641</td>\n",
       "    </tr>\n",
       "    <tr>\n",
       "      <th>std</th>\n",
       "      <td>8.803699</td>\n",
       "      <td>1.378674</td>\n",
       "      <td>0.479776</td>\n",
       "      <td>0.483507</td>\n",
       "      <td>1.155388</td>\n",
       "      <td>0.445321</td>\n",
       "      <td>0.960694</td>\n",
       "    </tr>\n",
       "    <tr>\n",
       "      <th>min</th>\n",
       "      <td>3.070000</td>\n",
       "      <td>1.000000</td>\n",
       "      <td>0.000000</td>\n",
       "      <td>0.000000</td>\n",
       "      <td>0.000000</td>\n",
       "      <td>0.000000</td>\n",
       "      <td>1.000000</td>\n",
       "    </tr>\n",
       "    <tr>\n",
       "      <th>25%</th>\n",
       "      <td>13.347500</td>\n",
       "      <td>2.000000</td>\n",
       "      <td>0.000000</td>\n",
       "      <td>0.000000</td>\n",
       "      <td>1.000000</td>\n",
       "      <td>0.000000</td>\n",
       "      <td>2.000000</td>\n",
       "    </tr>\n",
       "    <tr>\n",
       "      <th>50%</th>\n",
       "      <td>17.795000</td>\n",
       "      <td>2.900000</td>\n",
       "      <td>1.000000</td>\n",
       "      <td>0.000000</td>\n",
       "      <td>2.000000</td>\n",
       "      <td>1.000000</td>\n",
       "      <td>2.000000</td>\n",
       "    </tr>\n",
       "    <tr>\n",
       "      <th>75%</th>\n",
       "      <td>24.022500</td>\n",
       "      <td>3.502500</td>\n",
       "      <td>1.000000</td>\n",
       "      <td>1.000000</td>\n",
       "      <td>3.000000</td>\n",
       "      <td>1.000000</td>\n",
       "      <td>3.000000</td>\n",
       "    </tr>\n",
       "    <tr>\n",
       "      <th>max</th>\n",
       "      <td>50.810000</td>\n",
       "      <td>10.000000</td>\n",
       "      <td>1.000000</td>\n",
       "      <td>1.000000</td>\n",
       "      <td>3.000000</td>\n",
       "      <td>1.000000</td>\n",
       "      <td>6.000000</td>\n",
       "    </tr>\n",
       "  </tbody>\n",
       "</table>\n",
       "</div>"
      ],
      "text/plain": [
       "       total_bill         tip         sex      smoker         day        time  \\\n",
       "count  252.000000  252.000000  250.000000  252.000000  249.000000  251.000000   \n",
       "mean    19.702500    2.977460    0.644000    0.369048    1.746988    0.729084   \n",
       "std      8.803699    1.378674    0.479776    0.483507    1.155388    0.445321   \n",
       "min      3.070000    1.000000    0.000000    0.000000    0.000000    0.000000   \n",
       "25%     13.347500    2.000000    0.000000    0.000000    1.000000    0.000000   \n",
       "50%     17.795000    2.900000    1.000000    0.000000    2.000000    1.000000   \n",
       "75%     24.022500    3.502500    1.000000    1.000000    3.000000    1.000000   \n",
       "max     50.810000   10.000000    1.000000    1.000000    3.000000    1.000000   \n",
       "\n",
       "             size  \n",
       "count  251.000000  \n",
       "mean     2.589641  \n",
       "std      0.960694  \n",
       "min      1.000000  \n",
       "25%      2.000000  \n",
       "50%      2.000000  \n",
       "75%      3.000000  \n",
       "max      6.000000  "
      ]
     },
     "execution_count": 11,
     "metadata": {},
     "output_type": "execute_result"
    }
   ],
   "source": [
    "df.describe()"
   ]
  },
  {
   "cell_type": "code",
   "execution_count": 17,
   "id": "62fa4316-1acf-47c6-96ad-c88228ca6f3e",
   "metadata": {},
   "outputs": [
    {
     "data": {
      "text/plain": [
       "pandas.core.frame.DataFrame"
      ]
     },
     "execution_count": 17,
     "metadata": {},
     "output_type": "execute_result"
    }
   ],
   "source": [
    "type(df)"
   ]
  },
  {
   "cell_type": "code",
   "execution_count": 18,
   "id": "a553a0a5-a829-4a97-994c-ae2e952f87ec",
   "metadata": {},
   "outputs": [],
   "source": [
    "#df=pd.read_csv('tips.csv')"
   ]
  },
  {
   "cell_type": "code",
   "execution_count": 19,
   "id": "e24e6141-60e3-4761-b5c9-0e3cb534e248",
   "metadata": {},
   "outputs": [],
   "source": [
    "#import pandas as pd"
   ]
  },
  {
   "cell_type": "code",
   "execution_count": 12,
   "id": "c8a09b18-05c4-4571-a135-3dc9691072b5",
   "metadata": {},
   "outputs": [],
   "source": [
    "#import numpy as np\n",
    "from sklearn.impute import SimpleImputer"
   ]
  },
  {
   "cell_type": "code",
   "execution_count": 13,
   "id": "f609450f-d1b1-4ec7-911e-1036f54c1ff7",
   "metadata": {},
   "outputs": [],
   "source": [
    "data = df.values"
   ]
  },
  {
   "cell_type": "code",
   "execution_count": 20,
   "id": "6178d6c8-9a2c-47fa-acc7-c4fa279b8d34",
   "metadata": {},
   "outputs": [],
   "source": [
    "y=df['total_bill']"
   ]
  },
  {
   "cell_type": "code",
   "execution_count": 21,
   "id": "65dbd32e-7a75-4ce0-b815-2233b6b76707",
   "metadata": {},
   "outputs": [],
   "source": [
    "X=df.drop('total_bill',axis=1)"
   ]
  },
  {
   "cell_type": "code",
   "execution_count": 22,
   "id": "a3ea8513-52d9-4768-af02-0c36d64229cf",
   "metadata": {},
   "outputs": [
    {
     "data": {
      "text/html": [
       "<div>\n",
       "<style scoped>\n",
       "    .dataframe tbody tr th:only-of-type {\n",
       "        vertical-align: middle;\n",
       "    }\n",
       "\n",
       "    .dataframe tbody tr th {\n",
       "        vertical-align: top;\n",
       "    }\n",
       "\n",
       "    .dataframe thead th {\n",
       "        text-align: right;\n",
       "    }\n",
       "</style>\n",
       "<table border=\"1\" class=\"dataframe\">\n",
       "  <thead>\n",
       "    <tr style=\"text-align: right;\">\n",
       "      <th></th>\n",
       "      <th>tip</th>\n",
       "      <th>sex</th>\n",
       "      <th>smoker</th>\n",
       "      <th>day</th>\n",
       "      <th>time</th>\n",
       "      <th>size</th>\n",
       "    </tr>\n",
       "  </thead>\n",
       "  <tbody>\n",
       "    <tr>\n",
       "      <th>count</th>\n",
       "      <td>252.000000</td>\n",
       "      <td>250.000000</td>\n",
       "      <td>252.000000</td>\n",
       "      <td>249.000000</td>\n",
       "      <td>251.000000</td>\n",
       "      <td>251.000000</td>\n",
       "    </tr>\n",
       "    <tr>\n",
       "      <th>mean</th>\n",
       "      <td>2.977460</td>\n",
       "      <td>0.644000</td>\n",
       "      <td>0.369048</td>\n",
       "      <td>1.746988</td>\n",
       "      <td>0.729084</td>\n",
       "      <td>2.589641</td>\n",
       "    </tr>\n",
       "    <tr>\n",
       "      <th>std</th>\n",
       "      <td>1.378674</td>\n",
       "      <td>0.479776</td>\n",
       "      <td>0.483507</td>\n",
       "      <td>1.155388</td>\n",
       "      <td>0.445321</td>\n",
       "      <td>0.960694</td>\n",
       "    </tr>\n",
       "    <tr>\n",
       "      <th>min</th>\n",
       "      <td>1.000000</td>\n",
       "      <td>0.000000</td>\n",
       "      <td>0.000000</td>\n",
       "      <td>0.000000</td>\n",
       "      <td>0.000000</td>\n",
       "      <td>1.000000</td>\n",
       "    </tr>\n",
       "    <tr>\n",
       "      <th>25%</th>\n",
       "      <td>2.000000</td>\n",
       "      <td>0.000000</td>\n",
       "      <td>0.000000</td>\n",
       "      <td>1.000000</td>\n",
       "      <td>0.000000</td>\n",
       "      <td>2.000000</td>\n",
       "    </tr>\n",
       "    <tr>\n",
       "      <th>50%</th>\n",
       "      <td>2.900000</td>\n",
       "      <td>1.000000</td>\n",
       "      <td>0.000000</td>\n",
       "      <td>2.000000</td>\n",
       "      <td>1.000000</td>\n",
       "      <td>2.000000</td>\n",
       "    </tr>\n",
       "    <tr>\n",
       "      <th>75%</th>\n",
       "      <td>3.502500</td>\n",
       "      <td>1.000000</td>\n",
       "      <td>1.000000</td>\n",
       "      <td>3.000000</td>\n",
       "      <td>1.000000</td>\n",
       "      <td>3.000000</td>\n",
       "    </tr>\n",
       "    <tr>\n",
       "      <th>max</th>\n",
       "      <td>10.000000</td>\n",
       "      <td>1.000000</td>\n",
       "      <td>1.000000</td>\n",
       "      <td>3.000000</td>\n",
       "      <td>1.000000</td>\n",
       "      <td>6.000000</td>\n",
       "    </tr>\n",
       "  </tbody>\n",
       "</table>\n",
       "</div>"
      ],
      "text/plain": [
       "              tip         sex      smoker         day        time        size\n",
       "count  252.000000  250.000000  252.000000  249.000000  251.000000  251.000000\n",
       "mean     2.977460    0.644000    0.369048    1.746988    0.729084    2.589641\n",
       "std      1.378674    0.479776    0.483507    1.155388    0.445321    0.960694\n",
       "min      1.000000    0.000000    0.000000    0.000000    0.000000    1.000000\n",
       "25%      2.000000    0.000000    0.000000    1.000000    0.000000    2.000000\n",
       "50%      2.900000    1.000000    0.000000    2.000000    1.000000    2.000000\n",
       "75%      3.502500    1.000000    1.000000    3.000000    1.000000    3.000000\n",
       "max     10.000000    1.000000    1.000000    3.000000    1.000000    6.000000"
      ]
     },
     "execution_count": 22,
     "metadata": {},
     "output_type": "execute_result"
    }
   ],
   "source": [
    "X.describe()"
   ]
  },
  {
   "cell_type": "code",
   "execution_count": 23,
   "id": "0539ed2c-f87a-4c74-83f8-12765a9afbe6",
   "metadata": {},
   "outputs": [
    {
     "data": {
      "text/plain": [
       "count    252.000000\n",
       "mean      19.702500\n",
       "std        8.803699\n",
       "min        3.070000\n",
       "25%       13.347500\n",
       "50%       17.795000\n",
       "75%       24.022500\n",
       "max       50.810000\n",
       "Name: total_bill, dtype: float64"
      ]
     },
     "execution_count": 23,
     "metadata": {},
     "output_type": "execute_result"
    }
   ],
   "source": [
    "y.describe()"
   ]
  },
  {
   "cell_type": "code",
   "execution_count": 14,
   "id": "223e5c87-b731-427f-a6c9-c433befd3841",
   "metadata": {},
   "outputs": [],
   "source": [
    "#df.describe()"
   ]
  },
  {
   "cell_type": "code",
   "execution_count": 15,
   "id": "3d8bf3d9-7109-4cb4-aac5-a2c6cafe38ac",
   "metadata": {},
   "outputs": [
    {
     "name": "stdout",
     "output_type": "stream",
     "text": [
      "<class 'pandas.core.frame.DataFrame'>\n",
      "RangeIndex: 252 entries, 0 to 251\n",
      "Data columns (total 7 columns):\n",
      " #   Column      Non-Null Count  Dtype  \n",
      "---  ------      --------------  -----  \n",
      " 0   total_bill  252 non-null    float64\n",
      " 1   tip         252 non-null    float64\n",
      " 2   sex         250 non-null    float64\n",
      " 3   smoker      252 non-null    int64  \n",
      " 4   day         249 non-null    float64\n",
      " 5   time        251 non-null    float64\n",
      " 6   size        251 non-null    float64\n",
      "dtypes: float64(6), int64(1)\n",
      "memory usage: 13.9 KB\n"
     ]
    }
   ],
   "source": [
    "#df.info()"
   ]
  },
  {
   "cell_type": "code",
   "execution_count": 24,
   "id": "daba16bb-ed27-4a7d-a94f-1dff467068a8",
   "metadata": {},
   "outputs": [],
   "source": [
    "data=X.values"
   ]
  },
  {
   "cell_type": "code",
   "execution_count": 25,
   "id": "577a504c-56a3-4efd-bbb1-3c702fcfb669",
   "metadata": {},
   "outputs": [],
   "source": [
    "y=y.values"
   ]
  },
  {
   "cell_type": "code",
   "execution_count": 24,
   "id": "1a00e6d9-8ce2-40c3-a923-50d6b8d42a40",
   "metadata": {},
   "outputs": [
    {
     "data": {
      "text/plain": [
       "array([ 2.,  3.,  3.,  2.,  4.,  4.,  2.,  4.,  2.,  2.,  2.,  4.,  2.,\n",
       "        4.,  2.,  2.,  3.,  3.,  3.,  3.,  2.,  2.,  2.,  4.,  2.,  4.,\n",
       "        2.,  2.,  2.,  2.,  2.,  4.,  2.,  4.,  2.,  3.,  3.,  3.,  3.,\n",
       "        3.,  3.,  2.,  2.,  2.,  4.,  2.,  2.,  4.,  3.,  2.,  2.,  2.,\n",
       "        4.,  2.,  4.,  2.,  4.,  2.,  2.,  4.,  2.,  2.,  2.,  4.,  3.,\n",
       "        3.,  2.,  1.,  2.,  2.,  2.,  3.,  2.,  2.,  2.,  2.,  2.,  4.,\n",
       "        2.,  2.,  2.,  2.,  1.,  2.,  2.,  4.,  2.,  2.,  2.,  2.,  2.,\n",
       "        2.,  2.,  2.,  2.,  4.,  2.,  2.,  2.,  2.,  2.,  2.,  3.,  2.,\n",
       "        2.,  2.,  2.,  2.,  2.,  2.,  2.,  1.,  3.,  2.,  3.,  2.,  4.,\n",
       "        2.,  2.,  4.,  2.,  2.,  2.,  2.,  2.,  6.,  2.,  2.,  2.,  3.,\n",
       "        2.,  2.,  2.,  2.,  2.,  2.,  2.,  2.,  2.,  2.,  2.,  6.,  5.,\n",
       "        6.,  2.,  2.,  3.,  2.,  2.,  2.,  2.,  2.,  3.,  4.,  4.,  5.,\n",
       "        6.,  4.,  2.,  4.,  4.,  2.,  3.,  2.,  2.,  3.,  2.,  4.,  2.,\n",
       "        2.,  3.,  2.,  2.,  2.,  2.,  2.,  2.,  2.,  2.,  2.,  4.,  2.,\n",
       "        3.,  4.,  2.,  5.,  3.,  5.,  3.,  3.,  2.,  2.,  2.,  2.,  2.,\n",
       "        2.,  2.,  4.,  2.,  2.,  3.,  2.,  2.,  2.,  4.,  3.,  3.,  4.,\n",
       "        2.,  2.,  3.,  4.,  4.,  2.,  3.,  2.,  5.,  2.,  2.,  4.,  2.,\n",
       "        2.,  1.,  3.,  2.,  2.,  2.,  4.,  2.,  2.,  4.,  3.,  2.,  2.,\n",
       "        2.,  2.,  2.,  2.,  3.,  3.,  2.,  2.,  2.,  2.,  2.,  3.,  4.,\n",
       "        4.,  5.,  3., nan,  2.])"
      ]
     },
     "execution_count": 24,
     "metadata": {},
     "output_type": "execute_result"
    }
   ],
   "source": [
    "data[:,5]"
   ]
  },
  {
   "cell_type": "code",
   "execution_count": 26,
   "id": "4acce37e-6444-4166-a073-4ce9b245dd56",
   "metadata": {},
   "outputs": [
    {
     "data": {
      "text/plain": [
       "7"
      ]
     },
     "execution_count": 26,
     "metadata": {},
     "output_type": "execute_result"
    }
   ],
   "source": [
    "sum(np.isnan(data).flatten())"
   ]
  },
  {
   "cell_type": "code",
   "execution_count": 27,
   "id": "411d8dfd-517b-4170-b06c-655232b951d9",
   "metadata": {},
   "outputs": [
    {
     "data": {
      "text/plain": [
       "0"
      ]
     },
     "execution_count": 27,
     "metadata": {},
     "output_type": "execute_result"
    }
   ],
   "source": [
    "sum(np.isnan(y).flatten())"
   ]
  },
  {
   "cell_type": "code",
   "execution_count": 28,
   "id": "3fd0f8a4-2ee9-4875-9f48-f012fad7ef4d",
   "metadata": {},
   "outputs": [],
   "source": [
    "imputer = SimpleImputer(strategy='median')"
   ]
  },
  {
   "cell_type": "code",
   "execution_count": 29,
   "id": "7bab0148-6f4b-426d-8569-25e6b1b73690",
   "metadata": {},
   "outputs": [
    {
     "data": {
      "text/plain": [
       "SimpleImputer(strategy='median')"
      ]
     },
     "execution_count": 29,
     "metadata": {},
     "output_type": "execute_result"
    }
   ],
   "source": [
    "imputer.fit(data)"
   ]
  },
  {
   "cell_type": "code",
   "execution_count": 30,
   "id": "158e46a5-5b37-4db8-8662-ee5fe19e2914",
   "metadata": {},
   "outputs": [],
   "source": [
    "# transform the dataset\n",
    "data_trans = imputer.transform(data)"
   ]
  },
  {
   "cell_type": "code",
   "execution_count": 31,
   "id": "85178196-ca68-4aca-85b0-8ab2e0c15b99",
   "metadata": {},
   "outputs": [],
   "source": [
    "#data_trans[:,5]"
   ]
  },
  {
   "cell_type": "code",
   "execution_count": 33,
   "id": "0a05f6e2-cf54-4150-8c89-d8a8fd45f2e9",
   "metadata": {},
   "outputs": [],
   "source": [
    "from sklearn.feature_selection import RFE"
   ]
  },
  {
   "cell_type": "code",
   "execution_count": 35,
   "id": "98a956a2-c37a-40f5-acc8-95c1c5358aa1",
   "metadata": {},
   "outputs": [],
   "source": [
    "from sklearn.tree import DecisionTreeClassifier"
   ]
  },
  {
   "cell_type": "code",
   "execution_count": 50,
   "id": "5238a294-0600-41e0-bcf6-895bd60b30a0",
   "metadata": {},
   "outputs": [],
   "source": [
    "from sklearn.svm import SVR"
   ]
  },
  {
   "cell_type": "code",
   "execution_count": 51,
   "id": "6851a85a-6753-4a47-aec7-6943e372574d",
   "metadata": {},
   "outputs": [],
   "source": [
    "estimator = SVR(kernel=\"linear\")"
   ]
  },
  {
   "cell_type": "code",
   "execution_count": 52,
   "id": "be57ec10-d7d0-4903-bce1-e39a1628979e",
   "metadata": {},
   "outputs": [],
   "source": [
    "# define RFE\n",
    "rfe = RFE(estimator, n_features_to_select=4)"
   ]
  },
  {
   "cell_type": "code",
   "execution_count": 59,
   "id": "6b78574c-935b-4ef2-a0d0-2259185ac5ef",
   "metadata": {},
   "outputs": [],
   "source": [
    "# fit RFE\n",
    "selector=rfe.fit(data_trans, y)"
   ]
  },
  {
   "cell_type": "code",
   "execution_count": 53,
   "id": "2719d0d8-b8b5-4c4f-b935-95f07783b57d",
   "metadata": {},
   "outputs": [],
   "source": []
  },
  {
   "cell_type": "code",
   "execution_count": 61,
   "id": "266e1bc3-51a5-4487-a2dd-c275e0d2f344",
   "metadata": {},
   "outputs": [
    {
     "data": {
      "text/plain": [
       "array([ True, False,  True, False,  True,  True])"
      ]
     },
     "execution_count": 61,
     "metadata": {},
     "output_type": "execute_result"
    }
   ],
   "source": [
    "selector.support_"
   ]
  },
  {
   "cell_type": "code",
   "execution_count": null,
   "id": "204d42ad-7085-44cf-88cb-73af268bb96a",
   "metadata": {},
   "outputs": [],
   "source": []
  },
  {
   "cell_type": "code",
   "execution_count": 62,
   "id": "55293598-b597-406b-8cc9-b92b77f8cd48",
   "metadata": {},
   "outputs": [
    {
     "name": "stdout",
     "output_type": "stream",
     "text": [
      "Column: 0,  Rank: 1\n",
      "Column: 1,  Rank: 3\n",
      "Column: 2,  Rank: 1\n",
      "Column: 3,  Rank: 2\n",
      "Column: 4,  Rank: 1\n",
      "Column: 5,  Rank: 1\n"
     ]
    }
   ],
   "source": [
    "# summarize all features\n",
    "for i in range(data_trans.shape[1]):\n",
    "  print('Column: %d,  Rank: %d' % (i,  rfe.ranking_[i]))"
   ]
  },
  {
   "cell_type": "code",
   "execution_count": 63,
   "id": "02cd89f7-23bb-4bd6-8205-8fdc8cfaede5",
   "metadata": {},
   "outputs": [],
   "source": [
    "df1=pd.DataFrame(data_trans)"
   ]
  },
  {
   "cell_type": "code",
   "execution_count": 64,
   "id": "9c031bff-fb6b-4c17-995f-e0be874a7c0e",
   "metadata": {},
   "outputs": [
    {
     "data": {
      "text/html": [
       "<div>\n",
       "<style scoped>\n",
       "    .dataframe tbody tr th:only-of-type {\n",
       "        vertical-align: middle;\n",
       "    }\n",
       "\n",
       "    .dataframe tbody tr th {\n",
       "        vertical-align: top;\n",
       "    }\n",
       "\n",
       "    .dataframe thead th {\n",
       "        text-align: right;\n",
       "    }\n",
       "</style>\n",
       "<table border=\"1\" class=\"dataframe\">\n",
       "  <thead>\n",
       "    <tr style=\"text-align: right;\">\n",
       "      <th></th>\n",
       "      <th>0</th>\n",
       "      <th>1</th>\n",
       "      <th>2</th>\n",
       "      <th>3</th>\n",
       "      <th>4</th>\n",
       "      <th>5</th>\n",
       "    </tr>\n",
       "  </thead>\n",
       "  <tbody>\n",
       "    <tr>\n",
       "      <th>0</th>\n",
       "      <td>1.01</td>\n",
       "      <td>0.0</td>\n",
       "      <td>0.0</td>\n",
       "      <td>3.0</td>\n",
       "      <td>1.0</td>\n",
       "      <td>2.0</td>\n",
       "    </tr>\n",
       "    <tr>\n",
       "      <th>1</th>\n",
       "      <td>1.66</td>\n",
       "      <td>1.0</td>\n",
       "      <td>0.0</td>\n",
       "      <td>3.0</td>\n",
       "      <td>1.0</td>\n",
       "      <td>3.0</td>\n",
       "    </tr>\n",
       "    <tr>\n",
       "      <th>2</th>\n",
       "      <td>3.50</td>\n",
       "      <td>1.0</td>\n",
       "      <td>0.0</td>\n",
       "      <td>3.0</td>\n",
       "      <td>1.0</td>\n",
       "      <td>3.0</td>\n",
       "    </tr>\n",
       "    <tr>\n",
       "      <th>3</th>\n",
       "      <td>3.31</td>\n",
       "      <td>1.0</td>\n",
       "      <td>0.0</td>\n",
       "      <td>3.0</td>\n",
       "      <td>1.0</td>\n",
       "      <td>2.0</td>\n",
       "    </tr>\n",
       "    <tr>\n",
       "      <th>4</th>\n",
       "      <td>3.61</td>\n",
       "      <td>0.0</td>\n",
       "      <td>0.0</td>\n",
       "      <td>3.0</td>\n",
       "      <td>1.0</td>\n",
       "      <td>4.0</td>\n",
       "    </tr>\n",
       "    <tr>\n",
       "      <th>...</th>\n",
       "      <td>...</td>\n",
       "      <td>...</td>\n",
       "      <td>...</td>\n",
       "      <td>...</td>\n",
       "      <td>...</td>\n",
       "      <td>...</td>\n",
       "    </tr>\n",
       "    <tr>\n",
       "      <th>247</th>\n",
       "      <td>3.35</td>\n",
       "      <td>1.0</td>\n",
       "      <td>0.0</td>\n",
       "      <td>2.0</td>\n",
       "      <td>1.0</td>\n",
       "      <td>4.0</td>\n",
       "    </tr>\n",
       "    <tr>\n",
       "      <th>248</th>\n",
       "      <td>3.35</td>\n",
       "      <td>1.0</td>\n",
       "      <td>0.0</td>\n",
       "      <td>2.0</td>\n",
       "      <td>1.0</td>\n",
       "      <td>5.0</td>\n",
       "    </tr>\n",
       "    <tr>\n",
       "      <th>249</th>\n",
       "      <td>1.66</td>\n",
       "      <td>1.0</td>\n",
       "      <td>0.0</td>\n",
       "      <td>3.0</td>\n",
       "      <td>1.0</td>\n",
       "      <td>3.0</td>\n",
       "    </tr>\n",
       "    <tr>\n",
       "      <th>250</th>\n",
       "      <td>1.66</td>\n",
       "      <td>1.0</td>\n",
       "      <td>0.0</td>\n",
       "      <td>3.0</td>\n",
       "      <td>1.0</td>\n",
       "      <td>2.0</td>\n",
       "    </tr>\n",
       "    <tr>\n",
       "      <th>251</th>\n",
       "      <td>1.01</td>\n",
       "      <td>0.0</td>\n",
       "      <td>0.0</td>\n",
       "      <td>3.0</td>\n",
       "      <td>1.0</td>\n",
       "      <td>2.0</td>\n",
       "    </tr>\n",
       "  </tbody>\n",
       "</table>\n",
       "<p>252 rows × 6 columns</p>\n",
       "</div>"
      ],
      "text/plain": [
       "        0    1    2    3    4    5\n",
       "0    1.01  0.0  0.0  3.0  1.0  2.0\n",
       "1    1.66  1.0  0.0  3.0  1.0  3.0\n",
       "2    3.50  1.0  0.0  3.0  1.0  3.0\n",
       "3    3.31  1.0  0.0  3.0  1.0  2.0\n",
       "4    3.61  0.0  0.0  3.0  1.0  4.0\n",
       "..    ...  ...  ...  ...  ...  ...\n",
       "247  3.35  1.0  0.0  2.0  1.0  4.0\n",
       "248  3.35  1.0  0.0  2.0  1.0  5.0\n",
       "249  1.66  1.0  0.0  3.0  1.0  3.0\n",
       "250  1.66  1.0  0.0  3.0  1.0  2.0\n",
       "251  1.01  0.0  0.0  3.0  1.0  2.0\n",
       "\n",
       "[252 rows x 6 columns]"
      ]
     },
     "execution_count": 64,
     "metadata": {},
     "output_type": "execute_result"
    }
   ],
   "source": [
    "df1"
   ]
  },
  {
   "cell_type": "code",
   "execution_count": 68,
   "id": "1e564159-eeb3-434a-b792-c4410d1bd2ba",
   "metadata": {},
   "outputs": [
    {
     "data": {
      "text/plain": [
       "Index(['total_bill', 'tip', 'sex', 'smoker', 'day', 'time', 'size'], dtype='object')"
      ]
     },
     "execution_count": 68,
     "metadata": {},
     "output_type": "execute_result"
    }
   ],
   "source": [
    "df.columns"
   ]
  },
  {
   "cell_type": "code",
   "execution_count": null,
   "id": "97268718-d5f6-48e0-a6f4-8f6496c5cd2e",
   "metadata": {},
   "outputs": [],
   "source": [
    "# the end"
   ]
  },
  {
   "cell_type": "code",
   "execution_count": 23,
   "id": "fc986413-6c72-4084-ad7b-9e26a950c3b6",
   "metadata": {},
   "outputs": [],
   "source": []
  },
  {
   "cell_type": "code",
   "execution_count": 23,
   "id": "4cf7674b-ddd5-4c1f-a1fa-823f6e90bb52",
   "metadata": {},
   "outputs": [],
   "source": []
  },
  {
   "cell_type": "code",
   "execution_count": null,
   "id": "2b8b4e0d-a941-4013-909b-5cab50058626",
   "metadata": {},
   "outputs": [],
   "source": []
  },
  {
   "cell_type": "code",
   "execution_count": 27,
   "id": "8e5b1ee9-32fb-4387-862e-c351c960458d",
   "metadata": {},
   "outputs": [
    {
     "data": {
      "text/html": [
       "<div>\n",
       "<style scoped>\n",
       "    .dataframe tbody tr th:only-of-type {\n",
       "        vertical-align: middle;\n",
       "    }\n",
       "\n",
       "    .dataframe tbody tr th {\n",
       "        vertical-align: top;\n",
       "    }\n",
       "\n",
       "    .dataframe thead th {\n",
       "        text-align: right;\n",
       "    }\n",
       "</style>\n",
       "<table border=\"1\" class=\"dataframe\">\n",
       "  <thead>\n",
       "    <tr style=\"text-align: right;\">\n",
       "      <th></th>\n",
       "      <th>0</th>\n",
       "      <th>1</th>\n",
       "      <th>2</th>\n",
       "      <th>3</th>\n",
       "      <th>4</th>\n",
       "      <th>5</th>\n",
       "      <th>6</th>\n",
       "    </tr>\n",
       "  </thead>\n",
       "  <tbody>\n",
       "    <tr>\n",
       "      <th>0</th>\n",
       "      <td>16.99</td>\n",
       "      <td>1.01</td>\n",
       "      <td>0.0</td>\n",
       "      <td>0.0</td>\n",
       "      <td>3.0</td>\n",
       "      <td>1.0</td>\n",
       "      <td>2.0</td>\n",
       "    </tr>\n",
       "    <tr>\n",
       "      <th>1</th>\n",
       "      <td>10.34</td>\n",
       "      <td>1.66</td>\n",
       "      <td>1.0</td>\n",
       "      <td>0.0</td>\n",
       "      <td>3.0</td>\n",
       "      <td>1.0</td>\n",
       "      <td>3.0</td>\n",
       "    </tr>\n",
       "    <tr>\n",
       "      <th>2</th>\n",
       "      <td>21.01</td>\n",
       "      <td>3.50</td>\n",
       "      <td>1.0</td>\n",
       "      <td>0.0</td>\n",
       "      <td>3.0</td>\n",
       "      <td>1.0</td>\n",
       "      <td>3.0</td>\n",
       "    </tr>\n",
       "    <tr>\n",
       "      <th>3</th>\n",
       "      <td>23.68</td>\n",
       "      <td>3.31</td>\n",
       "      <td>1.0</td>\n",
       "      <td>0.0</td>\n",
       "      <td>3.0</td>\n",
       "      <td>1.0</td>\n",
       "      <td>2.0</td>\n",
       "    </tr>\n",
       "    <tr>\n",
       "      <th>4</th>\n",
       "      <td>24.59</td>\n",
       "      <td>3.61</td>\n",
       "      <td>0.0</td>\n",
       "      <td>0.0</td>\n",
       "      <td>3.0</td>\n",
       "      <td>1.0</td>\n",
       "      <td>4.0</td>\n",
       "    </tr>\n",
       "    <tr>\n",
       "      <th>...</th>\n",
       "      <td>...</td>\n",
       "      <td>...</td>\n",
       "      <td>...</td>\n",
       "      <td>...</td>\n",
       "      <td>...</td>\n",
       "      <td>...</td>\n",
       "      <td>...</td>\n",
       "    </tr>\n",
       "    <tr>\n",
       "      <th>247</th>\n",
       "      <td>20.65</td>\n",
       "      <td>3.35</td>\n",
       "      <td>1.0</td>\n",
       "      <td>0.0</td>\n",
       "      <td>2.0</td>\n",
       "      <td>1.0</td>\n",
       "      <td>4.0</td>\n",
       "    </tr>\n",
       "    <tr>\n",
       "      <th>248</th>\n",
       "      <td>20.65</td>\n",
       "      <td>3.35</td>\n",
       "      <td>1.0</td>\n",
       "      <td>0.0</td>\n",
       "      <td>2.0</td>\n",
       "      <td>1.0</td>\n",
       "      <td>5.0</td>\n",
       "    </tr>\n",
       "    <tr>\n",
       "      <th>249</th>\n",
       "      <td>10.34</td>\n",
       "      <td>1.66</td>\n",
       "      <td>1.0</td>\n",
       "      <td>0.0</td>\n",
       "      <td>3.0</td>\n",
       "      <td>1.0</td>\n",
       "      <td>3.0</td>\n",
       "    </tr>\n",
       "    <tr>\n",
       "      <th>250</th>\n",
       "      <td>10.34</td>\n",
       "      <td>1.66</td>\n",
       "      <td>1.0</td>\n",
       "      <td>0.0</td>\n",
       "      <td>3.0</td>\n",
       "      <td>1.0</td>\n",
       "      <td>2.0</td>\n",
       "    </tr>\n",
       "    <tr>\n",
       "      <th>251</th>\n",
       "      <td>16.99</td>\n",
       "      <td>1.01</td>\n",
       "      <td>0.0</td>\n",
       "      <td>0.0</td>\n",
       "      <td>3.0</td>\n",
       "      <td>1.0</td>\n",
       "      <td>2.0</td>\n",
       "    </tr>\n",
       "  </tbody>\n",
       "</table>\n",
       "<p>252 rows × 7 columns</p>\n",
       "</div>"
      ],
      "text/plain": [
       "         0     1    2    3    4    5    6\n",
       "0    16.99  1.01  0.0  0.0  3.0  1.0  2.0\n",
       "1    10.34  1.66  1.0  0.0  3.0  1.0  3.0\n",
       "2    21.01  3.50  1.0  0.0  3.0  1.0  3.0\n",
       "3    23.68  3.31  1.0  0.0  3.0  1.0  2.0\n",
       "4    24.59  3.61  0.0  0.0  3.0  1.0  4.0\n",
       "..     ...   ...  ...  ...  ...  ...  ...\n",
       "247  20.65  3.35  1.0  0.0  2.0  1.0  4.0\n",
       "248  20.65  3.35  1.0  0.0  2.0  1.0  5.0\n",
       "249  10.34  1.66  1.0  0.0  3.0  1.0  3.0\n",
       "250  10.34  1.66  1.0  0.0  3.0  1.0  2.0\n",
       "251  16.99  1.01  0.0  0.0  3.0  1.0  2.0\n",
       "\n",
       "[252 rows x 7 columns]"
      ]
     },
     "execution_count": 27,
     "metadata": {},
     "output_type": "execute_result"
    }
   ],
   "source": [
    "df_trans"
   ]
  },
  {
   "cell_type": "code",
   "execution_count": 4,
   "id": "cc13b9db-5e6a-4f10-9be0-91723295bf43",
   "metadata": {},
   "outputs": [],
   "source": [
    "# the end"
   ]
  },
  {
   "cell_type": "code",
   "execution_count": 4,
   "id": "5c83204d-b620-412b-b064-c71a27601997",
   "metadata": {},
   "outputs": [],
   "source": []
  },
  {
   "cell_type": "code",
   "execution_count": 4,
   "id": "133765db-aeda-48b2-b69f-dca4d8581690",
   "metadata": {},
   "outputs": [],
   "source": []
  },
  {
   "cell_type": "code",
   "execution_count": 4,
   "id": "572fdf79-03b0-4338-a7f4-803d22a59dab",
   "metadata": {},
   "outputs": [
    {
     "data": {
      "text/plain": [
       "0    39.42\n",
       "1    50.81\n",
       "2    48.33\n",
       "Name: total_bill, dtype: float64"
      ]
     },
     "execution_count": 4,
     "metadata": {},
     "output_type": "execute_result"
    }
   ],
   "source": [
    "df. total_bill"
   ]
  },
  {
   "cell_type": "code",
   "execution_count": 5,
   "id": "701e738d-c7ab-4b2b-ad16-d1a6cebe79c3",
   "metadata": {},
   "outputs": [
    {
     "data": {
      "text/plain": [
       "0    39.42\n",
       "1    50.81\n",
       "2    48.33\n",
       "Name: total_bill, dtype: float64"
      ]
     },
     "execution_count": 5,
     "metadata": {},
     "output_type": "execute_result"
    }
   ],
   "source": [
    "df['total_bill']"
   ]
  },
  {
   "cell_type": "code",
   "execution_count": 6,
   "id": "7a77ae9a-6de5-4502-bd94-c1faa8d72526",
   "metadata": {},
   "outputs": [
    {
     "data": {
      "text/plain": [
       "<AxesSubplot:>"
      ]
     },
     "execution_count": 6,
     "metadata": {},
     "output_type": "execute_result"
    },
    {
     "data": {
      "image/png": "[encoded data removed]",
      "text/plain": [
       "<Figure size 432x288 with 1 Axes>"
      ]
     },
     "metadata": {
      "needs_background": "light"
     },
     "output_type": "display_data"
    }
   ],
   "source": [
    "df['total_bill'].hist()"
   ]
  },
  {
   "cell_type": "code",
   "execution_count": null,
   "id": "2ccb85fd-2b37-4622-abae-d83c1c8aa991",
   "metadata": {},
   "outputs": [],
   "source": [
    "# 새출발"
   ]
  },
  {
   "cell_type": "code",
   "execution_count": 1,
   "id": "5df8f9d8-448a-488a-b39c-609be205432c",
   "metadata": {},
   "outputs": [],
   "source": [
    "import pymysql.cursors\n",
    "import pandas as pd"
   ]
  },
  {
   "cell_type": "code",
   "execution_count": 11,
   "id": "972f05cc-4970-4c3b-a84b-c76c0c365957",
   "metadata": {},
   "outputs": [],
   "source": [
    "sql=\"select customers.state, \\\n",
    "customers.customerName, payments.checkNumber \\\n",
    "from customers \\\n",
    "LEFT JOIN payments on customers.customerNumber = payments.customerNumber where payments.paymentDate >= '2004-10-06';\""
   ]
  },
  {
   "cell_type": "code",
   "execution_count": 6,
   "id": "59d5c7c6-1403-45c8-a441-b52608e84e82",
   "metadata": {},
   "outputs": [
    {
     "name": "stdout",
     "output_type": "stream",
     "text": [
      "       state                  customerName checkNumber\n",
      "0       None             Atelier graphique    HQ336336\n",
      "1       None             Atelier graphique    OM314933\n",
      "2         NV            Signal Gift Stores    BO864823\n",
      "3   Victoria    Australian Collectors, Co.    MA765515\n",
      "4       None             La Rochelle Gifts    DB933704\n",
      "..       ...                           ...         ...\n",
      "84        MA              FunGiftIdeas.com    PE176846\n",
      "85      None    Iberia Gift Imports, Corp.    GK294076\n",
      "86        PA  Motor Mint Distributors Inc.     HS86661\n",
      "87      None             Kelly's Gift Shop    EU531600\n",
      "88      None             Kelly's Gift Shop     MN89921\n",
      "\n",
      "[89 rows x 3 columns]\n"
     ]
    }
   ],
   "source": [
    "conn = pymysql.connect(host='localhost', user='root', \n",
    "                       password='8475', db='classicmodels', charset='utf8',\n",
    "                       autocommit=True, cursorclass=pymysql.cursors.DictCursor)\n",
    "try:\n",
    "\n",
    "   with conn.cursor() as curs:\n",
    "      #sql = \"SELECT total_bill FROM tip.tips where tip >= 7 ;\"\n",
    "      curs.execute(sql)\n",
    "      rs = curs.fetchall()\n",
    "\n",
    "      # DB에서 받아온 값을 DataFrame에 넣음\n",
    "\n",
    "      df = pd.DataFrame(rs)\n",
    "      print(df)\n",
    "\n",
    "finally:\n",
    "\n",
    "   conn.close()"
   ]
  },
  {
   "cell_type": "code",
   "execution_count": 7,
   "id": "370addf9-0d42-4003-8066-af8f41abce22",
   "metadata": {},
   "outputs": [
    {
     "name": "stdout",
     "output_type": "stream",
     "text": [
      "C:\\Users\\i\\Desktop\\2021-K-Digital-Training-main\\SQL\n"
     ]
    }
   ],
   "source": [
    "!cd"
   ]
  },
  {
   "cell_type": "code",
   "execution_count": 8,
   "id": "18477dfd-0511-4901-b3f3-060c390d04f3",
   "metadata": {},
   "outputs": [],
   "source": [
    "df.to_csv('query_car.csv')"
   ]
  },
  {
   "cell_type": "code",
   "execution_count": null,
   "id": "f9a60ad4-5a0b-41f6-ad2e-b54e504dc9dc",
   "metadata": {},
   "outputs": [],
   "source": []
  }
 ],
 "metadata": {
  "kernelspec": {
   "display_name": "Python Multi",
   "language": "python",
   "name": "multi"
  },
  "language_info": {
   "codemirror_mode": {
    "name": "ipython",
    "version": 3
   },
   "file_extension": ".py",
   "mimetype": "text/x-python",
   "name": "python",
   "nbconvert_exporter": "python",
   "pygments_lexer": "ipython3",
   "version": "3.7.6"
  }
 },
 "nbformat": 4,
 "nbformat_minor": 5
}
