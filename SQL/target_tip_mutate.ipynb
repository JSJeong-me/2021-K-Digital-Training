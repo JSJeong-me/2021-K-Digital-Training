{
 "cells": [
  {
   "cell_type": "markdown",
   "id": "aafbd97c-7d29-4a27-881c-65e82037b830",
   "metadata": {},
   "source": [
    "### Target Variable : Tip with mutate variable -> tip_rate"
   ]
  },
  {
   "cell_type": "code",
   "execution_count": null,
   "id": "27fbfee2-84d2-49fd-823d-f3b944807c9e",
   "metadata": {},
   "outputs": [],
   "source": [
    "!cd"
   ]
  },
  {
   "cell_type": "code",
   "execution_count": null,
   "id": "f7f0e6f1-6d8c-4d77-b087-301ef5f6bf61",
   "metadata": {},
   "outputs": [],
   "source": [
    "!dir"
   ]
  },
  {
   "cell_type": "code",
   "execution_count": null,
   "id": "sudden-fellowship",
   "metadata": {},
   "outputs": [],
   "source": [
    "#!pip install PyMySQL==1.0.0"
   ]
  },
  {
   "cell_type": "code",
   "execution_count": null,
   "id": "6852b727-9798-41c8-9059-8bf8529c4a41",
   "metadata": {},
   "outputs": [],
   "source": [
    "#import pymysql.cursors\n",
    "import pandas as pd\n",
    "# Connect to the database"
   ]
  },
  {
   "cell_type": "code",
   "execution_count": null,
   "id": "0206b3e2-93d3-428c-8225-d66c96141d3c",
   "metadata": {},
   "outputs": [],
   "source": [
    "# localhost or 127.0.0.1"
   ]
  },
  {
   "cell_type": "code",
   "execution_count": null,
   "id": "92594c30-382b-4b7c-87fb-109a71cb5de4",
   "metadata": {},
   "outputs": [],
   "source": [
    "'''\n",
    "# MySQL DB에서 데이터 받아와서 DataFrame에 저장\n",
    "\n",
    "conn = pymysql.connect(host='localhost', user='root', \n",
    "                       password='8475', db='tip', charset='utf8',\n",
    "                       autocommit=True, cursorclass=pymysql.cursors.DictCursor)\n",
    "try:\n",
    "\n",
    "    with conn.cursor() as curs:\n",
    "      sql = \"SELECT * FROM tips;\"\n",
    "      curs.execute(sql)\n",
    "      rs = curs.fetchall()\n",
    "\n",
    "      # DB에서 받아온 값을 DataFrame에 넣음\n",
    "\n",
    "      df = pd.DataFrame(rs)\n",
    "      print(df)\n",
    "      #df.to_csv('query.csv')\n",
    "\n",
    "finally:\n",
    "\n",
    "   conn.close()\n",
    "'''"
   ]
  },
  {
   "cell_type": "code",
   "execution_count": null,
   "id": "c8e82ca8-4087-43d1-943e-dec517f4dc3c",
   "metadata": {},
   "outputs": [],
   "source": [
    "df = pd.read_csv('tips.csv')"
   ]
  },
  {
   "cell_type": "code",
   "execution_count": null,
   "id": "26c74b7e-eb21-412f-ad51-586a1b75bb1e",
   "metadata": {},
   "outputs": [],
   "source": [
    "df.info()"
   ]
  },
  {
   "cell_type": "code",
   "execution_count": null,
   "id": "abf60f6b-199f-4f33-889a-55e43f99fc66",
   "metadata": {},
   "outputs": [],
   "source": [
    "#df.isnull().sum()"
   ]
  },
  {
   "cell_type": "markdown",
   "id": "ab820c65-199b-4f65-89df-6fd61b95706b",
   "metadata": {},
   "source": [
    "### Encoding"
   ]
  },
  {
   "cell_type": "code",
   "execution_count": null,
   "id": "3a83a00c-ae89-4606-b26f-bfb9653bd435",
   "metadata": {},
   "outputs": [],
   "source": [
    "df['sex'].replace({'Female':0, 'Male':1}, inplace=True)\n",
    "df[\"smoker\"].replace({\"No\" : 0, \"Yes\" : 1}, inplace=True)\n",
    "df[\"day\"].replace({\"Thur\" : 0, \"Fri\" : 1, \"Sat\" : 2, \"Sun\" : 3}, inplace=True)\n",
    "df[\"time\"].replace({\"Lunch\" : 0, \"Dinner\" : 1}, inplace=True)"
   ]
  },
  {
   "cell_type": "code",
   "execution_count": null,
   "id": "6cd010b7-564e-4395-83bf-e75a447d2fc6",
   "metadata": {},
   "outputs": [],
   "source": [
    "df.info()"
   ]
  },
  {
   "cell_type": "code",
   "execution_count": null,
   "id": "55f9e67e-61f5-4f62-94c6-6d324e9104ec",
   "metadata": {},
   "outputs": [],
   "source": [
    "df.isnull().sum()"
   ]
  },
  {
   "cell_type": "code",
   "execution_count": null,
   "id": "8d809914-57b1-4b0f-8557-5dd21e733cc9",
   "metadata": {},
   "outputs": [],
   "source": [
    "import numpy as np"
   ]
  },
  {
   "cell_type": "code",
   "execution_count": null,
   "id": "1b376a49-23e7-4527-a2cb-451483df1358",
   "metadata": {},
   "outputs": [],
   "source": [
    "df.replace('',np.nan,inplace=True) # '' -> np.nan"
   ]
  },
  {
   "cell_type": "code",
   "execution_count": null,
   "id": "1baec60e-16cd-433e-95ff-df0cd11b95a1",
   "metadata": {},
   "outputs": [],
   "source": []
  },
  {
   "cell_type": "code",
   "execution_count": null,
   "id": "ee1ceda7-48eb-4ee5-85c2-139a47419a96",
   "metadata": {},
   "outputs": [],
   "source": [
    "df.describe()"
   ]
  },
  {
   "cell_type": "code",
   "execution_count": null,
   "id": "9a21e465-52f0-4d03-8046-05d9f982badb",
   "metadata": {},
   "outputs": [],
   "source": [
    "type(df)"
   ]
  },
  {
   "cell_type": "code",
   "execution_count": null,
   "id": "2be52fa2-f051-4cf5-a815-017276b4fb3c",
   "metadata": {},
   "outputs": [],
   "source": [
    "df['tip_rate'] = ((df['tip']/df['total_bill'])*100).round(2)"
   ]
  },
  {
   "cell_type": "code",
   "execution_count": null,
   "id": "8f2c462a-5827-4e64-b8fa-ba13a342d0c7",
   "metadata": {},
   "outputs": [],
   "source": [
    "df['tip_rate'].head(3)"
   ]
  },
  {
   "cell_type": "code",
   "execution_count": null,
   "id": "4dde1590-c336-4850-9d2e-01a0471669c3",
   "metadata": {},
   "outputs": [],
   "source": [
    "df.describe()"
   ]
  },
  {
   "cell_type": "code",
   "execution_count": null,
   "id": "c8a09b18-05c4-4571-a135-3dc9691072b5",
   "metadata": {},
   "outputs": [],
   "source": [
    "#import numpy as np\n",
    "from sklearn.impute import SimpleImputer"
   ]
  },
  {
   "cell_type": "code",
   "execution_count": null,
   "id": "f609450f-d1b1-4ec7-911e-1036f54c1ff7",
   "metadata": {},
   "outputs": [],
   "source": [
    "data = df.values"
   ]
  },
  {
   "cell_type": "code",
   "execution_count": null,
   "id": "6178d6c8-9a2c-47fa-acc7-c4fa279b8d34",
   "metadata": {},
   "outputs": [],
   "source": [
    "y=df['tip'] # Target variable -> Tip"
   ]
  },
  {
   "cell_type": "code",
   "execution_count": null,
   "id": "65dbd32e-7a75-4ce0-b815-2233b6b76707",
   "metadata": {},
   "outputs": [],
   "source": [
    "X=df.drop('tip',axis=1)"
   ]
  },
  {
   "cell_type": "code",
   "execution_count": null,
   "id": "a3ea8513-52d9-4768-af02-0c36d64229cf",
   "metadata": {},
   "outputs": [],
   "source": [
    "X.columns"
   ]
  },
  {
   "cell_type": "code",
   "execution_count": null,
   "id": "0539ed2c-f87a-4c74-83f8-12765a9afbe6",
   "metadata": {},
   "outputs": [],
   "source": [
    "y.describe()"
   ]
  },
  {
   "cell_type": "code",
   "execution_count": null,
   "id": "daba16bb-ed27-4a7d-a94f-1dff467068a8",
   "metadata": {},
   "outputs": [],
   "source": [
    "data=X.values # Train data"
   ]
  },
  {
   "cell_type": "code",
   "execution_count": null,
   "id": "577a504c-56a3-4efd-bbb1-3c702fcfb669",
   "metadata": {},
   "outputs": [],
   "source": [
    "y=y.values"
   ]
  },
  {
   "cell_type": "code",
   "execution_count": null,
   "id": "510fa9f3-57fe-47c6-9002-ba50a0a9d145",
   "metadata": {},
   "outputs": [],
   "source": [
    "import numpy as np"
   ]
  },
  {
   "cell_type": "code",
   "execution_count": null,
   "id": "5e2d6f6c-5aa1-4752-b5d5-d706ff62f4b3",
   "metadata": {},
   "outputs": [],
   "source": [
    "sum(np.isnan(data).flatten())"
   ]
  },
  {
   "cell_type": "code",
   "execution_count": null,
   "id": "411d8dfd-517b-4170-b06c-655232b951d9",
   "metadata": {},
   "outputs": [],
   "source": [
    "sum(np.isnan(y).flatten())"
   ]
  },
  {
   "cell_type": "code",
   "execution_count": null,
   "id": "3fd0f8a4-2ee9-4875-9f48-f012fad7ef4d",
   "metadata": {},
   "outputs": [],
   "source": [
    "imputer = SimpleImputer(strategy='median')"
   ]
  },
  {
   "cell_type": "code",
   "execution_count": null,
   "id": "7bab0148-6f4b-426d-8569-25e6b1b73690",
   "metadata": {},
   "outputs": [],
   "source": [
    "imputer.fit(data)"
   ]
  },
  {
   "cell_type": "code",
   "execution_count": null,
   "id": "158e46a5-5b37-4db8-8662-ee5fe19e2914",
   "metadata": {},
   "outputs": [],
   "source": [
    "# transform the dataset\n",
    "data_trans = imputer.transform(data) # Imputed data set"
   ]
  },
  {
   "cell_type": "markdown",
   "id": "aef4381c-1e2e-4341-a4b4-348e52489811",
   "metadata": {},
   "source": [
    "### 시작 "
   ]
  },
  {
   "cell_type": "markdown",
   "id": "842f6624-7a99-4cb5-abe8-bcd77b55759b",
   "metadata": {},
   "source": [
    "### RFE"
   ]
  },
  {
   "cell_type": "code",
   "execution_count": null,
   "id": "0a05f6e2-cf54-4150-8c89-d8a8fd45f2e9",
   "metadata": {},
   "outputs": [],
   "source": [
    "from sklearn.feature_selection import RFE"
   ]
  },
  {
   "cell_type": "code",
   "execution_count": null,
   "id": "98a956a2-c37a-40f5-acc8-95c1c5358aa1",
   "metadata": {},
   "outputs": [],
   "source": [
    "#from sklearn.tree import DecisionTreeClassifier"
   ]
  },
  {
   "cell_type": "code",
   "execution_count": null,
   "id": "5238a294-0600-41e0-bcf6-895bd60b30a0",
   "metadata": {},
   "outputs": [],
   "source": [
    "from sklearn.svm import SVR"
   ]
  },
  {
   "cell_type": "code",
   "execution_count": null,
   "id": "6851a85a-6753-4a47-aec7-6943e372574d",
   "metadata": {},
   "outputs": [],
   "source": [
    "estimator = SVR(kernel=\"linear\")"
   ]
  },
  {
   "cell_type": "code",
   "execution_count": null,
   "id": "be57ec10-d7d0-4903-bce1-e39a1628979e",
   "metadata": {},
   "outputs": [],
   "source": [
    "# define RFE\n",
    "rfe = RFE(estimator, n_features_to_select=4)"
   ]
  },
  {
   "cell_type": "code",
   "execution_count": null,
   "id": "6b78574c-935b-4ef2-a0d0-2259185ac5ef",
   "metadata": {},
   "outputs": [],
   "source": [
    "# fit RFE\n",
    "selector=rfe.fit(data_trans, y)"
   ]
  },
  {
   "cell_type": "code",
   "execution_count": null,
   "id": "2719d0d8-b8b5-4c4f-b935-95f07783b57d",
   "metadata": {},
   "outputs": [],
   "source": [
    "!cd"
   ]
  },
  {
   "cell_type": "code",
   "execution_count": null,
   "id": "266e1bc3-51a5-4487-a2dd-c275e0d2f344",
   "metadata": {},
   "outputs": [],
   "source": [
    "selector.support_"
   ]
  },
  {
   "cell_type": "code",
   "execution_count": null,
   "id": "55293598-b597-406b-8cc9-b92b77f8cd48",
   "metadata": {},
   "outputs": [],
   "source": [
    "# summarize all features\n",
    "for i in range(data_trans.shape[1]):\n",
    "  print('Column: %d,  Rank: %d' % (i,  rfe.ranking_[i]))"
   ]
  },
  {
   "cell_type": "code",
   "execution_count": null,
   "id": "eb1eb35f-6287-4147-bd19-3e6aa2261291",
   "metadata": {},
   "outputs": [],
   "source": [
    "df1=pd.DataFrame(data_trans, columns=['total_bill', 'sex', 'smoker', 'day', 'time', 'size'])"
   ]
  },
  {
   "cell_type": "code",
   "execution_count": null,
   "id": "eeee0309-e328-406c-830e-3aa0cca22c49",
   "metadata": {},
   "outputs": [],
   "source": [
    "df1.columns"
   ]
  },
  {
   "cell_type": "code",
   "execution_count": null,
   "id": "d5220406-c809-428f-8112-f6ebabeb8f43",
   "metadata": {},
   "outputs": [],
   "source": [
    "df1.drop(['smoker', 'day'], axis=1)"
   ]
  },
  {
   "cell_type": "markdown",
   "id": "98c991f1-caf6-4b65-bc3f-6cb8eeb892d7",
   "metadata": {},
   "source": [
    "### PCA"
   ]
  },
  {
   "cell_type": "code",
   "execution_count": null,
   "id": "514b1263-b997-4480-9899-b43dfa480c40",
   "metadata": {},
   "outputs": [],
   "source": [
    "from sklearn.decomposition import PCA"
   ]
  },
  {
   "cell_type": "code",
   "execution_count": null,
   "id": "14982686-1e9e-4370-a733-9806a5ac61d6",
   "metadata": {},
   "outputs": [],
   "source": [
    "data_trans.shape"
   ]
  },
  {
   "cell_type": "code",
   "execution_count": null,
   "id": "67077126-8947-446f-9e99-fe3aa71b3855",
   "metadata": {},
   "outputs": [],
   "source": [
    "# define the transform\n",
    "trans = PCA(n_components=4)"
   ]
  },
  {
   "cell_type": "code",
   "execution_count": null,
   "id": "226763f3-d384-4e57-afe2-b9392e2eabe0",
   "metadata": {},
   "outputs": [],
   "source": [
    "# https://stackoverflow.com/questions/55582413/put-results-of-pca-into-dataframe"
   ]
  },
  {
   "cell_type": "code",
   "execution_count": null,
   "id": "c43b621c-a2e7-4bac-bada-80faa03e6bf2",
   "metadata": {},
   "outputs": [],
   "source": [
    "# transform the data\n",
    "X_dim = trans.fit_transform(data_trans)"
   ]
  },
  {
   "cell_type": "code",
   "execution_count": null,
   "id": "493cdf26-0f09-453b-bba9-868095951b57",
   "metadata": {},
   "outputs": [],
   "source": [
    "# summarize data after the transform\n",
    "print(X_dim[:3, :])"
   ]
  },
  {
   "cell_type": "code",
   "execution_count": null,
   "id": "143ddad1-ea9c-4271-9058-718b8580d679",
   "metadata": {},
   "outputs": [],
   "source": [
    "trans.components_"
   ]
  },
  {
   "cell_type": "code",
   "execution_count": null,
   "id": "d9bb6722-75a6-4acf-b767-83bd01fd7562",
   "metadata": {},
   "outputs": [],
   "source": [
    "trans.explained_variance_ratio_"
   ]
  },
  {
   "cell_type": "code",
   "execution_count": null,
   "id": "9d916210-c3a2-48de-94a2-fa92143f30c3",
   "metadata": {},
   "outputs": [],
   "source": [
    "df_pca = pd.DataFrame(X_dim)"
   ]
  },
  {
   "cell_type": "code",
   "execution_count": null,
   "id": "16f99a08-b8e1-445f-98aa-04df4db7a639",
   "metadata": {},
   "outputs": [],
   "source": [
    "df_pca.describe().round(2)"
   ]
  },
  {
   "cell_type": "code",
   "execution_count": null,
   "id": "df938186-74ca-4da2-811d-217a37c0538f",
   "metadata": {},
   "outputs": [],
   "source": [
    "df.describe()"
   ]
  },
  {
   "cell_type": "markdown",
   "id": "ac972f76-3c5d-40ea-b246-8c9c73335f45",
   "metadata": {},
   "source": [
    "### Regression Feature Selection"
   ]
  },
  {
   "cell_type": "code",
   "execution_count": null,
   "id": "8a58df47-03c6-431c-9030-21de5d39d083",
   "metadata": {},
   "outputs": [],
   "source": [
    "from sklearn.feature_selection import SelectKBest\n",
    "from sklearn.feature_selection import f_regression"
   ]
  },
  {
   "cell_type": "code",
   "execution_count": null,
   "id": "2722ec2f-bf7d-4c4b-9d05-0eec598dfd37",
   "metadata": {},
   "outputs": [],
   "source": [
    "fs = SelectKBest(score_func=f_regression, k=4)"
   ]
  },
  {
   "cell_type": "code",
   "execution_count": null,
   "id": "bdc7cde4-5af3-4da8-a077-ef2914a989a1",
   "metadata": {},
   "outputs": [],
   "source": [
    "data_trans.shape"
   ]
  },
  {
   "cell_type": "code",
   "execution_count": null,
   "id": "9298bac1-933f-4df9-84e4-d6ba9a941025",
   "metadata": {},
   "outputs": [],
   "source": [
    "y.shape"
   ]
  },
  {
   "cell_type": "code",
   "execution_count": null,
   "id": "8fb95c95-ccfb-4815-900a-91baf2a0524d",
   "metadata": {},
   "outputs": [],
   "source": [
    "# apply feature selection\n",
    "X_selected = fs.fit_transform(data_trans, y)"
   ]
  },
  {
   "cell_type": "code",
   "execution_count": null,
   "id": "a3dc2048-aee0-4eab-b959-74dd1262ef1f",
   "metadata": {},
   "outputs": [],
   "source": [
    "parameters = fs.get_params(deep=True)"
   ]
  },
  {
   "cell_type": "code",
   "execution_count": null,
   "id": "8b736901-b57f-4e04-a51a-91f223d7b1f9",
   "metadata": {},
   "outputs": [],
   "source": [
    "parameters"
   ]
  },
  {
   "cell_type": "code",
   "execution_count": null,
   "id": "ace38c04-3e82-4b80-9841-76ba37702ddd",
   "metadata": {},
   "outputs": [],
   "source": [
    "parameters['score_func']"
   ]
  },
  {
   "cell_type": "code",
   "execution_count": null,
   "id": "00e94950-6db5-4b8e-8a73-bd037a6e4eee",
   "metadata": {},
   "outputs": [],
   "source": [
    "get_features = fs.fit(data_trans, y)"
   ]
  },
  {
   "cell_type": "code",
   "execution_count": null,
   "id": "fc19fdff-2d54-46e9-809c-50b9b76e6dab",
   "metadata": {},
   "outputs": [],
   "source": [
    "get_features"
   ]
  },
  {
   "cell_type": "code",
   "execution_count": null,
   "id": "9deacbd0-039b-49cb-b869-ed1c59802977",
   "metadata": {},
   "outputs": [],
   "source": [
    "fs.get_support(indices=True)"
   ]
  },
  {
   "cell_type": "code",
   "execution_count": null,
   "id": "1a05c425-1268-4cc1-b616-b103f3fa0dbb",
   "metadata": {},
   "outputs": [],
   "source": [
    "print(X_selected.shape)"
   ]
  },
  {
   "cell_type": "code",
   "execution_count": null,
   "id": "b9b7e459-0f18-470d-9564-8251ebb8237c",
   "metadata": {},
   "outputs": [],
   "source": [
    "X_selected.shape[1]"
   ]
  },
  {
   "cell_type": "code",
   "execution_count": null,
   "id": "a88a8181-306f-4c1f-9c2f-5e3ea4f27966",
   "metadata": {},
   "outputs": [],
   "source": []
  },
  {
   "cell_type": "code",
   "execution_count": null,
   "id": "f5c12642-eb99-4619-b48d-4794a3d565d1",
   "metadata": {},
   "outputs": [],
   "source": [
    "df_rfe_selected = pd.DataFrame(X_selected, columns=['total_bill', 'day', 'time', 'size'])"
   ]
  },
  {
   "cell_type": "code",
   "execution_count": null,
   "id": "280a55e6-70b4-4111-86bf-f2e73475b96f",
   "metadata": {},
   "outputs": [],
   "source": [
    "df_rfe_selected.describe()"
   ]
  },
  {
   "cell_type": "code",
   "execution_count": null,
   "id": "95c37c02-0672-4f54-9641-ad02bb68561f",
   "metadata": {},
   "outputs": [],
   "source": []
  }
 ],
 "metadata": {
  "kernelspec": {
   "display_name": "Python Multi",
   "language": "python",
   "name": "multi"
  },
  "language_info": {
   "codemirror_mode": {
    "name": "ipython",
    "version": 3
   },
   "file_extension": ".py",
   "mimetype": "text/x-python",
   "name": "python",
   "nbconvert_exporter": "python",
   "pygments_lexer": "ipython3",
   "version": "3.7.6"
  }
 },
 "nbformat": 4,
 "nbformat_minor": 5
}
