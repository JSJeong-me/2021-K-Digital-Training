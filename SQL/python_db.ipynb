{
 "cells": [
  {
   "cell_type": "code",
   "execution_count": 1,
   "id": "local-motel",
   "metadata": {},
   "outputs": [
    {
     "name": "stdout",
     "output_type": "stream",
     "text": [
      "C:\\Users\\user\\Desktop\\k-digital\\7-SQL\n"
     ]
    }
   ],
   "source": [
    "!cd"
   ]
  },
  {
   "cell_type": "code",
   "execution_count": null,
   "id": "sudden-fellowship",
   "metadata": {},
   "outputs": [],
   "source": [
    "#!pip install PyMySQL==1.0.0"
   ]
  },
  {
   "cell_type": "code",
   "execution_count": 1,
   "id": "6852b727-9798-41c8-9059-8bf8529c4a41",
   "metadata": {},
   "outputs": [],
   "source": [
    "import pymysql.cursors\n",
    "# Connect to the database"
   ]
  },
  {
   "cell_type": "code",
   "execution_count": 1,
   "id": "0206b3e2-93d3-428c-8225-d66c96141d3c",
   "metadata": {},
   "outputs": [],
   "source": [
    "# localhost or 127.0.0.0"
   ]
  },
  {
   "cell_type": "code",
   "execution_count": 2,
   "id": "34ade9b2-603f-41c5-9642-39da461e3d63",
   "metadata": {},
   "outputs": [
    {
     "name": "stdout",
     "output_type": "stream",
     "text": [
      "[{'total_bill': 39.42}, {'total_bill': 50.81}, {'total_bill': 48.33}]\n"
     ]
    }
   ],
   "source": [
    "connection = pymysql.connect(host='localhost',\n",
    "        user='me',\n",
    "        password='127984',\n",
    "        db='tip',\n",
    "        charset='utf8',\n",
    "        cursorclass=pymysql.cursors.DictCursor)\n",
    "\n",
    "try:\n",
    "    with connection.cursor() as cursor:\n",
    "        # Read a single record\n",
    "        #sql = \"SELECT `id`, `password` FROM `users` WHERE `email`=%s\"\n",
    "        sql = \"SELECT total_bill FROM tip.tips where tip >= 7 ;\"\n",
    "        #sql = \"SELECT count(total_bill) FROM tip.tips where tip >= 7 ;\"\n",
    "        cursor.execute(sql)\n",
    "        result = cursor.fetchall()\n",
    "        print(result)\n",
    "finally:\n",
    "    connection.close()"
   ]
  },
  {
   "cell_type": "code",
   "execution_count": null,
   "id": "faeabc3f-3d06-4e76-9a17-3d0d253b3a3e",
   "metadata": {},
   "outputs": [],
   "source": []
  },
  {
   "cell_type": "code",
   "execution_count": 2,
   "id": "59644cd6-60b4-4e27-baa8-ba5185ec7abf",
   "metadata": {},
   "outputs": [],
   "source": []
  },
  {
   "cell_type": "code",
   "execution_count": 1,
   "id": "rough-monte",
   "metadata": {},
   "outputs": [],
   "source": [
    "import pymysql.cursors\n",
    "import pandas as pd"
   ]
  },
  {
   "cell_type": "code",
   "execution_count": 2,
   "id": "polished-somerset",
   "metadata": {},
   "outputs": [
    {
     "name": "stdout",
     "output_type": "stream",
     "text": [
      "   total_bill\n",
      "0       39.42\n",
      "1       50.81\n",
      "2       48.33\n"
     ]
    }
   ],
   "source": [
    "# MySQL DB에서 데이터 받아와서 DataFrame에 저장\n",
    "\n",
    "conn = pymysql.connect(host='localhost', user='root', \n",
    "                       password='8475', db='tip', charset='utf8',\n",
    "                       autocommit=True, cursorclass=pymysql.cursors.DictCursor)\n",
    "try:\n",
    "\n",
    "   with conn.cursor() as curs:\n",
    "      sql = \"SELECT total_bill FROM tip.tips where tip >= 7 ;\"\n",
    "      curs.execute(sql)\n",
    "      rs = curs.fetchall()\n",
    "\n",
    "      # DB에서 받아온 값을 DataFrame에 넣음\n",
    "\n",
    "      df = pd.DataFrame(rs)\n",
    "      print(df)\n",
    "    \n",
    "    #df.to_csv('query.csv')\n",
    "\n",
    "finally:\n",
    "\n",
    "   conn.close()"
   ]
  },
  {
   "cell_type": "code",
   "execution_count": 3,
   "id": "other-private",
   "metadata": {},
   "outputs": [
    {
     "data": {
      "text/html": [
       "<div>\n",
       "<style scoped>\n",
       "    .dataframe tbody tr th:only-of-type {\n",
       "        vertical-align: middle;\n",
       "    }\n",
       "\n",
       "    .dataframe tbody tr th {\n",
       "        vertical-align: top;\n",
       "    }\n",
       "\n",
       "    .dataframe thead th {\n",
       "        text-align: right;\n",
       "    }\n",
       "</style>\n",
       "<table border=\"1\" class=\"dataframe\">\n",
       "  <thead>\n",
       "    <tr style=\"text-align: right;\">\n",
       "      <th></th>\n",
       "      <th>total_bill</th>\n",
       "    </tr>\n",
       "  </thead>\n",
       "  <tbody>\n",
       "    <tr>\n",
       "      <th>0</th>\n",
       "      <td>39.42</td>\n",
       "    </tr>\n",
       "    <tr>\n",
       "      <th>1</th>\n",
       "      <td>50.81</td>\n",
       "    </tr>\n",
       "    <tr>\n",
       "      <th>2</th>\n",
       "      <td>48.33</td>\n",
       "    </tr>\n",
       "  </tbody>\n",
       "</table>\n",
       "</div>"
      ],
      "text/plain": [
       "   total_bill\n",
       "0       39.42\n",
       "1       50.81\n",
       "2       48.33"
      ]
     },
     "execution_count": 3,
     "metadata": {},
     "output_type": "execute_result"
    }
   ],
   "source": [
    "df"
   ]
  },
  {
   "cell_type": "code",
   "execution_count": 4,
   "id": "987d0cf4-b845-4c57-a1ec-b5279f1887cd",
   "metadata": {},
   "outputs": [
    {
     "data": {
      "text/plain": [
       "0    39.42\n",
       "1    50.81\n",
       "2    48.33\n",
       "Name: total_bill, dtype: float64"
      ]
     },
     "execution_count": 4,
     "metadata": {},
     "output_type": "execute_result"
    }
   ],
   "source": [
    "df. total_bill"
   ]
  },
  {
   "cell_type": "code",
   "execution_count": 5,
   "id": "701e738d-c7ab-4b2b-ad16-d1a6cebe79c3",
   "metadata": {},
   "outputs": [
    {
     "data": {
      "text/plain": [
       "0    39.42\n",
       "1    50.81\n",
       "2    48.33\n",
       "Name: total_bill, dtype: float64"
      ]
     },
     "execution_count": 5,
     "metadata": {},
     "output_type": "execute_result"
    }
   ],
   "source": [
    "df['total_bill']"
   ]
  },
  {
   "cell_type": "code",
   "execution_count": 6,
   "id": "7a77ae9a-6de5-4502-bd94-c1faa8d72526",
   "metadata": {},
   "outputs": [
    {
     "data": {
      "text/plain": [
       "<AxesSubplot:>"
      ]
     },
     "execution_count": 6,
     "metadata": {},
     "output_type": "execute_result"
    },
    {
     "data": {
      "image/png": "[encoded data removed]",
      "text/plain": [
       "<Figure size 432x288 with 1 Axes>"
      ]
     },
     "metadata": {
      "needs_background": "light"
     },
     "output_type": "display_data"
    }
   ],
   "source": [
    "df['total_bill'].hist()"
   ]
  },
  {
   "cell_type": "code",
   "execution_count": null,
   "id": "2ccb85fd-2b37-4622-abae-d83c1c8aa991",
   "metadata": {},
   "outputs": [],
   "source": [
    "# 새출발"
   ]
  },
  {
   "cell_type": "code",
   "execution_count": 1,
   "id": "5df8f9d8-448a-488a-b39c-609be205432c",
   "metadata": {},
   "outputs": [],
   "source": [
    "import pymysql.cursors\n",
    "import pandas as pd"
   ]
  },
  {
   "cell_type": "code",
   "execution_count": 4,
   "id": "972f05cc-4970-4c3b-a84b-c76c0c365957",
   "metadata": {},
   "outputs": [],
   "source": [
    "sql=\"select customers.state, customers.customerName, payments.checkNumber from customers LEFT JOIN payments on customers.customerNumber = payments.customerNumber where payments.paymentDate >= '2004-10-06';\""
   ]
  },
  {
   "cell_type": "code",
   "execution_count": 6,
   "id": "59d5c7c6-1403-45c8-a441-b52608e84e82",
   "metadata": {},
   "outputs": [
    {
     "name": "stdout",
     "output_type": "stream",
     "text": [
      "       state                  customerName checkNumber\n",
      "0       None             Atelier graphique    HQ336336\n",
      "1       None             Atelier graphique    OM314933\n",
      "2         NV            Signal Gift Stores    BO864823\n",
      "3   Victoria    Australian Collectors, Co.    MA765515\n",
      "4       None             La Rochelle Gifts    DB933704\n",
      "..       ...                           ...         ...\n",
      "84        MA              FunGiftIdeas.com    PE176846\n",
      "85      None    Iberia Gift Imports, Corp.    GK294076\n",
      "86        PA  Motor Mint Distributors Inc.     HS86661\n",
      "87      None             Kelly's Gift Shop    EU531600\n",
      "88      None             Kelly's Gift Shop     MN89921\n",
      "\n",
      "[89 rows x 3 columns]\n"
     ]
    }
   ],
   "source": [
    "conn = pymysql.connect(host='localhost', user='root', \n",
    "                       password='8475', db='classicmodels', charset='utf8',\n",
    "                       autocommit=True, cursorclass=pymysql.cursors.DictCursor)\n",
    "try:\n",
    "\n",
    "   with conn.cursor() as curs:\n",
    "      #sql = \"SELECT total_bill FROM tip.tips where tip >= 7 ;\"\n",
    "      curs.execute(sql)\n",
    "      rs = curs.fetchall()\n",
    "\n",
    "      # DB에서 받아온 값을 DataFrame에 넣음\n",
    "\n",
    "      df = pd.DataFrame(rs)\n",
    "      print(df)\n",
    "\n",
    "finally:\n",
    "\n",
    "   conn.close()"
   ]
  },
  {
   "cell_type": "code",
   "execution_count": 7,
   "id": "370addf9-0d42-4003-8066-af8f41abce22",
   "metadata": {},
   "outputs": [
    {
     "name": "stdout",
     "output_type": "stream",
     "text": [
      "C:\\Users\\i\\Desktop\\2021-K-Digital-Training-main\\SQL\n"
     ]
    }
   ],
   "source": [
    "!cd"
   ]
  },
  {
   "cell_type": "code",
   "execution_count": 8,
   "id": "18477dfd-0511-4901-b3f3-060c390d04f3",
   "metadata": {},
   "outputs": [],
   "source": [
    "df.to_csv('query_car.csv')"
   ]
  },
  {
   "cell_type": "code",
   "execution_count": null,
   "id": "f9a60ad4-5a0b-41f6-ad2e-b54e504dc9dc",
   "metadata": {},
   "outputs": [],
   "source": []
  }
 ],
 "metadata": {
  "kernelspec": {
   "display_name": "Python Multi",
   "language": "python",
   "name": "multi"
  },
  "language_info": {
   "codemirror_mode": {
    "name": "ipython",
    "version": 3
   },
   "file_extension": ".py",
   "mimetype": "text/x-python",
   "name": "python",
   "nbconvert_exporter": "python",
   "pygments_lexer": "ipython3",
   "version": "3.7.6"
  }
 },
 "nbformat": 4,
 "nbformat_minor": 5
}
