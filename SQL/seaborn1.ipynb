{
 "cells": [
  {
   "cell_type": "code",
   "execution_count": null,
   "id": "699fd5b7-b841-4aeb-a99a-79d52fc49e55",
   "metadata": {},
   "outputs": [],
   "source": [
    "import seaborn as sns"
   ]
  },
  {
   "cell_type": "code",
   "execution_count": null,
   "id": "426f4611-9b2b-421f-9d28-02c6079d394d",
   "metadata": {},
   "outputs": [],
   "source": [
    "penguins = sns.load_dataset(\"penguins\")"
   ]
  },
  {
   "cell_type": "code",
   "execution_count": null,
   "id": "3dc6bb16-eac0-4b98-af7e-50c945c374ce",
   "metadata": {},
   "outputs": [],
   "source": [
    "penguins.groupby('species').count()"
   ]
  },
  {
   "cell_type": "code",
   "execution_count": null,
   "id": "613fd4ea-fe14-4954-8ed5-c0b549a12919",
   "metadata": {},
   "outputs": [],
   "source": [
    "sns.histplot(data=penguins, x=\"flipper_length_mm\", hue=\"species\", multiple=\"stack\")"
   ]
  },
  {
   "cell_type": "code",
   "execution_count": null,
   "id": "530cab04-a871-4ea1-9d35-00af273ad261",
   "metadata": {},
   "outputs": [],
   "source": [
    "sns.kdeplot(data=penguins, x=\"flipper_length_mm\", hue=\"species\", multiple=\"stack\")"
   ]
  },
  {
   "cell_type": "code",
   "execution_count": null,
   "id": "5a707d80-8501-4343-9bc6-b1dd51eb2656",
   "metadata": {},
   "outputs": [],
   "source": [
    "sns.displot(data=penguins, x=\"flipper_length_mm\", hue=\"species\", multiple=\"stack\")"
   ]
  },
  {
   "cell_type": "code",
   "execution_count": null,
   "id": "d6c86eab-51e9-4209-b2e8-c895012b7175",
   "metadata": {},
   "outputs": [],
   "source": [
    "sns.displot(data=penguins, x=\"flipper_length_mm\", hue=\"species\", col=\"species\")"
   ]
  },
  {
   "cell_type": "code",
   "execution_count": null,
   "id": "5590c521-0949-4b12-84c6-8f3df687a559",
   "metadata": {},
   "outputs": [],
   "source": []
  }
 ],
 "metadata": {
  "kernelspec": {
   "display_name": "Python Multi",
   "language": "python",
   "name": "multi"
  },
  "language_info": {
   "codemirror_mode": {
    "name": "ipython",
    "version": 3
   },
   "file_extension": ".py",
   "mimetype": "text/x-python",
   "name": "python",
   "nbconvert_exporter": "python",
   "pygments_lexer": "ipython3",
   "version": "3.7.6"
  }
 },
 "nbformat": 4,
 "nbformat_minor": 5
}
